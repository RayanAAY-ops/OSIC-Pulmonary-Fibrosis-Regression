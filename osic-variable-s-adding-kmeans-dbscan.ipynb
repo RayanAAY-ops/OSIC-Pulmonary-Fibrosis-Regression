{
 "cells": [
  {
   "cell_type": "markdown",
   "execution_count": null,
   "metadata": {
    "papermill": {
     "duration": 0.013598,
     "end_time": "2020-08-09T11:49:11.579569",
     "exception": false,
     "start_time": "2020-08-09T11:49:11.565971",
     "status": "completed"
    },
    "tags": []
   },
   "source": [
    "Reference to this excellent notebook:\n",
    "\n",
    "https://www.kaggle.com/jagadish13/osic-baseline-elasticnet-eda\n",
    "\n",
    "I highly recommand read it\n",
    "\n"
   ]
  },
  {
   "cell_type": "markdown",
   "execution_count": null,
   "metadata": {
    "papermill": {
     "duration": 0.011165,
     "end_time": "2020-08-09T11:49:11.602579",
     "exception": false,
     "start_time": "2020-08-09T11:49:11.591414",
     "status": "completed"
    },
    "tags": []
   },
   "source": [
    "## Load Libraries\n"
   ]
  },
  {
   "cell_type": "code",
   "execution_count": 1,
   "metadata": {
    "_cell_guid": "b1076dfc-b9ad-4769-8c92-a6c4dae69d19",
    "_uuid": "8f2839f25d086af736a60e9eeb907d3b93b6e0e5",
    "execution": {
     "iopub.execute_input": "2020-08-09T11:49:11.636541Z",
     "iopub.status.busy": "2020-08-09T11:49:11.635547Z",
     "iopub.status.idle": "2020-08-09T11:49:14.288300Z",
     "shell.execute_reply": "2020-08-09T11:49:14.287510Z"
    },
    "papermill": {
     "duration": 2.674127,
     "end_time": "2020-08-09T11:49:14.288443",
     "exception": false,
     "start_time": "2020-08-09T11:49:11.614316",
     "status": "completed"
    },
    "tags": []
   },
   "outputs": [],
   "source": [
    "import numpy as np\n",
    "import pandas as pd\n",
    "import pydicom\n",
    "import os\n",
    "import random\n",
    "import matplotlib.pyplot as plt\n",
    "from tqdm import tqdm\n",
    "from PIL import Image\n",
    "from sklearn.metrics import mean_absolute_error\n",
    "from sklearn.model_selection import KFold\n",
    "import tensorflow as tf\n",
    "import tensorflow.keras.backend as K\n",
    "import tensorflow.keras.layers as L\n",
    "import tensorflow.keras.models as M\n",
    "\n",
    "import warnings\n",
    "warnings.filterwarnings(\"ignore\")\n",
    "import seaborn as sns\n",
    "import matplotlib.pyplot as plt\n",
    "from plotly.subplots import make_subplots\n",
    "import plotly.express as px\n",
    "import plotly.graph_objects as go"
   ]
  },
  {
   "cell_type": "markdown",
   "execution_count": null,
   "metadata": {
    "papermill": {
     "duration": 0.01105,
     "end_time": "2020-08-09T11:49:14.313082",
     "exception": false,
     "start_time": "2020-08-09T11:49:14.302032",
     "status": "completed"
    },
    "tags": []
   },
   "source": [
    "## Useful functions"
   ]
  },
  {
   "cell_type": "code",
   "execution_count": 2,
   "metadata": {
    "execution": {
     "iopub.execute_input": "2020-08-09T11:49:14.357889Z",
     "iopub.status.busy": "2020-08-09T11:49:14.356743Z",
     "iopub.status.idle": "2020-08-09T11:49:14.359732Z",
     "shell.execute_reply": "2020-08-09T11:49:14.360270Z"
    },
    "papermill": {
     "duration": 0.03591,
     "end_time": "2020-08-09T11:49:14.360442",
     "exception": false,
     "start_time": "2020-08-09T11:49:14.324532",
     "status": "completed"
    },
    "tags": []
   },
   "outputs": [],
   "source": [
    "def seed_everything(seed=2020):\n",
    "    random.seed(seed)\n",
    "    os.environ['PYTHONHASHSEED'] = str(seed)\n",
    "    np.random.seed(seed)\n",
    "    tf.random.set_seed(seed)\n",
    "    \n",
    "seed_everything(42)\n",
    "\n",
    "def score(y_true, y_pred):\n",
    "    tf.dtypes.cast(y_true, tf.float32)\n",
    "    tf.dtypes.cast(y_pred, tf.float32)\n",
    "    sigma = y_pred[:, 2] - y_pred[:, 0]\n",
    "    fvc_pred = y_pred[:, 1]\n",
    "    \n",
    "    #sigma_clip = sigma + C1\n",
    "    sigma_clip = tf.maximum(sigma, C1)\n",
    "    delta = tf.abs(y_true[:, 0] - fvc_pred)\n",
    "    delta = tf.minimum(delta, C2)\n",
    "    sq2 = tf.sqrt( tf.dtypes.cast(2, dtype=tf.float32) )\n",
    "    metric = (delta / sigma_clip)*sq2 + tf.math.log(sigma_clip* sq2)\n",
    "    return K.mean(metric)\n",
    "#============================#\n",
    "def qloss(y_true, y_pred):\n",
    "    # Pinball loss for multiple quantiles\n",
    "    qs = [0.2, 0.50, 0.8]\n",
    "    q = tf.constant(np.array([qs]), dtype=tf.float32)\n",
    "    e = y_true - y_pred\n",
    "    v = tf.maximum(q*e, (q-1)*e)\n",
    "    return K.mean(v)\n",
    "#=============================#\n",
    "def mloss(_lambda):\n",
    "    def loss(y_true, y_pred):\n",
    "        return _lambda * qloss(y_true, y_pred) + (1 - _lambda)*score(y_true, y_pred)\n",
    "    return loss\n",
    "#================="
   ]
  },
  {
   "cell_type": "code",
   "execution_count": 3,
   "metadata": {
    "execution": {
     "iopub.execute_input": "2020-08-09T11:49:14.389663Z",
     "iopub.status.busy": "2020-08-09T11:49:14.388684Z",
     "iopub.status.idle": "2020-08-09T11:49:14.391950Z",
     "shell.execute_reply": "2020-08-09T11:49:14.391056Z"
    },
    "papermill": {
     "duration": 0.019962,
     "end_time": "2020-08-09T11:49:14.392095",
     "exception": false,
     "start_time": "2020-08-09T11:49:14.372133",
     "status": "completed"
    },
    "tags": []
   },
   "outputs": [],
   "source": [
    "ROOT = \"../input/osic-pulmonary-fibrosis-progression\"\n"
   ]
  },
  {
   "cell_type": "markdown",
   "execution_count": null,
   "metadata": {
    "papermill": {
     "duration": 0.011602,
     "end_time": "2020-08-09T11:49:14.415701",
     "exception": false,
     "start_time": "2020-08-09T11:49:14.404099",
     "status": "completed"
    },
    "tags": []
   },
   "source": [
    "## Read and load data"
   ]
  },
  {
   "cell_type": "code",
   "execution_count": 4,
   "metadata": {
    "execution": {
     "iopub.execute_input": "2020-08-09T11:49:14.452489Z",
     "iopub.status.busy": "2020-08-09T11:49:14.451665Z",
     "iopub.status.idle": "2020-08-09T11:49:14.520300Z",
     "shell.execute_reply": "2020-08-09T11:49:14.521251Z"
    },
    "papermill": {
     "duration": 0.093925,
     "end_time": "2020-08-09T11:49:14.521482",
     "exception": false,
     "start_time": "2020-08-09T11:49:14.427557",
     "status": "completed"
    },
    "tags": []
   },
   "outputs": [
    {
     "name": "stdout",
     "output_type": "stream",
     "text": [
      "add infos\n"
     ]
    }
   ],
   "source": [
    "train = pd.read_csv(f\"{ROOT}/train.csv\")\n",
    "train.drop_duplicates(keep=False, inplace=True, subset=['Patient','Weeks'])\n",
    "test = pd.read_csv(f\"{ROOT}/test.csv\")\n",
    "\n",
    "print(\"add infos\")\n",
    "sub = pd.read_csv(f\"{ROOT}/sample_submission.csv\")\n",
    "sub['Patient'] = sub['Patient_Week'].apply(lambda x:x.split('_')[0])\n",
    "sub['Weeks'] = sub['Patient_Week'].apply(lambda x: int(x.split('_')[-1]))\n",
    "sub =  sub[['Patient','Weeks','Confidence','Patient_Week']]\n",
    "sub = sub.merge(test.drop('Weeks', axis=1), on=\"Patient\")"
   ]
  },
  {
   "cell_type": "code",
   "execution_count": 5,
   "metadata": {
    "execution": {
     "iopub.execute_input": "2020-08-09T11:49:14.557606Z",
     "iopub.status.busy": "2020-08-09T11:49:14.556122Z",
     "iopub.status.idle": "2020-08-09T11:49:14.568830Z",
     "shell.execute_reply": "2020-08-09T11:49:14.568026Z"
    },
    "papermill": {
     "duration": 0.03478,
     "end_time": "2020-08-09T11:49:14.568970",
     "exception": false,
     "start_time": "2020-08-09T11:49:14.534190",
     "status": "completed"
    },
    "tags": []
   },
   "outputs": [],
   "source": [
    "## Add reference to the concatenated data\n",
    "train['WHERE'] = 'train'\n",
    "test['WHERE'] = 'val'\n",
    "sub['WHERE'] = 'test'\n",
    "data = train.append([test, sub])"
   ]
  },
  {
   "cell_type": "markdown",
   "execution_count": null,
   "metadata": {
    "papermill": {
     "duration": 0.011355,
     "end_time": "2020-08-09T11:49:14.593966",
     "exception": false,
     "start_time": "2020-08-09T11:49:14.582611",
     "status": "completed"
    },
    "tags": []
   },
   "source": [
    "## Add Variables"
   ]
  },
  {
   "cell_type": "code",
   "execution_count": 6,
   "metadata": {
    "execution": {
     "iopub.execute_input": "2020-08-09T11:49:14.629449Z",
     "iopub.status.busy": "2020-08-09T11:49:14.628614Z",
     "iopub.status.idle": "2020-08-09T11:49:14.643986Z",
     "shell.execute_reply": "2020-08-09T11:49:14.643105Z"
    },
    "papermill": {
     "duration": 0.038226,
     "end_time": "2020-08-09T11:49:14.644143",
     "exception": false,
     "start_time": "2020-08-09T11:49:14.605917",
     "status": "completed"
    },
    "tags": []
   },
   "outputs": [],
   "source": [
    "data['min_week'] = data['Weeks']\n",
    "data.loc[data.WHERE=='test','min_week'] = np.nan\n",
    "data['min_week'] = data.groupby('Patient')['min_week'].transform('min')"
   ]
  },
  {
   "cell_type": "code",
   "execution_count": 7,
   "metadata": {
    "execution": {
     "iopub.execute_input": "2020-08-09T11:49:14.690094Z",
     "iopub.status.busy": "2020-08-09T11:49:14.689205Z",
     "iopub.status.idle": "2020-08-09T11:49:14.693059Z",
     "shell.execute_reply": "2020-08-09T11:49:14.692229Z"
    },
    "papermill": {
     "duration": 0.036982,
     "end_time": "2020-08-09T11:49:14.693199",
     "exception": false,
     "start_time": "2020-08-09T11:49:14.656217",
     "status": "completed"
    },
    "tags": []
   },
   "outputs": [],
   "source": [
    "base = data.loc[data.Weeks == data.min_week]\n",
    "base = base[['Patient','FVC']].copy()\n",
    "base.columns = ['Patient','min_FVC']\n",
    "base['nb'] = 1\n",
    "base['nb'] = base.groupby('Patient')['nb'].transform('cumsum')\n",
    "base = base[base.nb==1]\n",
    "base.drop('nb', axis=1, inplace=True)"
   ]
  },
  {
   "cell_type": "code",
   "execution_count": 8,
   "metadata": {
    "execution": {
     "iopub.execute_input": "2020-08-09T11:49:14.733924Z",
     "iopub.status.busy": "2020-08-09T11:49:14.728777Z",
     "iopub.status.idle": "2020-08-09T11:49:14.772334Z",
     "shell.execute_reply": "2020-08-09T11:49:14.771528Z"
    },
    "papermill": {
     "duration": 0.067128,
     "end_time": "2020-08-09T11:49:14.772466",
     "exception": false,
     "start_time": "2020-08-09T11:49:14.705338",
     "status": "completed"
    },
    "tags": []
   },
   "outputs": [],
   "source": [
    "data = data.merge(base, on='Patient', how='left')\n",
    "data['base_week'] = data['Weeks'] - data['min_week']\n",
    "del base"
   ]
  },
  {
   "cell_type": "code",
   "execution_count": 9,
   "metadata": {
    "execution": {
     "iopub.execute_input": "2020-08-09T11:49:14.805592Z",
     "iopub.status.busy": "2020-08-09T11:49:14.804740Z",
     "iopub.status.idle": "2020-08-09T11:49:14.808394Z",
     "shell.execute_reply": "2020-08-09T11:49:14.807720Z"
    },
    "papermill": {
     "duration": 0.023737,
     "end_time": "2020-08-09T11:49:14.808519",
     "exception": false,
     "start_time": "2020-08-09T11:49:14.784782",
     "status": "completed"
    },
    "tags": []
   },
   "outputs": [],
   "source": [
    "from sklearn.preprocessing import LabelEncoder\n",
    "lb =LabelEncoder()\n",
    "data[\"Sex\"] = lb.fit_transform(data[\"Sex\"])"
   ]
  },
  {
   "cell_type": "code",
   "execution_count": 10,
   "metadata": {
    "execution": {
     "iopub.execute_input": "2020-08-09T11:49:14.853150Z",
     "iopub.status.busy": "2020-08-09T11:49:14.852286Z",
     "iopub.status.idle": "2020-08-09T11:49:14.855339Z",
     "shell.execute_reply": "2020-08-09T11:49:14.855911Z"
    },
    "papermill": {
     "duration": 0.035207,
     "end_time": "2020-08-09T11:49:14.856103",
     "exception": false,
     "start_time": "2020-08-09T11:49:14.820896",
     "status": "completed"
    },
    "tags": []
   },
   "outputs": [],
   "source": [
    "FE = []\n",
    "\n",
    "\n",
    "data['age'] = (data['Age'] - data['Age'].min() ) / ( data['Age'].max() - data['Age'].min() )\n",
    "data['BASE'] = (data['min_FVC'] - data['min_FVC'].min() ) / ( data['min_FVC'].max() - data['min_FVC'].min() )\n",
    "data['week'] = (data['base_week'] - data['base_week'].min() ) / ( data['base_week'].max() - data['base_week'].min() )\n",
    "data['percent'] = (data['Percent'] - data['Percent'].min() ) / ( data['Percent'].max() - data['Percent'].min() )\n",
    "FE += ['Sex','age','percent','week','BASE']"
   ]
  },
  {
   "cell_type": "markdown",
   "execution_count": null,
   "metadata": {
    "papermill": {
     "duration": 0.011911,
     "end_time": "2020-08-09T11:49:14.880207",
     "exception": false,
     "start_time": "2020-08-09T11:49:14.868296",
     "status": "completed"
    },
    "tags": []
   },
   "source": [
    "## Use k-means Segmentation to create a cluster variable"
   ]
  },
  {
   "cell_type": "code",
   "execution_count": 11,
   "metadata": {
    "execution": {
     "iopub.execute_input": "2020-08-09T11:49:14.919492Z",
     "iopub.status.busy": "2020-08-09T11:49:14.918658Z",
     "iopub.status.idle": "2020-08-09T11:49:24.884827Z",
     "shell.execute_reply": "2020-08-09T11:49:24.885412Z"
    },
    "papermill": {
     "duration": 9.993016,
     "end_time": "2020-08-09T11:49:24.885592",
     "exception": false,
     "start_time": "2020-08-09T11:49:14.892576",
     "status": "completed"
    },
    "tags": []
   },
   "outputs": [
    {
     "data": {
      "image/png": "[encoded data removed]",
      "text/plain": [
       "<Figure size 1080x432 with 1 Axes>"
      ]
     },
     "metadata": {},
     "output_type": "display_data"
    }
   ],
   "source": [
    "\n",
    "\n",
    "from sklearn.preprocessing import StandardScaler\n",
    "std = StandardScaler()\n",
    "\n",
    "features_scaled  =data[[\"age\",\"percent\",'Sex',\"BASE\"]]\n",
    "\n",
    "from sklearn.cluster import DBSCAN, KMeans\n",
    "## all data normalized\n",
    "inertia = []\n",
    "for n in range(1 , 10):\n",
    "    algorithm = (KMeans(n_clusters = n ,init='k-means++', n_init = 100 ,max_iter=3000, \n",
    "                        tol=0.0001,  random_state= 111  , algorithm='elkan') )\n",
    "    algorithm.fit(features_scaled)\n",
    "    inertia.append(algorithm.inertia_)\n",
    "sns.set()\n",
    "plt.figure(1 , figsize = (15 ,6))\n",
    "plt.plot(np.arange(1 , 10) , inertia , 'o')\n",
    "plt.plot(np.arange(1 , 10) , inertia , '-' , alpha = 0.5)\n",
    "plt.xlabel('Number of Clusters') , plt.ylabel('Inertia')\n",
    "plt.show()"
   ]
  },
  {
   "cell_type": "markdown",
   "execution_count": null,
   "metadata": {
    "papermill": {
     "duration": 0.012601,
     "end_time": "2020-08-09T11:49:24.911042",
     "exception": false,
     "start_time": "2020-08-09T11:49:24.898441",
     "status": "completed"
    },
    "tags": []
   },
   "source": [
    "## Silhouette Score"
   ]
  },
  {
   "cell_type": "code",
   "execution_count": 12,
   "metadata": {
    "execution": {
     "iopub.execute_input": "2020-08-09T11:49:24.945493Z",
     "iopub.status.busy": "2020-08-09T11:49:24.944608Z",
     "iopub.status.idle": "2020-08-09T11:49:26.813011Z",
     "shell.execute_reply": "2020-08-09T11:49:26.813761Z"
    },
    "papermill": {
     "duration": 1.890345,
     "end_time": "2020-08-09T11:49:26.813982",
     "exception": false,
     "start_time": "2020-08-09T11:49:24.923637",
     "status": "completed"
    },
    "tags": []
   },
   "outputs": [
    {
     "name": "stdout",
     "output_type": "stream",
     "text": [
      "For n_clusters=2, the silhouette score is 0.7322953019957463\n",
      "For n_clusters=3, the silhouette score is 0.4423861814882293\n",
      "For n_clusters=4, the silhouette score is 0.4633062382406983\n",
      "For n_clusters=5, the silhouette score is 0.4287799797179187\n",
      "For n_clusters=6, the silhouette score is 0.3679811165976204\n",
      "For n_clusters=7, the silhouette score is 0.3726090657288234\n",
      "For n_clusters=8, the silhouette score is 0.3901200252727417\n",
      "For n_clusters=9, the silhouette score is 0.40456768136677496\n"
     ]
    }
   ],
   "source": [
    "range_n_clusters = [2,3,4,5,6,7,8,9]\n",
    "from sklearn.metrics import silhouette_score\n",
    "\n",
    "for num_clusters in range_n_clusters:\n",
    "    \n",
    "    # intialise kmeans\n",
    "    kmeans = KMeans(n_clusters=num_clusters, max_iter=90)\n",
    "    kmeans.fit(features_scaled)\n",
    "    \n",
    "    cluster_labels = kmeans.labels_\n",
    "    \n",
    "    # silhouette score\n",
    "    silhouette_avg = silhouette_score(features_scaled, cluster_labels)\n",
    "    print(\"For n_clusters={0}, the silhouette score is {1}\".format(num_clusters, silhouette_avg))\n",
    "\n"
   ]
  },
  {
   "cell_type": "code",
   "execution_count": 13,
   "metadata": {
    "execution": {
     "iopub.execute_input": "2020-08-09T11:49:26.855210Z",
     "iopub.status.busy": "2020-08-09T11:49:26.854035Z",
     "iopub.status.idle": "2020-08-09T11:49:26.895939Z",
     "shell.execute_reply": "2020-08-09T11:49:26.896772Z"
    },
    "papermill": {
     "duration": 0.066605,
     "end_time": "2020-08-09T11:49:26.896998",
     "exception": false,
     "start_time": "2020-08-09T11:49:26.830393",
     "status": "completed"
    },
    "tags": []
   },
   "outputs": [],
   "source": [
    "kmeans = KMeans(n_clusters=2, max_iter=3000)\n",
    "kmeans.fit(features_scaled)\n",
    "    \n",
    "\n",
    "features_scaled[\"Cluster_Id\"] =kmeans.labels_\n",
    "features_scaled[\"FVC\"] =data[\"FVC\"]"
   ]
  },
  {
   "cell_type": "markdown",
   "execution_count": null,
   "metadata": {
    "papermill": {
     "duration": 0.017307,
     "end_time": "2020-08-09T11:49:26.931777",
     "exception": false,
     "start_time": "2020-08-09T11:49:26.914470",
     "status": "completed"
    },
    "tags": []
   },
   "source": [
    "## 3-D Visualisation"
   ]
  },
  {
   "cell_type": "code",
   "execution_count": 14,
   "metadata": {
    "execution": {
     "iopub.execute_input": "2020-08-09T11:49:26.976874Z",
     "iopub.status.busy": "2020-08-09T11:49:26.975679Z",
     "iopub.status.idle": "2020-08-09T11:49:28.480062Z",
     "shell.execute_reply": "2020-08-09T11:49:28.480700Z"
    },
    "papermill": {
     "duration": 1.530949,
     "end_time": "2020-08-09T11:49:28.480882",
     "exception": false,
     "start_time": "2020-08-09T11:49:26.949933",
     "status": "completed"
    },
    "tags": []
   },
   "outputs": [
    {
     "data": {
      "text/html": [
       "        <script type=\"text/javascript\">\n",
       "        window.PlotlyConfig = {MathJaxConfig: 'local'};\n",
       "        if (window.MathJax) {MathJax.Hub.Config({SVG: {font: \"STIX-Web\"}});}\n",
       "        if (typeof require !== 'undefined') {\n",
       "        require.undef(\"plotly\");\n",
       "        requirejs.config({\n",
       "            paths: {\n",
       "                'plotly': ['https://cdn.plot.ly/plotly-latest.min']\n",
       "            }\n",
       "        });\n",
       "        require(['plotly'], function(Plotly) {\n",
       "            window._Plotly = Plotly;\n",
       "        });\n",
       "        }\n",
       "        </script>\n",
       "        "
      ]
     },
     "metadata": {},
     "output_type": "display_data"
    },
    {
     "data": {
      "text/html": [
       "<div>\n",
       "        \n",
       "        \n",
       "            <div id=\"e63184bf-1b5e-4f02-9763-e4920aa14722\" class=\"plotly-graph-div\" style=\"height:525px; width:100%;\"></div>\n",
       "            <script type=\"text/javascript\">\n",
       "                require([\"plotly\"], function(Plotly) {\n",
       "                    window.PLOTLYENV=window.PLOTLYENV || {};\n",
       "                    \n",
       "                if (document.getElementById(\"e63184bf-1b5e-4f02-9763-e4920aa14722\")) {\n",
       "                    Plotly.newPlot(\n",
       "                        'e63184bf-1b5e-4f02-9763-e4920aa14722',\n",
       "                        [{\"hovertemplate\": \"percent=%{x}<br>FVC=%{y}<br>BASE=%{z}<br>Cluster_Id=%{marker.color}<extra></extra>\", \"legendgroup\": \"\", \"marker\": {\"color\": [0, 0, 0, 0, 0, 0, 0, 0, 0, 0, 0, 0, 0, 0, 0, 0, 0, 0, 0, 0, 0, 0, 0, 0, 0, 0, 0, 0, 0, 0, 0, 0, 0, 0, 0, 0, 0, 0, 0, 0, 0, 0, 0, 0, 0, 0, 0, 0, 0, 0, 0, 0, 0, 0, 0, 0, 0, 0, 0, 0, 0, 0, 1, 1, 1, 1, 1, 1, 1, 1, 1, 1, 1, 1, 1, 1, 1, 1, 1, 1, 1, 1, 1, 1, 1, 1, 1, 1, 1, 0, 0, 0, 0, 0, 0, 0, 0, 0, 0, 0, 0, 0, 0, 0, 0, 0, 0, 0, 0, 0, 0, 0, 0, 0, 0, 0, 0, 0, 0, 0, 0, 0, 0, 0, 0, 0, 0, 0, 0, 0, 0, 0, 0, 0, 0, 0, 0, 0, 0, 0, 0, 0, 0, 0, 0, 0, 0, 0, 0, 0, 0, 0, 0, 0, 0, 0, 0, 0, 0, 0, 0, 0, 0, 0, 0, 0, 1, 1, 1, 1, 1, 1, 1, 1, 1, 1, 1, 1, 1, 1, 1, 1, 0, 0, 0, 0, 0, 0, 0, 0, 0, 0, 0, 0, 0, 0, 0, 0, 0, 0, 0, 0, 0, 0, 0, 0, 0, 0, 0, 0, 0, 0, 0, 0, 0, 0, 0, 0, 0, 0, 0, 0, 0, 0, 0, 0, 0, 0, 0, 0, 0, 0, 0, 0, 0, 0, 0, 0, 0, 0, 0, 0, 0, 0, 0, 0, 0, 0, 1, 1, 1, 1, 1, 1, 1, 1, 1, 0, 0, 0, 0, 0, 0, 0, 0, 0, 0, 0, 0, 0, 0, 0, 0, 0, 0, 1, 1, 1, 1, 1, 1, 1, 1, 1, 1, 1, 1, 1, 1, 1, 1, 1, 1, 1, 1, 1, 1, 1, 1, 1, 1, 1, 0, 0, 0, 0, 0, 0, 0, 0, 0, 0, 0, 0, 0, 0, 0, 0, 0, 0, 0, 0, 0, 0, 0, 0, 0, 0, 0, 0, 0, 0, 0, 0, 0, 0, 0, 0, 0, 0, 0, 0, 0, 0, 0, 0, 0, 0, 0, 0, 0, 0, 0, 0, 0, 0, 0, 0, 0, 0, 0, 0, 0, 0, 0, 0, 0, 0, 0, 0, 0, 0, 0, 0, 0, 0, 0, 0, 0, 0, 0, 0, 0, 0, 0, 0, 0, 0, 0, 0, 0, 0, 0, 0, 0, 0, 0, 0, 0, 0, 0, 0, 0, 0, 0, 0, 0, 0, 0, 0, 0, 0, 0, 0, 0, 0, 0, 0, 0, 0, 0, 0, 0, 0, 0, 0, 0, 0, 0, 0, 0, 0, 0, 0, 0, 0, 0, 0, 0, 0, 0, 1, 1, 1, 1, 1, 1, 1, 1, 1, 0, 0, 0, 0, 0, 0, 0, 0, 0, 0, 0, 0, 0, 0, 0, 0, 0, 0, 0, 0, 0, 0, 0, 0, 1, 1, 1, 1, 1, 1, 1, 1, 1, 1, 1, 1, 1, 1, 1, 1, 0, 0, 0, 0, 0, 0, 0, 0, 0, 1, 1, 1, 1, 1, 1, 1, 1, 1, 0, 0, 0, 0, 0, 0, 0, 0, 0, 0, 0, 0, 0, 0, 0, 0, 0, 0, 0, 0, 0, 0, 0, 0, 0, 0, 0, 0, 0, 0, 0, 0, 0, 0, 0, 0, 0, 0, 0, 0, 0, 0, 0, 0, 0, 0, 0, 0, 0, 0, 0, 0, 0, 0, 0, 0, 0, 0, 0, 0, 0, 0, 0, 0, 0, 0, 0, 0, 0, 0, 0, 0, 0, 0, 0, 0, 0, 0, 0, 0, 0, 0, 1, 1, 1, 1, 1, 1, 1, 1, 1, 0, 0, 0, 0, 0, 0, 0, 0, 0, 0, 0, 0, 0, 0, 0, 0, 0, 0, 0, 0, 0, 0, 0, 0, 0, 0, 0, 0, 0, 0, 0, 0, 0, 0, 0, 0, 0, 1, 1, 1, 1, 1, 1, 1, 1, 1, 1, 1, 1, 1, 1, 1, 1, 1, 1, 0, 0, 0, 0, 0, 0, 0, 0, 0, 0, 0, 0, 0, 0, 0, 0, 0, 0, 0, 0, 0, 0, 0, 0, 0, 0, 0, 0, 0, 0, 0, 0, 0, 0, 0, 0, 0, 0, 0, 0, 0, 0, 0, 0, 0, 0, 0, 0, 0, 0, 0, 0, 0, 0, 0, 0, 0, 0, 0, 0, 0, 1, 1, 1, 1, 1, 1, 1, 1, 1, 0, 0, 0, 0, 0, 0, 0, 0, 0, 0, 0, 0, 0, 0, 0, 0, 0, 0, 0, 0, 0, 0, 0, 0, 0, 0, 0, 0, 0, 0, 0, 0, 0, 0, 0, 0, 0, 0, 0, 0, 0, 0, 0, 0, 0, 0, 0, 0, 0, 0, 0, 0, 0, 0, 0, 0, 0, 0, 0, 0, 0, 0, 0, 0, 0, 0, 0, 0, 0, 0, 0, 0, 0, 0, 0, 0, 0, 0, 0, 0, 0, 0, 0, 0, 0, 0, 0, 0, 0, 0, 0, 0, 0, 0, 0, 0, 0, 1, 1, 1, 1, 1, 1, 1, 1, 1, 0, 0, 0, 0, 0, 0, 0, 0, 0, 0, 0, 0, 0, 0, 0, 0, 0, 0, 1, 1, 1, 1, 1, 1, 1, 1, 1, 1, 1, 1, 1, 1, 1, 1, 1, 0, 0, 0, 0, 0, 0, 0, 0, 0, 0, 1, 1, 1, 1, 1, 1, 1, 1, 1, 0, 0, 0, 0, 0, 0, 0, 0, 0, 0, 0, 0, 0, 0, 0, 0, 0, 0, 0, 0, 0, 0, 0, 0, 0, 0, 0, 0, 0, 0, 0, 0, 0, 1, 1, 1, 1, 1, 1, 1, 1, 1, 0, 0, 0, 0, 0, 0, 0, 0, 0, 1, 1, 1, 1, 1, 1, 1, 1, 1, 0, 0, 0, 0, 0, 0, 0, 0, 0, 0, 0, 0, 0, 0, 0, 0, 0, 1, 1, 1, 1, 1, 1, 1, 1, 1, 1, 1, 1, 1, 1, 1, 1, 1, 1, 1, 1, 1, 1, 0, 0, 0, 0, 0, 0, 0, 0, 0, 1, 1, 1, 1, 1, 1, 1, 1, 1, 0, 0, 0, 0, 0, 0, 0, 0, 0, 0, 0, 0, 0, 0, 0, 0, 0, 0, 0, 0, 0, 0, 0, 0, 0, 1, 1, 1, 1, 1, 1, 1, 1, 1, 1, 1, 1, 1, 1, 1, 1, 1, 0, 0, 0, 0, 0, 0, 0, 0, 0, 0, 0, 0, 0, 0, 0, 0, 0, 0, 0, 0, 0, 0, 0, 0, 0, 0, 0, 0, 0, 0, 0, 0, 0, 0, 1, 1, 1, 1, 1, 1, 1, 1, 1, 0, 0, 0, 0, 0, 0, 0, 0, 0, 0, 0, 0, 0, 0, 0, 0, 0, 0, 0, 0, 0, 0, 0, 0, 0, 0, 0, 0, 0, 0, 0, 0, 0, 0, 0, 0, 1, 1, 1, 1, 1, 1, 1, 1, 1, 0, 0, 0, 0, 0, 0, 0, 0, 0, 0, 0, 0, 0, 0, 0, 0, 0, 0, 0, 0, 0, 0, 0, 0, 0, 0, 0, 0, 0, 0, 0, 0, 0, 0, 0, 0, 0, 0, 0, 0, 0, 0, 0, 0, 0, 0, 0, 0, 0, 0, 0, 0, 0, 0, 0, 0, 0, 0, 0, 0, 0, 0, 0, 0, 0, 0, 0, 0, 0, 0, 0, 0, 0, 0, 0, 0, 0, 0, 0, 0, 0, 0, 0, 0, 0, 0, 0, 0, 0, 0, 0, 0, 0, 0, 0, 0, 1, 1, 1, 1, 1, 1, 1, 1, 1, 0, 0, 0, 0, 0, 0, 0, 0, 0, 1, 1, 1, 1, 1, 1, 1, 1, 1, 1, 0, 0, 0, 0, 0, 0, 0, 0, 0, 0, 0, 0, 0, 0, 0, 0, 0, 0, 0, 0, 0, 0, 0, 0, 0, 0, 0, 0, 0, 0, 0, 0, 0, 0, 0, 0, 0, 0, 0, 0, 0, 0, 0, 0, 0, 0, 0, 0, 0, 0, 0, 0, 0, 0, 0, 0, 0, 0, 0, 1, 1, 1, 1, 1, 1, 1, 1, 1, 0, 0, 0, 0, 0, 0, 0, 0, 0, 0, 0, 0, 0, 0, 0, 0, 0, 0, 0, 0, 0, 0, 0, 0, 0, 0, 0, 0, 0, 0, 0, 0, 0, 0, 0, 0, 0, 0, 0, 0, 0, 0, 0, 0, 0, 0, 0, 0, 0, 0, 0, 0, 1, 1, 1, 1, 1, 1, 1, 1, 1, 0, 0, 0, 0, 0, 0, 0, 0, 0, 0, 0, 0, 0, 0, 0, 0, 0, 0, 0, 0, 0, 0, 0, 0, 0, 0, 0, 0, 0, 0, 0, 0, 0, 0, 0, 0, 0, 0, 0, 0, 0, 0, 0, 0, 0, 0, 1, 1, 1, 1, 1, 1, 1, 1, 1, 1, 1, 1, 1, 1, 1, 1, 1, 1, 0, 0, 0, 0, 0, 0, 0, 0, 0, 0, 0, 0, 0, 0, 0, 0, 0, 0, 0, 0, 0, 0, 0, 0, 0, 0, 0, 0, 0, 0, 0, 0, 0, 0, 0, 0, 0, 0, 0, 0, 0, 0, 0, 0, 0, 0, 0, 0, 0, 0, 0, 0, 0, 0, 0, 0, 0, 0, 0, 0, 0, 0, 0, 0, 0, 0, 0, 0, 0, 0, 0, 0, 0, 0, 0, 0, 0, 0, 0, 0, 0, 0, 0, 0, 0, 0, 0, 0, 0, 0, 0, 0, 0, 0, 0, 0, 0, 0, 0, 0, 0, 0, 0, 0, 0, 0, 0, 0, 0, 0, 0, 0, 0, 0, 0, 0, 0, 0, 0, 0, 0, 0, 0, 0, 0, 0, 0, 0, 0, 0, 0, 0, 0, 0, 0, 0, 0, 0, 0, 0, 0, 0, 0, 0, 0, 0, 0, 0, 0, 0, 0, 0, 0, 0, 0, 0, 0, 0, 0, 0, 0, 0, 0, 0, 0, 0, 0, 0, 0, 0, 0, 0, 0, 0, 0, 0, 0, 0, 0, 0, 0, 0, 0, 0, 0, 0, 0, 0, 0, 0, 0, 0, 0, 0, 0, 0, 0, 0, 0, 0, 0, 0, 0, 0, 0, 0, 0, 0, 0, 0, 0, 0, 0, 0, 0, 0, 0, 0, 0, 0, 0, 0, 0, 0, 0, 0, 0, 0, 0, 0, 0, 0, 0, 0, 0, 0, 0, 0, 0, 0, 0, 0, 0, 0, 0, 0, 0, 0, 0, 0, 0, 0, 0, 0, 0, 0, 0, 0, 0, 0, 0, 0, 0, 0, 0, 0, 0, 0, 0, 0, 0, 0, 0, 0, 0, 0, 0, 0, 0, 0, 0, 0, 0, 0, 0, 0, 0, 0, 0, 0, 0, 0, 0, 0, 0, 0, 0, 0, 0, 0, 0, 0, 0, 0, 0, 0, 0, 0, 0, 0, 0, 0, 0, 0, 0, 0, 0, 0, 0, 0, 0, 0, 0, 0, 0, 0, 0, 0, 0, 0, 0, 0, 0, 0, 0, 0, 0, 0, 0, 0, 0, 0, 0, 0, 0, 0, 0, 0, 0, 0, 0, 0, 0, 0, 0, 0, 0, 0, 0, 0, 0, 0, 0, 0, 0, 0, 0, 0, 0, 0, 0, 0, 0, 0, 0, 0, 0, 0, 0, 0, 0, 0, 0, 0, 0, 0, 0, 0, 0, 0, 0, 0, 0, 0, 0, 0, 0, 0, 0, 0, 0, 0, 0, 0, 0, 0, 0, 0, 0, 0, 0, 0, 0, 0, 0, 0, 0, 0, 0, 0, 0, 0, 0, 0, 0, 0, 0, 0, 0, 0, 0, 0, 0, 0, 0, 0, 0, 0, 0, 0, 0, 0, 0, 0, 0, 0, 0, 0, 0, 0, 0, 0, 0, 0, 0, 0, 0, 0, 0, 0, 0, 0, 0, 0, 0, 0, 0, 0, 0, 0, 0, 0, 0, 0, 0, 0, 0, 0, 0, 0, 0, 0, 0, 0, 0, 0, 0, 0, 0, 0, 0, 0, 0, 0, 0, 0, 0, 0, 0, 0, 0, 0, 0, 0, 0, 0, 0, 0, 0, 0, 0, 0, 0, 0, 0, 0, 0, 0, 0, 0, 0, 0, 0, 0, 0, 0, 0, 0, 0, 0, 0, 0, 0, 0, 0, 0, 0, 0, 0, 0, 0, 0, 0, 0, 0, 0, 0, 0, 0, 0, 0, 0, 0, 0, 0, 0, 0, 0, 0, 0, 0, 0, 0, 0, 0, 0, 0, 0, 0, 0, 0, 0, 0, 0, 0, 0, 0, 0, 0, 0, 0, 0, 0, 0, 0, 0, 0, 0, 0, 0, 0, 0, 0, 0, 0, 0, 0, 0, 0, 0, 0, 0, 0, 0, 0, 0, 0, 0, 0, 0, 0, 0, 0, 0, 0, 0, 0, 0, 0, 0, 0, 0, 0, 0, 0, 0, 0, 0, 0, 0, 0, 0, 0, 0, 0, 0, 0, 0, 0, 0, 0, 0, 0, 0, 0, 0, 0, 0, 0, 0, 0, 0, 0, 0, 0, 0, 0, 0, 0, 0, 0, 0, 0, 0, 0, 0, 0, 0, 0, 0, 0, 0, 0, 0, 0, 0, 0, 0, 0, 0, 0, 0, 0, 0, 0, 0, 0, 0, 0, 0, 0, 0, 0, 0, 0, 0, 0, 0, 0, 0, 0, 0, 0, 0, 0, 0, 0, 0, 0, 0, 0, 0, 0, 0, 0, 0, 0, 0, 0, 0, 0, 0, 0, 0, 0, 0, 0, 0, 0, 0, 0, 0, 0, 0, 0, 0, 0, 0, 0, 0, 0, 0, 0, 0, 0, 0, 0, 0, 0, 0, 0, 0, 0, 0, 0, 0, 0, 0, 0, 0, 0, 0, 0, 0, 0, 0, 0, 0, 0, 0, 0, 0, 0, 0, 0, 0, 0, 0, 0, 0, 0, 0, 0, 0, 0, 0, 0, 0, 0, 0, 0, 0, 0, 0, 0, 0, 0, 0, 0, 0, 0, 0, 0, 0, 0, 0, 0, 0, 0, 0, 0, 0, 0, 0, 0, 0, 0, 0, 0, 0, 0, 0], \"coloraxis\": \"coloraxis\", \"symbol\": \"circle\"}, \"mode\": \"markers\", \"name\": \"\", \"scene\": \"scene\", \"showlegend\": false, \"type\": \"scatter3d\", \"x\": [0.23639327139776478, 0.21594131316282925, 0.18495963385644143, 0.20176668864356656, 0.1865795909443575, 0.1930594192960203, 0.1726074610610847, 0.18556711776440948, 0.18414965531248337, 0.4539011794179232, 0.4445257287302761, 0.49796579764986415, 0.4724645717794644, 0.44996349012911147, 0.4385254402901823, 0.4473383639365705, 0.4032737457046294, 0.3702721592841123, 0.5298805860213217, 0.4974254740312926, 0.48747257302101704, 0.41520585698988455, 0.42321145128075804, 0.43900627244923923, 0.41520585698988455, 0.3029111695043825, 0.3124313356881244, 0.4595720957682959, 0.4789201755403371, 0.5043015274993594, 0.49618781662721334, 0.47704778072368875, 0.49098671991429943, 0.4477135952628511, 0.4637329731386276, 0.4319022612555911, 0.5218441872001834, 0.5970902566437911, 0.49051004684536853, 0.5273607612063127, 0.4887447431634063, 0.5286847389677839, 0.5011018689371368, 0.48058021363433545, 0.42320784397058836, 0.4924774056229547, 0.509613557314226, 0.4559202820149082, 0.48847897022832465, 0.48276691966456675, 0.3841388465970258, 0.3809020179442295, 0.4224095853741993, 0.34396409096526626, 0.40048763710958835, 0.4167150588538808, 0.36886496909506844, 0.3224711864158721, 0.3850923908393616, 0.328712502471369, 0.325591844443621, 0.3054115891975126, 0.5148650319680554, 0.49600594498093536, 0.479637680803435, 0.4984967677905551, 0.47999351263338064, 0.5205583412471861, 0.4600669301564235, 0.4109621376239221, 0.4002871827255522, 0.7153352372879698, 0.6526217016644279, 0.6938806066799109, 0.6959435519306896, 0.6324048382068348, 0.6402440301597805, 0.6167264543009514, 0.5680409463826694, 0.5354464114204323, 0.2931454925415048, 0.23566594372563965, 0.23327096252497811, 0.26885354036337106, 0.3427558174123415, 0.267484979677279, 0.225059598408426, 0.2137689727481666, 0.24866727024351398, 0.36131642608897574, 0.4136714893592975, 0.437803901335461, 0.38974358934903347, 0.437803901335461, 0.39874211584861946, 0.3566126508732823, 0.342501325226204, 0.2856469987060887, 0.4079432809565111, 0.3817441267119988, 0.4352525688554515, 0.4294798738524235, 0.40439085326234, 0.4152701630757386, 0.43414243520102347, 0.3877388484459126, 0.36709036247354315, 0.2853829536369449, 0.35303587392464514, 0.34361054447279876, 0.33250960089617887, 0.3723054363595319, 0.30109183605668954, 0.3046525160718317, 0.29941622193191686, 0.2656944876708655, 0.24390833803252335, 0.2543616334005476, 0.2214812679702155, 0.27963960219958917, 0.26082367053714495, 0.25265109415850734, 0.21007767302327954, 0.21958066881239283, 0.7302902304519322, 0.6883104784001225, 0.6980421481939568, 0.657779749635181, 0.6745716504559002, 0.623814313884172, 0.6604511884021147, 0.6726634799080928, 0.5015005817696011, 0.36774364790543707, 0.3402452306206458, 0.34706483810727445, 0.3545444076087369, 0.35806420502119046, 0.38072290086385785, 0.29360791490564087, 0.2504903966030892, 0.2674294216505198, 0.5484287022088661, 0.5403158712311178, 0.5169667479293056, 0.5567394071129008, 0.5591138942283392, 0.5256732006859139, 0.5286413095802118, 0.5349732752213808, 0.5385350058945387, 0.6020464095015436, 0.5501009966766998, 0.5410765817367911, 0.5272097978047364, 0.5657286420604449, 0.5412966894182523, 0.5773943491778881, 0.6394647153499411, 0.5228076441755123, 0.4912925737666018, 0.47425466190261656, 0.5037433555133618, 0.4511005765489936, 0.47447309667010273, 0.4255437087530143, 0.25936032374956136, 0.2762321053535892, 0.2829105189051839, 0.27412313265308563, 0.2646327555008203, 0.25514237834855424, 0.24916695569712827, 0.42463003453192677, 0.37507345455692953, 0.4552157362352448, 0.43276041093407425, 0.41882262281610655, 0.39636729751493616, 0.393270011266499, 0.3561025762852512, 0.3607485056579068, 0.24215675002739803, 0.24844834203671662, 0.24749507052015288, 0.20459785227480246, 0.19678102583898271, 0.2320520719518267, 0.11994734160397713, 0.45438878151503953, 0.4786525658867083, 0.48878005849401357, 0.4605074749652861, 0.41113594850467455, 0.4290700499967767, 0.4621953903998372, 0.41408980051513833, 0.37737763981365685, 0.6407479347088421, 0.3200063954990403, 0.6770458455247659, 0.6528472383141473, 0.657026997741433, 0.6581269344328298, 0.6757259214950931, 0.6260087830441917, 0.6671464153022376, 0.3828647951275813, 0.39222317461979767, 0.3935600859758286, 0.34462913034509773, 0.3719021220081282, 0.3590677729902318, 0.366287094312799, 0.3483724821419846, 0.3213668727501601, 0.5018025845169138, 0.46760012859533034, 0.4941548303978026, 0.5340931019087203, 0.4820458863758748, 0.49203045425360414, 0.45931506163295877, 0.45379168365804423, 0.43020037725416566, 0.4197285323261594, 0.4385302539014431, 0.3845050539319583, 0.3528515226723049, 0.39259693410359925, 0.3568974627581246, 0.3498533685671268, 0.34935973975874635, 0.3540492134383617, 0.3481256677377948, 0.3634281607975942, 0.3372658339534203, 0.318754753639146, 0.34911292535455557, 0.3222101552978107, 0.3368898676945768, 0.30604593693347976, 0.2953176131904893, 0.29375306597797024, 0.30626944367812503, 0.2935295592333248, 0.24368755517734939, 0.14959121568154016, 0.3072067783420388, 0.27432508490755536, 0.2703792816954175, 0.29799990418038347, 0.29865753804907325, 0.30128807352383163, 0.2506502656347273, 0.19376493599307018, 0.15726625628079388, 0.19210447236744985, 0.2434565988919541, 0.17067696633564275, 0.20614318321587574, 0.2054043036975375, 0.2257234904518373, 0.2632216260075002, 0.3058919181915307, 0.2946240055368731, 0.4280734439620599, 0.4178645141547674, 0.4391157557944365, 0.4718260002790239, 0.4457828119951168, 0.4741178008480077, 0.49766084305666064, 0.4714093092664816, 0.4741178008480077, 0.3171528115314553, 0.3292662091230796, 0.3062212088268194, 0.29913043950489243, 0.28553979830453374, 0.2935169137917007, 0.2884942855220034, 0.27519909304339085, 0.17681466870166257, 0.5706806132359726, 0.5808633787238731, 0.5582961687236623, 0.5830650577482797, 0.5615986872602786, 0.5483886131138139, 0.5863675762849017, 0.5814137984799727, 0.5588465884797651, 0.714191334722975, 0.6961988543781583, 0.7302158875300814, 0.7352762726270653, 0.7476461028641282, 0.6323817756551173, 0.7096932146367768, 0.7406177902294343, 0.7029460345074677, 0.25159846420106086, 0.2403037086556951, 0.20001908054389292, 0.18947730870155188, 0.15841673095179823, 0.14994566429277437, 0.1286738746823363, 0.532560049764695, 0.4170241932101739, 0.40285064946928467, 0.40521290675943333, 0.4080046653750625, 0.38545584578728453, 0.40070314284187725, 0.3918983656695069, 0.45128807325505027, 0.4281598633709879, 0.47700664264612797, 0.46960561548322793, 0.4322304283105831, 0.2723682415919428, 0.41058242385910054, 0.47830182239963603, 0.44629237992009263, 0.7114940403188365, 0.6890299486600243, 0.6773179008721057, 0.6999739933143132, 0.66848586483531, 0.6807739149734547, 0.6801979126232285, 0.6458297723930946, 0.6800059118398251, 0.4291934937113074, 0.4138604600661877, 0.4587321320570532, 0.4641437909906256, 0.44520298472312436, 0.44430104156752853, 0.3919883385430018, 0.37823370542017387, 0.4129585169105929, 0.4064194290325264, 0.32000419515246414, 0.31070039638198943, 0.2639650351163466, 0.28689998092263486, 0.2291298815803816, 0.12484078838575384, 0.24276102861619434, 0.2730524664735548, 0.28776545057570224, 0.31879512127855936, 0.3099837104988103, 0.3116068651161323, 0.31972263820274294, 0.27844813507655086, 0.2520139027373046, 0.23972430349186505, 0.16946489648491986, 0.3023826168120121, 0.2849094749620253, 0.29116529117992157, 0.3170514272539765, 0.31187420003916566, 0.30324548801448026, 0.2851251927626418, 0.2685149221151239, 0.2501789090626682, 0.21544834316331102, 0.43228249562752885, 0.40513937535336986, 0.4081045901732362, 0.38506715195735364, 0.38027718955603135, 0.41768451497588044, 0.375943414050073, 0.3700129844103407, 0.3631701809798806, 0.2018116991639042, 0.2162638709900687, 0.24391150404881917, 0.22547974867631906, 0.24286424522083647, 0.23427672283137618, 0.25501244762543895, 0.20998031802217115, 0.12892248473628912, 0.272081423882039, 0.24401354465257183, 0.22429017005889218, 0.18888924130100662, 0.10038691940629169, 0.04197538695577951, 0.004804411759998958, 0.0, 0.3224730117834556, 0.3294406319931831, 0.3250278058603558, 0.27416417832934525, 0.295996054986491, 0.2867058947068549, 0.2514032856442357, 0.39327743031234624, 0.38370101335474077, 0.39204968454855044, 0.35669060655123974, 0.38320991504922247, 0.29702216243077884, 0.291620081070079, 0.36823141673091747, 0.4082873621215412, 0.42314092631065736, 0.40195275386441826, 0.38622545060535396, 0.3936522326999122, 0.376614320835926, 0.42772805642788436, 0.4037002320043141, 0.43100457794018937, 0.30437612710061995, 0.2922314497234454, 0.30216800394113374, 0.2992238397284855, 0.3132086197385655, 0.31044846578920715, 0.29867180893861334, 0.30106394236139017, 0.3185449173739899, 0.302720034731005, 0.32690460035760555, 0.29353377225360794, 0.2885498174069072, 0.2735979528668043, 0.2614631062835325, 0.25604576405885715, 0.2326428456482617, 0.23459308884914423, 0.22072469275397627, 0.2335299609663063, 0.2335299609663063, 0.25913562584882793, 0.23714815274318435, 0.20903758586128598, 0.17229902320375512, 0.1589395458737433, 0.18064869653501164, 0.2034711369737813, 0.48232571535969193, 0.48794858996934987, 0.4620432033748566, 0.4933706476286625, 0.5028090442948732, 0.49256737982728255, 0.4612399355734764, 0.4403549727376064, 0.3993883148672455, 0.19800446658067286, 0.19671533352868778, 0.19487371488299415, 0.15306897162575775, 0.14091428856418212, 0.11236919955593679, 0.24541693861404498, 0.2265061670536252, 0.22550027494934755, 0.22932266494560263, 0.21926374390282616, 0.2156425323274266, 0.23354741178356872, 0.23173680599586896, 0.26151121228248736, 0.297563151618543, 0.3304279554967676, 0.32789989365998073, 0.3272678782007845, 0.29440307432255913, 0.2868188888121995, 0.2681744327658992, 0.25205803855638514, 0.25774617768915425, 0.5475973967302159, 0.566569863943277, 0.5314356654005722, 0.5381111631236859, 0.5549755784241845, 0.5061390424498243, 0.47873436758651433, 0.24740540426953173, 0.23271152151412663, 0.24357221746377408, 0.2644417900729001, 0.2501738169625794, 0.2614604225573114, 0.24250744335106333, 0.22632287683786304, 0.2220637803870209, 0.32972702804363196, 0.3157574592647084, 0.2954683236572232, 0.26752918609937504, 0.27883788463469433, 0.24524439780918617, 0.23060961146936107, 0.21697265147088735, 0.16575089928149903, 0.3268299913934219, 0.3402766232494184, 0.32094708995642357, 0.33372139021962066, 0.33304905862682055, 0.3098536186752264, 0.317921597788824, 0.306828126507627, 0.2701860547000366, 0.25176646259225377, 0.2577667510323485, 0.28195541380647754, 0.26901729185752415, 0.251203935550995, 0.25664169694983024, 0.252891516674772, 0.26076689525239544, 0.25401657075728934, 0.514845641573928, 0.5167166336302454, 0.4919259888840393, 0.5092326654049758, 0.4961357210107535, 0.4937969809403568, 0.47742580044757965, 0.4811677845602144, 0.4769580524335002, 0.312480729959042, 0.33320581709775915, 0.3077139599171369, 0.2998384268044246, 0.2981804198333274, 0.3220142700428523, 0.2681290434821872, 0.2053320294518732, 0.2302021340183339, 0.6213877495612184, 0.6725063051781376, 0.6839407189345555, 0.6350642052306535, 0.6433597603088408, 0.6151100322047572, 0.6476196399435841, 0.6435839645001401, 0.6422387393523281, 0.517896721207735, 0.5528742014025367, 0.537586031251167, 0.5331848913591057, 0.5264673620501699, 0.5496312562189126, 0.5269306399335449, 0.5463883110352885, 0.5081678856568632, 0.644420158601334, 0.6313944974133564, 0.6111755606439512, 0.6082593678406724, 0.5932895781171758, 0.5833745225860323, 0.607481716426468, 0.5971778351882141, 0.5746259441761957, 0.5785318450917505, 0.5676284450241296, 0.6048282805489568, 0.650579802401328, 0.6334764297462354, 0.6118834217691812, 0.6358281434863156, 0.5875111157356738, 0.5304286094993025, 0.4925918063560209, 0.4674532934389109, 0.48696640486408066, 0.5061279286960036, 0.49364656913576005, 0.46604694306592587, 0.44706121303062557, 0.4447758936745249, 0.4799346529991545, 0.4864390234742111, 0.8203600626001369, 0.8184147434621317, 0.8135514456171142, 0.7908560556736997, 0.7921529350990392, 0.7289300631138207, 0.77432084300065, 0.724715204981477, 0.6384727231965109, 0.31723631933560953, 0.31046524064540476, 0.3065960528224307, 0.3371626366239247, 0.35128517217777944, 0.3288438828045315, 0.31104561881885084, 0.32807004523993627, 0.3127867533391893, 0.20058331720576544, 0.20058331720576544, 0.2150017562964655, 0.20758655904981965, 0.19337409766041513, 0.21273600158221284, 0.2405429912571349, 0.20614471514074942, 0.2174734887120143, 0.513292511427731, 0.5507233355875586, 0.532580010339782, 0.5252246082123048, 0.5296378494887911, 0.502504588307431, 0.5092061769124657, 0.49073594490346795, 0.4685062851404253, 0.3795876460882583, 0.4065281261293287, 0.3882792861195068, 0.3979050478829291, 0.36782454237223355, 0.3774503041356566, 0.36421488171095057, 0.34095262411601307, 0.32150056388576315, 0.31127319201212733, 0.624202831400209, 0.6085667625324935, 0.6044877880452676, 0.6126457370197274, 0.6106062497761144, 0.6265822331844241, 0.6126457370197274, 0.607547018910687, 0.5368447944653905, 0.5070239523011798, 0.6961917211653329, 0.5952271778628361, 0.5419299096511133, 0.5764605341263191, 0.5257905960377028, 0.6203744804697772, 0.6451464502019941, 0.6639130939385108, 0.3384973229390721, 0.36306069711962313, 0.3685435931420677, 0.37051743571014745, 0.38893996634556016, 0.3882820188228672, 0.37556170005079587, 0.381921859436832, 0.34288363975702757, 0.3872767425606338, 0.4059975447805272, 0.4371208784711004, 0.4436731592480628, 0.4322066678883779, 0.3987432339203188, 0.3935950133098482, 0.37042802056273005, 0.36738589020199747, 0.4572352639902145, 0.4446300997762094, 0.4785494507520792, 0.44646357820733756, 0.46754858016531026, 0.4664026561458554, 0.42446183703380047, 0.4003974326252441, 0.4230867282104537, 0.33466684953019427, 0.29382863431492845, 0.292043357147048, 0.2911507185631075, 0.3092266498878974, 0.3141361620995692, 0.3337742109462534, 0.3168140778513893, 0.3016392219244056, 0.3092856792136093, 0.2807313227050832, 0.32088047852313245, 0.24542775465817693, 0.288345817774023, 0.31707323098866214, 0.29042249824737093, 0.28523079706400223, 0.24231273394815625, 0.3899065205525588, 0.32659230078086154, 0.33563718931967534, 0.3221703552729971, 0.2884027713947582, 0.2556401751319433, 0.19353194049875488, 0.6690033868383237, 0.7103860211794956, 0.7108061494469214, 0.6969419166219585, 0.672364412977706, 0.6771958880530745, 0.6433755625255189, 0.6484171017345963, 0.7047142895692836, 0.22050551482259373, 0.2731851169486506, 0.2587703004464958, 0.24750053481753861, 0.2349203313247485, 0.24697635967200526, 0.2524801987001011, 0.20084894686510932, 0.17857150317996145, 0.49122882535254186, 0.4818288430679172, 0.4953648175577761, 0.501380806219936, 0.5064567966536332, 0.5872966443014019, 0.48408483881622766, 0.48051284554806983, 0.4925448228723891, 0.3614207369768461, 0.2809921497980273, 0.18473453216380256, 0.2364997398693189, 0.27243591711942916, 0.18280937981111775, 0.49468406094600625, 0.26216843790511224, 0.46987098617807255, 0.3267070563434593, 0.34249722309665515, 0.3343097292246279, 0.2912279162313406, 0.3196892044531504, 0.3220284884165867, 0.3308008032794735, 0.6309271402151349, 0.6245189086131333, 0.631928426402951, 0.6056947282822339, 0.5744545992224448, 0.5870708051888993, 0.5766574288356336, 0.4967547910481017, 0.4977560772359154, 0.29552847279637495, 0.3716416410662255, 0.37452639671493726, 0.4164663057615896, 0.3953853990979278, 0.39028160064251505, 0.365872129768802, 0.32726078493220173, 0.3281484020548821, 0.41574337105503634, 0.41893161861217654, 0.3991189373642352, 0.4007130611428057, 0.40731728822545227, 0.4136937833397325, 0.41528790711830277, 0.4155156390866692, 0.4171097628652396, 0.440059276413145, 0.5156119653027216, 0.44493364343827907, 0.460221430926199, 0.4810482718517712, 0.4522451939759796, 0.42610086175026096, 0.4963360593396919, 0.4360711579380352, 0.44118673784457824, 0.4374303430100718, 0.4512820489623139, 0.4552732184739766, 0.44517790735624113, 0.44071718849026503, 0.43179575075831217, 0.4423606112303609, 0.4228743130263595, 0.3361798505749829, 0.2572486041149187, 0.22901303627554578, 0.19478810556115503, 0.2189594628781932, 0.23714145732021352, 0.2861258894051862, 0.21275619418621017, 0.21788993379336907, 0.40287734038542, 0.4317882734705623, 0.4422066277354782, 0.4354346974632834, 0.4401229568824951, 0.42579771976823605, 0.519823367009103, 0.4974239053395334, 0.4448112163017076, 0.9989340332280574, 0.8601969299886133, 0.9048391046787007, 0.8719347431614358, 0.8765528991638576, 0.8921391756720369, 0.8476894241487177, 0.9019527571771849, 0.8775150149976988, 0.3712827160014103, 0.37774593363437864, 0.3811929830386288, 0.3609415677886615, 0.3923958936024408, 0.42643550646940737, 0.39498118065562804, 0.3669739042460986, 0.3213004996397882, 0.27324152058598405, 0.21606248271925074, 0.24417391605172442, 0.25335315958885896, 0.2550742677520717, 0.26081129496278077, 0.22103457296853143, 0.22352061809317253, 0.2105166897488984, 0.2827010533639906, 0.2215866092396424, 0.22261952942202576, 0.23329303797332077, 0.22881705051632575, 0.1787204216707335, 0.23621964515673952, 0.22485752315052285, 0.25171344789249045, 0.41277481651048015, 0.175578886527359, 0.173948673950155, 0.1878054808563859, 0.1625371859097301, 0.16457495163123514, 0.10466463941900296, 0.10507219256330397, 0.45626634509555214, 0.46357295683044153, 0.46357295683044153, 0.4880501061423233, 0.44384510514623876, 0.38612287244060667, 0.437269154584838, 0.3729709713178054, 0.37479762425152774, 0.40094766073294824, 0.4032879913558763, 0.3800647105591303, 0.40472819481613925, 0.42453099239475933, 0.4162498224982455, 0.3957269231894935, 0.3815049140193932, 0.371603515230083, 0.3692631846071558, 0.6965082735257647, 0.7295960292838367, 0.7870130172169656, 0.6634205177676848, 0.6449303013146487, 0.6103827916260675, 0.7870130172169656, 0.6497961477496551, 0.665366856341689, 0.5786438507539042, 0.5019681418154965, 0.5225138428293798, 0.5246319563359662, 0.5320453536090161, 0.5481430162590689, 0.4939193104904705, 0.4564287014238995, 0.5259028244399175, 0.22989295198483767, 0.21700259801928234, 0.16077398503160098, 0.21255764837598717, 0.15788476776345894, 0.21389113326897521, 0.17833153612261582, 0.18922166274868826, 0.20119418550927365, 0.21549945855975527, 0.20834682203451482, 0.21823429017234736, 0.21360611359719162, 0.22728027166015224, 0.21444760024722007, 0.2260180416851104, 0.2424270313606632, 0.3735798300859175, 0.35986551718019194, 0.35395781315926433, 0.3400325108242196, 0.2957247306672602, 0.3503709928608439, 0.35459078144722067, 0.4025124159643768, 0.38708253482499544, 0.3798214142888153, 0.3907130950930851, 0.37165265368561323, 0.37755231412125906, 0.3634838930824114, 0.3530460323116532, 0.30675638889350676, 0.20815661243987502, 0.1753480304520906, 0.2014997987032228, 0.22360993004281635, 0.19199006479372033, 0.20577917896249903, 0.15537758924213463, 0.15846825276272333, 0.186284224448019, 0.4078056963139683, 0.5129937379896349, 0.42995054719305587, 0.43900980437086434, 0.46417440764255513, 0.46417440764255513, 0.40478594392136563, 0.4843060902599079, 0.4928620553722821, 0.5085502550300566, 0.5065015949398776, 0.5058187082431513, 0.4903399431173582, 0.47372303349702166, 0.29890403913512237, 0.2545164038479217, 0.2595242396239135, 0.26803202662139036, 0.2740611090013808, 0.26562039366939394, 0.26562039366939394, 0.23475149188384098, 0.259350147994203, 0.25621502515660827, 0.18121324034952427, 0.20364142680308978, 0.28977340628108805, 0.2967889274334722, 0.3178354908906272, 0.26805869795227766, 0.26438390115817145, 0.20759158706743713, 0.20692344219578165, 0.3044725934575126, 0.6902016713775186, 0.7040071001631492, 0.7282856128551356, 0.8334925011870579, 0.7501838792047669, 0.6868693264982199, 0.7406628938353627, 0.7297137606605472, 0.17124755687888638, 0.19113077696739433, 0.17283821448596687, 0.17761018730720884, 0.13943440473727256, 0.11159789661336021, 0.4110823184866309, 0.376991503683745, 0.3742216249810101, 0.34460522962100393, 0.3635682453551085, 0.3737954897959746, 0.38785795090216485, 0.38253126108921404, 0.3987243981205846, 0.4329616169622777, 0.3763434502628641, 0.4499150793073001, 0.46079088533995555, 0.42144605763358367, 0.4038528419925227, 0.39617580244006, 0.2413555047987252, 0.29477490501794607, 0.4689099579569858, 0.4174472855065644, 0.40593589824791726, 0.4239929763006972, 0.445210043012713, 0.38110741592534547, 0.385621685438541, 0.49941706536707775, 0.5040117938827524, 0.48969744735315146, 0.4808614309768543, 0.49588265881655874, 0.49022760833572937, 0.47061165198034943, 0.4826286342521133, 0.43844855237062863, 0.2063702390057089, 0.18158577206346305, 0.20458397111797955, 0.2068168059776415, 0.23852306098483927, 0.204137404146047, 0.19743889956706187, 0.21753441330401802, 0.2106126252390662, 0.3020235203329786, 0.273239108444203, 0.25392325309778785, 0.28687382986520216, 0.25089331500423284, 0.34633636495122433, 0.31490075723058847, 0.3122495613987272, 0.2614980983316761, 0.40171607838722445, 0.35881138816183783, 0.31646390170561245, 0.3323442091266971, 0.3549109617777123, 0.4265116461148826, 0.42511863669198074, 0.43264088757565267, 0.3100657322653129, 0.28440461327110406, 0.3176690267821157, 0.3141049824773652, 0.2672972006082973, 0.3174314238284661, 0.27490049512510023, 0.19862994700342182, 0.5743631731306158, 0.5695836422451176, 0.5799392924970337, 0.5566390794302204, 0.5727699961687854, 0.5323431307622584, 0.5644058171191584, 0.488132470071378, 0.48076402662289797, 0.40195719359546483, 0.41122557612810456, 0.37933143623637383, 0.39078061465904645, 0.3602494721985868, 0.328627931793111, 0.3387141127845127, 0.35207148761096385, 0.33053612819688954, 0.2987578916496711, 0.2691306657754602, 0.3071204150819083, 0.27653747224401226, 0.2844221371944078, 0.2430873785150646, 0.29565181151769754, 0.28513892491717036, 0.6334960077827045, 0.5929655566945945, 0.6155336487777455, 0.6381017408608962, 0.5980318630806022, 0.6574458197893115, 0.5736214777661716, 0.5026931883619822, 0.41656597979974713, 0.3886446668109561, 0.4101406046365619, 0.44400406833443334, 0.4428262087275508, 0.4531324802877724, 0.28028158297776645, 0.35419227330964337, 0.3980675436660157, 0.39365057014020655, 0.4024705662320144, 0.392683967924745, 0.3582181217121858, 0.3437509763883954, 0.36013289094621653, 0.3669409593338825, 0.393322224336088, 0.34502748921108317, 0.3111998994098677, 0.42555236231235793, 0.44153372866526847, 0.45087348822216383, 0.4324015193207484, 0.42472216146285646, 0.4122691487203292, 0.355815490954205, 0.340871875663172, 0.36598545136060184, 0.43621813120126773, 0.4246620828189618, 0.4238366507916548, 0.40712165223867686, 0.4896648549694303, 0.41104245436838815, 0.37162807506445283, 0.35119863238859156, 0.4252811568394425, 0.5521649701490225, 0.5442318201542005, 0.49621538597501613, 0.5045660701800915, 0.5045660701800915, 0.568866338559174, 0.4945452491340005, 0.44068333601126214, 0.42356443339085753, 0.22997424630287364, 0.21634690987952604, 0.20817050802551762, 0.22024043457191134, 0.21089597531018683, 0.1906496469097856, 0.08941800490777745, 0.12991066170858087, 0.7461133729333717, 0.4645863975168511, 0.7801233431179144, 0.7461133729333717, 0.7591032921010782, 0.7782339003298834, 0.7685505060412333, 0.7706761291777672, 0.7638268990711518, 0.25153225508842275, 0.2794655060530119, 0.27730166266843087, 0.2761213844586593, 0.3174311218006573, 0.25074540294857534, 0.23127081248734754, 0.22222201287910084, 0.22497599536856724, 0.24359662448431968, 0.32180271302065205, 0.29011576335506867, 0.2938238106563602, 0.3804572794229003, 0.34303971120077636, 0.30056571484052697, 0.36090575728881785, 0.3007362528514207, 0.3089088292300584, 0.26519504860013726, 0.3070082300722357, 0.3054877507459778, 0.29389409588325943, 0.3474909921338585, 0.2872419988308798, 0.2764085836312909, 0.5292343578807192, 0.4930363326331962, 0.48793459753119695, 0.5394378280847195, 0.5625171059270997, 0.5292343578807192, 0.5527995152566239, 0.5336072736824333, 0.5501271778222426, 0.42929775529852254, 0.35341008897926224, 0.32796923809286244, 0.3386239534213544, 0.3236203746934776, 0.3466693507102156, 0.3325355446622162, 0.312313329855078, 0.304050489396247, 0.29252918154392876, 0.28844268101873, 0.29089458133384943, 0.2927335065701893, 0.28701240583491133, 0.2876253809136908, 0.27945237986329335, 0.23633979932244747, 0.5411108259346835, 0.5678773051589314, 0.5391570683270743, 0.5248946377915268, 0.5260668923560925, 0.5303651590928331, 0.4758553218405335, 0.5375940622409872, 0.560453026250016, 0.4266573056153086, 0.42499772194188973, 0.40305433781557626, 0.39365003033287044, 0.39844438316719155, 0.4045295233030595, 0.3759478044830712, 0.3676498861159782, 0.3149120049384515, 0.24270720912870503, 0.23257737927696648, 0.24290980572573945, 0.22872804393330592, 0.22183975963412317, 0.22406832220150544, 0.20522683867727207, 0.17281138315170846, 0.2177878276934281, 0.9214326249501106, 0.922242603494067, 0.9007781720791892, 0.9234575713100098, 0.9384421743732281, 0.8906534402797094, 0.9303423889336475, 0.9068530111588703, 0.8614942126972293, 0.3136282116176109, 0.2980931984241331, 0.29420944512576375, 0.25103124669095284, 0.2327547605809795, 0.238694618566721, 0.193688771520912, 0.2080815043325159, 0.20191319027039956, 0.3410874763408833, 0.3361830352769727, 0.30780734055005904, 0.2955462378902823, 0.3288263736811058, 0.3001003617353421, 0.2521069027527856, 0.2902914796075208, 0.36280714390963087, 0.2969475067656853, 0.20183738829604028, 0.20351877919328681, 0.19469147698274314, 0.1852336531857326, 0.19216939063687336, 0.17829791573459103, 0.14845322730846783, 0.4275586163746001, 0.34130571864798903, 0.3709184301290602, 0.4228581859807794, 0.348121342719029, 0.3492964503174844, 0.38501972131052226, 0.40076616312982194, 0.3998260770510574, 0.9040537642512352, 0.7144763493803373, 0.9035393072230858, 0.8796170554144154, 0.9287477016021216, 0.9925403730919232, 0.9843090606416224, 1.0, 0.911513391159312, 0.15446312072630877, 0.17504403334579982, 0.13712179620432924, 0.15522537674925282, 0.15541594075498857, 0.14607830447392278, 0.11501637153894946, 0.17752136542036837, 0.5034173104454706, 0.4776039521485274, 0.4103471286959432, 0.41389942570928456, 0.4212408395368555, 0.45534289086492646, 0.41437306531106305, 0.40395299407193025, 0.4517905938515852, 0.5012871501678706, 0.47277729395520113, 0.465189993511507, 0.4148379087488085, 0.4178268452872337, 0.4647301571209799, 0.4720875393694104, 0.3345964586018609, 0.2665406728038756, 0.34476353437335494, 0.32426188228948744, 0.3829061429014789, 0.3435715778568508, 0.33928053439743666, 0.299230795442905, 0.31448783885415504, 0.2734845346864209, 0.2162505013646756, 0.22380433971203817, 0.24942170454222568, 0.2024565356868826, 0.20508395772074797, 0.2908036015756054, 0.20409867445804833, 0.19950068589878375, 0.04251221937532714, 0.436715584548506, 0.41618062611987144, 0.4322235623922425, 0.3947900444233769, 0.40163503056625544, 0.3691213463875843, 0.40142112474929026, 0.3667683824009693, 0.41339985049932676, 0.2810758860130066, 0.2594964247468487, 0.26528061024087035, 0.26683789095079896, 0.2726220764448206, 0.25905148740115486, 0.2666154222779525, 0.2612761741296247, 0.2681727029878812, 0.22678534812222725, 0.2275289386631823, 0.23384945826130527, 0.22641355285174888, 0.22343919068792703, 0.2342212535317828, 0.22845842683937742, 0.21730456872504333, 0.1825417109353708, 0.7305772448867324, 0.7377702163586591, 0.7535048414535064, 0.738444557434156, 0.738669337792655, 0.7020301393575084, 0.7085487697539463, 0.7231594930563067, 0.6948371678855817, 0.3946336594983688, 0.3766008598698621, 0.3942579761727749, 0.38204826809097425, 0.3668330934044208, 0.4492955833722807, 0.4481685333954988, 0.3856172596841156, 0.319684836042388, 0.225617704887313, 0.19280862984205815, 0.21044587827679012, 0.1852227165367967, 0.15980990696417133, 0.1463449108473322, 0.14615526301470108, 0.6919495446896262, 0.6425490737226548, 0.6553989072111757, 0.6945195113873303, 0.6768152963587052, 0.6588255294747759, 0.6265581698258298, 0.5848675989519708, 0.6345536217742462, 0.40934828369760806, 0.434757299163852, 0.3859719894686638, 0.3979650447687311, 0.38678507796358425, 0.38332945186017486, 0.3865818058398542, 0.35446481029052185, 0.37519856691097725, 0.32783616208189903, 0.2137703331464631, 0.18837305735257381, 0.2103706978039741, 0.199371877578274, 0.17557443018085053, 0.17917404407289766, 0.16677537400029066, 0.13357893477363286, 0.12917940668335243, 0.4845742021761052, 0.5598525707603659, 0.4900087368065196, 0.4992675735842633, 0.5495873386806938, 0.5214082702266928, 0.4875933880818911, 0.48739210902150554, 0.4801460628476193, 0.4882078762010982, 0.4484642559003816, 0.4392380583305729, 0.431904414108417, 0.380805473721782, 0.3498149126539618, 0.32331916578681774, 0.2603917669773507, 0.4788423377656704, 0.47417504148455764, 0.4668150742720324, 0.4720209047394283, 0.45981412985036224, 0.47650868962511406, 0.48799741893246973, 0.4881769303278978, 0.4492229575201441, 0.46304533496805617, 0.4144693795841518, 0.35138361787310674, 0.2986640611380541, 0.3140652799595299, 0.2811896013213793, 0.28592843788183336, 0.3576033408587029, 0.32709708050077896, 0.32798561235586426, 0.2651030690609626, 0.260638461163717, 0.2666975718814076, 0.23672091885704424, 0.27881579331678874, 0.2727566825990981, 0.2533037481896709, 0.2179057855757943, 0.2609573617278057, 0.5221559426212476, 0.5273776571786116, 0.5247667998999292, 0.4872653953515882, 0.5242920985765329, 0.5024558377002836, 0.49557266851103077, 0.46637853712213245, 0.4708881996944014, 0.5514570980886422, 0.47044168463418157, 0.4813817222174477, 0.47251142147425884, 0.4124890531120125, 0.4695546545598622, 0.5079926244470151, 0.481973075600327, 0.11647991074849891, 0.16849528313062664, 0.18082651365225139, 0.16490801606979016, 0.1415907801743535, 0.17096152923495134, 0.1447296388525857, 0.15907870709593075, 0.13755510473091276, 0.32783752371334995, 0.4106190748787831, 0.3284792411642447, 0.380030543052796, 0.32634018299459555, 0.25981547391849813, 0.23200771771305553, 0.22986865954340563, 0.11243436602965154, 0.4294723235510102, 0.4373585807386051, 0.41291118345706246, 0.42888085426194067, 0.41922018920713794, 0.4113339320195439, 0.4308524185588395, 0.4064050212772976, 0.4188258763477587, 0.3324214158030877, 0.30231104510703805, 0.28809745397101455, 0.27612811406699556, 0.2796815118510008, 0.2714525906669873, 0.274070883770992, 0.28996766333101814, 0.2776242815549981, 0.4278478736296047, 0.43194568474216655, 0.43170463702966283, 0.44737273834239905, 0.4553273128550189, 0.42230377624202153, 0.45050635860494564, 0.4355614004297209, 0.3846122336573599, 0.38653034985811174, 0.3926043844938265, 0.35839797891375025, 0.37406259455322455, 0.38972721019269907, 0.3628735833821717, 0.3152403643968327, 0.40542542517274366, 0.30532028216763407, 0.29041100554985233, 0.351209873835354, 0.28285955375642996, 0.30551390913669624, 0.2547836432424241, 0.23851897784120774, 0.26678851532427494, 0.3456035353177228, 0.34125629510672, 0.34382511886776657, 0.35568122853413786, 0.3035143460021076, 0.35607643218968305, 0.3422443042455843, 0.3554836267063649, 0.31576565932402384, 0.3324214158030877, 0.4278478736296047, 0.3846122336573599, 0.40542542517274366, 0.3456035353177228, 0.3324214158030877, 0.3324214158030877, 0.3324214158030877, 0.3324214158030877, 0.3324214158030877, 0.3324214158030877, 0.3324214158030877, 0.3324214158030877, 0.3324214158030877, 0.3324214158030877, 0.3324214158030877, 0.3324214158030877, 0.3324214158030877, 0.3324214158030877, 0.3324214158030877, 0.3324214158030877, 0.3324214158030877, 0.3324214158030877, 0.3324214158030877, 0.3324214158030877, 0.3324214158030877, 0.3324214158030877, 0.3324214158030877, 0.3324214158030877, 0.3324214158030877, 0.3324214158030877, 0.3324214158030877, 0.3324214158030877, 0.3324214158030877, 0.3324214158030877, 0.3324214158030877, 0.3324214158030877, 0.3324214158030877, 0.3324214158030877, 0.3324214158030877, 0.3324214158030877, 0.3324214158030877, 0.3324214158030877, 0.3324214158030877, 0.3324214158030877, 0.3324214158030877, 0.3324214158030877, 0.3324214158030877, 0.3324214158030877, 0.3324214158030877, 0.3324214158030877, 0.3324214158030877, 0.3324214158030877, 0.3324214158030877, 0.3324214158030877, 0.3324214158030877, 0.3324214158030877, 0.3324214158030877, 0.3324214158030877, 0.3324214158030877, 0.3324214158030877, 0.3324214158030877, 0.3324214158030877, 0.3324214158030877, 0.3324214158030877, 0.3324214158030877, 0.3324214158030877, 0.3324214158030877, 0.3324214158030877, 0.3324214158030877, 0.3324214158030877, 0.3324214158030877, 0.3324214158030877, 0.3324214158030877, 0.3324214158030877, 0.3324214158030877, 0.3324214158030877, 0.3324214158030877, 0.3324214158030877, 0.3324214158030877, 0.3324214158030877, 0.3324214158030877, 0.3324214158030877, 0.3324214158030877, 0.3324214158030877, 0.3324214158030877, 0.3324214158030877, 0.3324214158030877, 0.3324214158030877, 0.3324214158030877, 0.3324214158030877, 0.3324214158030877, 0.3324214158030877, 0.3324214158030877, 0.3324214158030877, 0.3324214158030877, 0.3324214158030877, 0.3324214158030877, 0.3324214158030877, 0.3324214158030877, 0.3324214158030877, 0.3324214158030877, 0.3324214158030877, 0.3324214158030877, 0.3324214158030877, 0.3324214158030877, 0.3324214158030877, 0.3324214158030877, 0.3324214158030877, 0.3324214158030877, 0.3324214158030877, 0.3324214158030877, 0.3324214158030877, 0.3324214158030877, 0.3324214158030877, 0.3324214158030877, 0.3324214158030877, 0.3324214158030877, 0.3324214158030877, 0.3324214158030877, 0.3324214158030877, 0.3324214158030877, 0.3324214158030877, 0.3324214158030877, 0.3324214158030877, 0.3324214158030877, 0.3324214158030877, 0.3324214158030877, 0.3324214158030877, 0.3324214158030877, 0.3324214158030877, 0.3324214158030877, 0.3324214158030877, 0.3324214158030877, 0.3324214158030877, 0.3324214158030877, 0.3324214158030877, 0.3324214158030877, 0.3324214158030877, 0.3324214158030877, 0.3324214158030877, 0.3324214158030877, 0.3324214158030877, 0.3324214158030877, 0.3324214158030877, 0.3324214158030877, 0.3324214158030877, 0.3324214158030877, 0.3324214158030877, 0.3324214158030877, 0.3324214158030877, 0.4278478736296047, 0.4278478736296047, 0.4278478736296047, 0.4278478736296047, 0.4278478736296047, 0.4278478736296047, 0.4278478736296047, 0.4278478736296047, 0.4278478736296047, 0.4278478736296047, 0.4278478736296047, 0.4278478736296047, 0.4278478736296047, 0.4278478736296047, 0.4278478736296047, 0.4278478736296047, 0.4278478736296047, 0.4278478736296047, 0.4278478736296047, 0.4278478736296047, 0.4278478736296047, 0.4278478736296047, 0.4278478736296047, 0.4278478736296047, 0.4278478736296047, 0.4278478736296047, 0.4278478736296047, 0.4278478736296047, 0.4278478736296047, 0.4278478736296047, 0.4278478736296047, 0.4278478736296047, 0.4278478736296047, 0.4278478736296047, 0.4278478736296047, 0.4278478736296047, 0.4278478736296047, 0.4278478736296047, 0.4278478736296047, 0.4278478736296047, 0.4278478736296047, 0.4278478736296047, 0.4278478736296047, 0.4278478736296047, 0.4278478736296047, 0.4278478736296047, 0.4278478736296047, 0.4278478736296047, 0.4278478736296047, 0.4278478736296047, 0.4278478736296047, 0.4278478736296047, 0.4278478736296047, 0.4278478736296047, 0.4278478736296047, 0.4278478736296047, 0.4278478736296047, 0.4278478736296047, 0.4278478736296047, 0.4278478736296047, 0.4278478736296047, 0.4278478736296047, 0.4278478736296047, 0.4278478736296047, 0.4278478736296047, 0.4278478736296047, 0.4278478736296047, 0.4278478736296047, 0.4278478736296047, 0.4278478736296047, 0.4278478736296047, 0.4278478736296047, 0.4278478736296047, 0.4278478736296047, 0.4278478736296047, 0.4278478736296047, 0.4278478736296047, 0.4278478736296047, 0.4278478736296047, 0.4278478736296047, 0.4278478736296047, 0.4278478736296047, 0.4278478736296047, 0.4278478736296047, 0.4278478736296047, 0.4278478736296047, 0.4278478736296047, 0.4278478736296047, 0.4278478736296047, 0.4278478736296047, 0.4278478736296047, 0.4278478736296047, 0.4278478736296047, 0.4278478736296047, 0.4278478736296047, 0.4278478736296047, 0.4278478736296047, 0.4278478736296047, 0.4278478736296047, 0.4278478736296047, 0.4278478736296047, 0.4278478736296047, 0.4278478736296047, 0.4278478736296047, 0.4278478736296047, 0.4278478736296047, 0.4278478736296047, 0.4278478736296047, 0.4278478736296047, 0.4278478736296047, 0.4278478736296047, 0.4278478736296047, 0.4278478736296047, 0.4278478736296047, 0.4278478736296047, 0.4278478736296047, 0.4278478736296047, 0.4278478736296047, 0.4278478736296047, 0.4278478736296047, 0.4278478736296047, 0.4278478736296047, 0.4278478736296047, 0.4278478736296047, 0.4278478736296047, 0.4278478736296047, 0.4278478736296047, 0.4278478736296047, 0.4278478736296047, 0.4278478736296047, 0.4278478736296047, 0.4278478736296047, 0.4278478736296047, 0.4278478736296047, 0.4278478736296047, 0.4278478736296047, 0.4278478736296047, 0.4278478736296047, 0.4278478736296047, 0.4278478736296047, 0.4278478736296047, 0.4278478736296047, 0.4278478736296047, 0.4278478736296047, 0.4278478736296047, 0.4278478736296047, 0.3846122336573599, 0.3846122336573599, 0.3846122336573599, 0.3846122336573599, 0.3846122336573599, 0.3846122336573599, 0.3846122336573599, 0.3846122336573599, 0.3846122336573599, 0.3846122336573599, 0.3846122336573599, 0.3846122336573599, 0.3846122336573599, 0.3846122336573599, 0.3846122336573599, 0.3846122336573599, 0.3846122336573599, 0.3846122336573599, 0.3846122336573599, 0.3846122336573599, 0.3846122336573599, 0.3846122336573599, 0.3846122336573599, 0.3846122336573599, 0.3846122336573599, 0.3846122336573599, 0.3846122336573599, 0.3846122336573599, 0.3846122336573599, 0.3846122336573599, 0.3846122336573599, 0.3846122336573599, 0.3846122336573599, 0.3846122336573599, 0.3846122336573599, 0.3846122336573599, 0.3846122336573599, 0.3846122336573599, 0.3846122336573599, 0.3846122336573599, 0.3846122336573599, 0.3846122336573599, 0.3846122336573599, 0.3846122336573599, 0.3846122336573599, 0.3846122336573599, 0.3846122336573599, 0.3846122336573599, 0.3846122336573599, 0.3846122336573599, 0.3846122336573599, 0.3846122336573599, 0.3846122336573599, 0.3846122336573599, 0.3846122336573599, 0.3846122336573599, 0.3846122336573599, 0.3846122336573599, 0.3846122336573599, 0.3846122336573599, 0.3846122336573599, 0.3846122336573599, 0.3846122336573599, 0.3846122336573599, 0.3846122336573599, 0.3846122336573599, 0.3846122336573599, 0.3846122336573599, 0.3846122336573599, 0.3846122336573599, 0.3846122336573599, 0.3846122336573599, 0.3846122336573599, 0.3846122336573599, 0.3846122336573599, 0.3846122336573599, 0.3846122336573599, 0.3846122336573599, 0.3846122336573599, 0.3846122336573599, 0.3846122336573599, 0.3846122336573599, 0.3846122336573599, 0.3846122336573599, 0.3846122336573599, 0.3846122336573599, 0.3846122336573599, 0.3846122336573599, 0.3846122336573599, 0.3846122336573599, 0.3846122336573599, 0.3846122336573599, 0.3846122336573599, 0.3846122336573599, 0.3846122336573599, 0.3846122336573599, 0.3846122336573599, 0.3846122336573599, 0.3846122336573599, 0.3846122336573599, 0.3846122336573599, 0.3846122336573599, 0.3846122336573599, 0.3846122336573599, 0.3846122336573599, 0.3846122336573599, 0.3846122336573599, 0.3846122336573599, 0.3846122336573599, 0.3846122336573599, 0.3846122336573599, 0.3846122336573599, 0.3846122336573599, 0.3846122336573599, 0.3846122336573599, 0.3846122336573599, 0.3846122336573599, 0.3846122336573599, 0.3846122336573599, 0.3846122336573599, 0.3846122336573599, 0.3846122336573599, 0.3846122336573599, 0.3846122336573599, 0.3846122336573599, 0.3846122336573599, 0.3846122336573599, 0.3846122336573599, 0.3846122336573599, 0.3846122336573599, 0.3846122336573599, 0.3846122336573599, 0.3846122336573599, 0.3846122336573599, 0.3846122336573599, 0.3846122336573599, 0.3846122336573599, 0.3846122336573599, 0.3846122336573599, 0.3846122336573599, 0.3846122336573599, 0.3846122336573599, 0.3846122336573599, 0.3846122336573599, 0.3846122336573599, 0.3846122336573599, 0.40542542517274366, 0.40542542517274366, 0.40542542517274366, 0.40542542517274366, 0.40542542517274366, 0.40542542517274366, 0.40542542517274366, 0.40542542517274366, 0.40542542517274366, 0.40542542517274366, 0.40542542517274366, 0.40542542517274366, 0.40542542517274366, 0.40542542517274366, 0.40542542517274366, 0.40542542517274366, 0.40542542517274366, 0.40542542517274366, 0.40542542517274366, 0.40542542517274366, 0.40542542517274366, 0.40542542517274366, 0.40542542517274366, 0.40542542517274366, 0.40542542517274366, 0.40542542517274366, 0.40542542517274366, 0.40542542517274366, 0.40542542517274366, 0.40542542517274366, 0.40542542517274366, 0.40542542517274366, 0.40542542517274366, 0.40542542517274366, 0.40542542517274366, 0.40542542517274366, 0.40542542517274366, 0.40542542517274366, 0.40542542517274366, 0.40542542517274366, 0.40542542517274366, 0.40542542517274366, 0.40542542517274366, 0.40542542517274366, 0.40542542517274366, 0.40542542517274366, 0.40542542517274366, 0.40542542517274366, 0.40542542517274366, 0.40542542517274366, 0.40542542517274366, 0.40542542517274366, 0.40542542517274366, 0.40542542517274366, 0.40542542517274366, 0.40542542517274366, 0.40542542517274366, 0.40542542517274366, 0.40542542517274366, 0.40542542517274366, 0.40542542517274366, 0.40542542517274366, 0.40542542517274366, 0.40542542517274366, 0.40542542517274366, 0.40542542517274366, 0.40542542517274366, 0.40542542517274366, 0.40542542517274366, 0.40542542517274366, 0.40542542517274366, 0.40542542517274366, 0.40542542517274366, 0.40542542517274366, 0.40542542517274366, 0.40542542517274366, 0.40542542517274366, 0.40542542517274366, 0.40542542517274366, 0.40542542517274366, 0.40542542517274366, 0.40542542517274366, 0.40542542517274366, 0.40542542517274366, 0.40542542517274366, 0.40542542517274366, 0.40542542517274366, 0.40542542517274366, 0.40542542517274366, 0.40542542517274366, 0.40542542517274366, 0.40542542517274366, 0.40542542517274366, 0.40542542517274366, 0.40542542517274366, 0.40542542517274366, 0.40542542517274366, 0.40542542517274366, 0.40542542517274366, 0.40542542517274366, 0.40542542517274366, 0.40542542517274366, 0.40542542517274366, 0.40542542517274366, 0.40542542517274366, 0.40542542517274366, 0.40542542517274366, 0.40542542517274366, 0.40542542517274366, 0.40542542517274366, 0.40542542517274366, 0.40542542517274366, 0.40542542517274366, 0.40542542517274366, 0.40542542517274366, 0.40542542517274366, 0.40542542517274366, 0.40542542517274366, 0.40542542517274366, 0.40542542517274366, 0.40542542517274366, 0.40542542517274366, 0.40542542517274366, 0.40542542517274366, 0.40542542517274366, 0.40542542517274366, 0.40542542517274366, 0.40542542517274366, 0.40542542517274366, 0.40542542517274366, 0.40542542517274366, 0.40542542517274366, 0.40542542517274366, 0.40542542517274366, 0.40542542517274366, 0.40542542517274366, 0.40542542517274366, 0.40542542517274366, 0.40542542517274366, 0.40542542517274366, 0.40542542517274366, 0.40542542517274366, 0.40542542517274366, 0.40542542517274366, 0.40542542517274366, 0.40542542517274366, 0.3456035353177228, 0.3456035353177228, 0.3456035353177228, 0.3456035353177228, 0.3456035353177228, 0.3456035353177228, 0.3456035353177228, 0.3456035353177228, 0.3456035353177228, 0.3456035353177228, 0.3456035353177228, 0.3456035353177228, 0.3456035353177228, 0.3456035353177228, 0.3456035353177228, 0.3456035353177228, 0.3456035353177228, 0.3456035353177228, 0.3456035353177228, 0.3456035353177228, 0.3456035353177228, 0.3456035353177228, 0.3456035353177228, 0.3456035353177228, 0.3456035353177228, 0.3456035353177228, 0.3456035353177228, 0.3456035353177228, 0.3456035353177228, 0.3456035353177228, 0.3456035353177228, 0.3456035353177228, 0.3456035353177228, 0.3456035353177228, 0.3456035353177228, 0.3456035353177228, 0.3456035353177228, 0.3456035353177228, 0.3456035353177228, 0.3456035353177228, 0.3456035353177228, 0.3456035353177228, 0.3456035353177228, 0.3456035353177228, 0.3456035353177228, 0.3456035353177228, 0.3456035353177228, 0.3456035353177228, 0.3456035353177228, 0.3456035353177228, 0.3456035353177228, 0.3456035353177228, 0.3456035353177228, 0.3456035353177228, 0.3456035353177228, 0.3456035353177228, 0.3456035353177228, 0.3456035353177228, 0.3456035353177228, 0.3456035353177228, 0.3456035353177228, 0.3456035353177228, 0.3456035353177228, 0.3456035353177228, 0.3456035353177228, 0.3456035353177228, 0.3456035353177228, 0.3456035353177228, 0.3456035353177228, 0.3456035353177228, 0.3456035353177228, 0.3456035353177228, 0.3456035353177228, 0.3456035353177228, 0.3456035353177228, 0.3456035353177228, 0.3456035353177228, 0.3456035353177228, 0.3456035353177228, 0.3456035353177228, 0.3456035353177228, 0.3456035353177228, 0.3456035353177228, 0.3456035353177228, 0.3456035353177228, 0.3456035353177228, 0.3456035353177228, 0.3456035353177228, 0.3456035353177228, 0.3456035353177228, 0.3456035353177228, 0.3456035353177228, 0.3456035353177228, 0.3456035353177228, 0.3456035353177228, 0.3456035353177228, 0.3456035353177228, 0.3456035353177228, 0.3456035353177228, 0.3456035353177228, 0.3456035353177228, 0.3456035353177228, 0.3456035353177228, 0.3456035353177228, 0.3456035353177228, 0.3456035353177228, 0.3456035353177228, 0.3456035353177228, 0.3456035353177228, 0.3456035353177228, 0.3456035353177228, 0.3456035353177228, 0.3456035353177228, 0.3456035353177228, 0.3456035353177228, 0.3456035353177228, 0.3456035353177228, 0.3456035353177228, 0.3456035353177228, 0.3456035353177228, 0.3456035353177228, 0.3456035353177228, 0.3456035353177228, 0.3456035353177228, 0.3456035353177228, 0.3456035353177228, 0.3456035353177228, 0.3456035353177228, 0.3456035353177228, 0.3456035353177228, 0.3456035353177228, 0.3456035353177228, 0.3456035353177228, 0.3456035353177228, 0.3456035353177228, 0.3456035353177228, 0.3456035353177228, 0.3456035353177228, 0.3456035353177228, 0.3456035353177228, 0.3456035353177228, 0.3456035353177228, 0.3456035353177228, 0.3456035353177228, 0.3456035353177228, 0.3456035353177228], \"y\": [2315, 2214, 2061, 2144, 2069, 2101, 2000, 2064, 2057, 3660, 3610, 3895, 3759, 3639, 3578, 3625, 3390, 3214, 3523, 3373, 3327, 2993, 3030, 3103, 2993, 2474, 2518, 3326, 3419, 3541, 3502, 3410, 3477, 3269, 3346, 3193, 3418, 3759, 3276, 3443, 3268, 3449, 3324, 3231, 2971, 3807, 3897, 3615, 3786, 3756, 3238, 3221, 3439, 3027, 3042, 3120, 2890, 2667, 2968, 2697, 2682, 2585, 2100, 2047, 2001, 2054, 2002, 2116, 1946, 1808, 1778, 2297, 2145, 2245, 2250, 2096, 2115, 2058, 1940, 1861, 1536, 1368, 1361, 1465, 1681, 1461, 1337, 1304, 1406, 2903, 3159, 3277, 3042, 3277, 3086, 2880, 2811, 2533, 2884, 2766, 3007, 2981, 2868, 2917, 3002, 2793, 2700, 2472, 2795, 2750, 2697, 2887, 2547, 2564, 2539, 2378, 2506, 2561, 2388, 2694, 2595, 2552, 2328, 2378, 5045, 4825, 4876, 4665, 4753, 4487, 4679, 4743, 3846, 2728, 2603, 2634, 2668, 2684, 2787, 2391, 2195, 2272, 3946, 3905, 3787, 3988, 4000, 3831, 3846, 3878, 3896, 3791, 3555, 3514, 3451, 3626, 3515, 3679, 3961, 3431, 3313, 3235, 3370, 3129, 3236, 3012, 1399, 1447, 1466, 1441, 1414, 1387, 1370, 1697, 1569, 1776, 1718, 1682, 1624, 1616, 1520, 1532, 2489, 2522, 2517, 2292, 2251, 2436, 1848, 3255, 3370, 3418, 3284, 3050, 3135, 3292, 3064, 2890, 3969, 2511, 4134, 4024, 4043, 4048, 4128, 3902, 4089, 2301, 2336, 2341, 2158, 2260, 2212, 2239, 2172, 2071, 3456, 3295, 3420, 3608, 3363, 3410, 3256, 3230, 2784, 2740, 2819, 2592, 2459, 2626, 2476, 2359, 2357, 2376, 2352, 2414, 2308, 2233, 2356, 2247, 2547, 2409, 2361, 2354, 2410, 2353, 2130, 1709, 1641, 1541, 1529, 1613, 1615, 1623, 1469, 1296, 1185, 2298, 2576, 2182, 2374, 2370, 2480, 2683, 2914, 2853, 3170, 3121, 3223, 3380, 3255, 3391, 3504, 3378, 3391, 1860, 1901, 1823, 1799, 1753, 1780, 1763, 1718, 1385, 2918, 2955, 2873, 2963, 2885, 2837, 2975, 2957, 2875, 3367, 3303, 3424, 3442, 3486, 3076, 3351, 3461, 3327, 2571, 2511, 2297, 2241, 2076, 2031, 1918, 3562, 3024, 2958, 2969, 2982, 2877, 2948, 2907, 3695, 3570, 3834, 3794, 3592, 2728, 3475, 3841, 3668, 4916, 4799, 4738, 4856, 4692, 4756, 4753, 4574, 4752, 2934, 2866, 3065, 3089, 3005, 3001, 2769, 2708, 2862, 2833, 2553, 2510, 2294, 2400, 2133, 1651, 2196, 2336, 2404, 2377, 2339, 2346, 2381, 2203, 2089, 2036, 1733, 2479, 2398, 2427, 2547, 2523, 2483, 2399, 2322, 2237, 2076, 2914, 2795, 2808, 2707, 2686, 2850, 2667, 2641, 2611, 2073, 2142, 2274, 2186, 2269, 2228, 2327, 2112, 1725, 1995, 1884, 1806, 1666, 1316, 1085, 938, 919, 2389, 2419, 2400, 2181, 2275, 2235, 2083, 2548, 2509, 2543, 2399, 2507, 2156, 2134, 2446, 2933, 3001, 2904, 2832, 2866, 2788, 3022, 2912, 3037, 2917, 2851, 2905, 2889, 2965, 2950, 2886, 2899, 2994, 2908, 2581, 2427, 2404, 2335, 2279, 2254, 2146, 2155, 2091, 1674, 1674, 1766, 1687, 1586, 1454, 1406, 1484, 1566, 3559, 3587, 3458, 3614, 3661, 3610, 3454, 3350, 3146, 2337, 2330, 2320, 2093, 2027, 1872, 2375, 2281, 2276, 2295, 2245, 2227, 2316, 2307, 2455, 1677, 1781, 1773, 1771, 1667, 1643, 1584, 1533, 1551, 2220, 2274, 2174, 2193, 2241, 2102, 2024, 2253, 2184, 2235, 2333, 2266, 2319, 2230, 2154, 2134, 1690, 1648, 1587, 1503, 1537, 1436, 1392, 1351, 1197, 3327, 3407, 3292, 3368, 3364, 3226, 3274, 3208, 2990, 2582, 2614, 2743, 2674, 2579, 2608, 2588, 2630, 2594, 3195, 3203, 3097, 3171, 3115, 3105, 3035, 3051, 3033, 2629, 2729, 2606, 2568, 2560, 2675, 2415, 2112, 2232, 3808, 4036, 4087, 3869, 3906, 3780, 3925, 3907, 3901, 3239, 3390, 3324, 3305, 3276, 3376, 3278, 3362, 3197, 4510, 4443, 4339, 4324, 4247, 4196, 4320, 4267, 4151, 3793, 3742, 3916, 4130, 4050, 3949, 4061, 3835, 3568, 4124, 3981, 4092, 4201, 4130, 3973, 3865, 3852, 4052, 4089, 3247, 3241, 3226, 3156, 3160, 2965, 3105, 2952, 2686, 2841, 2806, 2786, 2944, 3017, 2901, 2809, 2897, 2818, 2102, 2102, 2172, 2136, 2067, 2161, 2296, 2129, 2184, 4562, 4791, 4680, 4635, 4662, 4496, 4537, 4424, 4288, 3744, 3186, 3095, 3143, 2993, 3041, 2975, 2859, 2762, 2711, 2520, 2474, 2462, 2486, 2480, 2527, 2486, 2471, 2263, 1970, 2474, 2205, 2063, 2155, 2020, 2272, 2338, 2388, 2603, 2715, 2740, 2749, 2833, 2830, 2772, 2801, 2623, 2648, 2728, 2861, 2889, 2840, 2697, 2675, 2576, 2563, 3009, 2954, 3102, 2962, 3054, 3049, 2866, 2761, 2860, 2541, 2358, 2350, 2346, 2427, 2449, 2537, 2461, 2393, 3130, 2965, 3197, 2761, 3009, 3175, 3021, 2991, 2743, 3096, 2781, 2826, 2759, 2591, 2428, 2119, 4291, 4488, 4490, 4424, 4307, 4330, 4169, 4193, 4461, 1728, 1929, 1874, 1831, 1783, 1829, 1850, 1653, 1568, 3849, 3799, 3871, 3903, 3930, 4360, 3811, 3792, 3856, 2776, 2400, 1950, 2192, 2360, 1941, 3399, 2312, 3283, 2868, 2949, 2907, 2686, 2832, 2844, 2889, 4311, 4279, 4316, 4185, 4029, 4092, 4040, 3641, 3646, 2379, 2722, 2735, 2924, 2829, 2806, 2696, 2522, 2526, 2846, 2860, 2773, 2780, 2809, 2837, 2844, 2845, 2852, 3035, 3376, 3057, 3126, 3220, 3090, 2972, 3289, 3017, 2869, 2853, 2912, 2929, 2886, 2867, 2829, 2874, 2791, 2658, 2289, 2157, 1997, 2110, 2195, 2424, 2081, 2105, 2439, 2550, 2590, 2564, 2582, 2527, 2888, 2802, 2600, 6399, 5678, 5910, 5739, 5763, 5844, 5613, 5895, 5768, 1401, 1416, 1424, 1377, 1450, 1529, 1456, 1391, 1285, 2644, 2345, 2492, 2540, 2549, 2579, 2371, 2384, 2316, 2992, 2637, 2643, 2705, 2679, 2388, 2722, 2656, 2812, 1583, 1001, 997, 1031, 969, 974, 827, 828, 1885, 1905, 1905, 1972, 1851, 1693, 1833, 1657, 1662, 3518, 3531, 3402, 3539, 3649, 3603, 3489, 3410, 3355, 3342, 1909, 1977, 2095, 1841, 1803, 1732, 2095, 1813, 1845, 3829, 3467, 3564, 3574, 3609, 3685, 3429, 3252, 3580, 2080, 2022, 1769, 2002, 1756, 2008, 1848, 1897, 2061, 2129, 2095, 2142, 2120, 2185, 2124, 2179, 2257, 2872, 2807, 2779, 2713, 2503, 2762, 2782, 1399, 1365, 1349, 1373, 1331, 1344, 1313, 1290, 1188, 1853, 1715, 1825, 1918, 1785, 1843, 1631, 1644, 1761, 1272, 1481, 1316, 1334, 1384, 1384, 1266, 1424, 1441, 3255, 3246, 3243, 3175, 3102, 2334, 2139, 2161, 2075, 2100, 2065, 2065, 1937, 2039, 2026, 1715, 1808, 1563, 1584, 1647, 1498, 1487, 1317, 1315, 1607, 1938, 1967, 2018, 2239, 2064, 1931, 2044, 2021, 1015, 1065, 1019, 1031, 935, 865, 3020, 2860, 2847, 2708, 2797, 2845, 2911, 2886, 2962, 2080, 1903, 2133, 2167, 2044, 1989, 1965, 1481, 1648, 3107, 2879, 2828, 2908, 3002, 2718, 2738, 4141, 4167, 4086, 4036, 4121, 4089, 3978, 4046, 3796, 1965, 1854, 1957, 1967, 2109, 1955, 1925, 2015, 1984, 1411, 1335, 1284, 1371, 1276, 1528, 1445, 1438, 1304, 2276, 2122, 1970, 2027, 2108, 2365, 2360, 2387, 2283, 2175, 2315, 2300, 2103, 2314, 2135, 1814, 4051, 4027, 4079, 3962, 4043, 3840, 4001, 3618, 3581, 2327, 2361, 2244, 2286, 2174, 2058, 2095, 2144, 2065, 2223, 2099, 2258, 2130, 2163, 1990, 2210, 2166, 1880, 1792, 1841, 1890, 1803, 1932, 1750, 1596, 1409, 2109, 2182, 2297, 2293, 2328, 1741, 1992, 2141, 2126, 2984, 2938, 2776, 2708, 2785, 2817, 2941, 2714, 2555, 3170, 3247, 3292, 3203, 3166, 3106, 2834, 2762, 2883, 3240, 3184, 3180, 3099, 3499, 3118, 2927, 2828, 3187, 1879, 1860, 1745, 1765, 1765, 1919, 1741, 1612, 1571, 2375, 2305, 2263, 2325, 2277, 2173, 1653, 1861, 4143, 2951, 4287, 4143, 4198, 4279, 4238, 4247, 4218, 2460, 2602, 2591, 2585, 2795, 2456, 2357, 2311, 2325, 1412, 1644, 1550, 1561, 1818, 1707, 1581, 1760, 2805, 2848, 2618, 2838, 2830, 2769, 3051, 2734, 2677, 3135, 2986, 2965, 3177, 3272, 3135, 3232, 3153, 3221, 3043, 2694, 2577, 2626, 2557, 2663, 2598, 2505, 2467, 2569, 2549, 2561, 2570, 2542, 2545, 2505, 2294, 3959, 4096, 3949, 3876, 3882, 3904, 3625, 3941, 4058, 3574, 3565, 3446, 3395, 3421, 3454, 3299, 3254, 2968, 2345, 2295, 2346, 2276, 2242, 2253, 2160, 2000, 2222, 2849, 2851, 2798, 2854, 2891, 2773, 2871, 2813, 2701, 2390, 2322, 2305, 2116, 2036, 2062, 1865, 1928, 1901, 1637, 1623, 1542, 1507, 1602, 1520, 1383, 1492, 1699, 1511, 2066, 2074, 2032, 1987, 2020, 1954, 1812, 2808, 2441, 2567, 2788, 2470, 2475, 2627, 2694, 2690, 4418, 3681, 4416, 4323, 4514, 4762, 4730, 4791, 4447, 2030, 2138, 1939, 2034, 2035, 1986, 1823, 2151, 3107, 2998, 2714, 2729, 2760, 2904, 2731, 2687, 2889, 3191, 3067, 3034, 2815, 2828, 3032, 3064, 2466, 2170, 2421, 2335, 2581, 2416, 2398, 2230, 2294, 2122, 1366, 1389, 1467, 1324, 1332, 1593, 1329, 1315, 837, 3128, 3032, 3107, 2932, 2964, 2812, 2963, 2801, 3019, 2308, 2211, 2237, 2244, 2270, 2209, 2243, 2219, 2250, 2470, 2474, 2508, 2468, 2452, 2510, 2479, 2419, 2232, 4284, 4316, 4386, 4319, 4320, 4157, 4186, 4251, 4125, 3338, 3242, 3336, 3271, 3190, 3629, 3623, 3290, 2939, 2415, 2242, 2335, 2202, 2068, 1997, 1996, 3237, 3064, 3109, 3246, 3184, 3121, 3008, 2862, 3036, 3157, 3282, 3042, 3101, 3046, 3029, 3045, 2887, 2989, 2756, 2231, 2104, 2214, 2159, 2040, 2058, 1996, 1830, 1808, 3562, 3936, 3589, 3635, 3885, 3745, 3577, 3576, 3540, 3046, 2878, 2839, 2808, 2592, 2461, 2349, 2083, 3962, 3936, 3895, 3924, 3856, 3949, 4013, 4014, 3797, 3874, 2184, 1971, 1793, 1845, 1734, 1750, 1992, 1889, 1892, 1560, 1546, 1565, 1471, 1603, 1584, 1523, 1412, 1547, 3179, 3201, 3190, 3032, 3188, 3096, 3067, 2944, 2963, 2651, 2377, 2414, 2384, 2181, 2374, 2504, 2416, 1556, 1788, 1843, 1772, 1668, 1799, 1682, 1746, 1650, 2619, 3006, 2622, 2863, 2612, 2301, 2171, 2161, 1612, 3357, 3397, 3273, 3354, 3305, 3265, 3364, 3240, 3303, 3020, 2859, 2783, 2719, 2738, 2694, 2708, 2793, 2727, 2739, 2756, 2755, 2820, 2853, 2716, 2833, 2771, 1930, 1936, 1955, 1848, 1897, 1946, 1862, 1713, 3294, 2777, 2700, 3014, 2661, 2778, 2516, 2432, 2578, 2925, 2903, 2916, 2976, 2712, 2978, 2908, 2975, 2774, 3020, 2739, 1930, 3294, 2925, 3020, 3020, 3020, 3020, 3020, 3020, 3020, 3020, 3020, 3020, 3020, 3020, 3020, 3020, 3020, 3020, 3020, 3020, 3020, 3020, 3020, 3020, 3020, 3020, 3020, 3020, 3020, 3020, 3020, 3020, 3020, 3020, 3020, 3020, 3020, 3020, 3020, 3020, 3020, 3020, 3020, 3020, 3020, 3020, 3020, 3020, 3020, 3020, 3020, 3020, 3020, 3020, 3020, 3020, 3020, 3020, 3020, 3020, 3020, 3020, 3020, 3020, 3020, 3020, 3020, 3020, 3020, 3020, 3020, 3020, 3020, 3020, 3020, 3020, 3020, 3020, 3020, 3020, 3020, 3020, 3020, 3020, 3020, 3020, 3020, 3020, 3020, 3020, 3020, 3020, 3020, 3020, 3020, 3020, 3020, 3020, 3020, 3020, 3020, 3020, 3020, 3020, 3020, 3020, 3020, 3020, 3020, 3020, 3020, 3020, 3020, 3020, 3020, 3020, 3020, 3020, 3020, 3020, 3020, 3020, 3020, 3020, 3020, 3020, 3020, 3020, 3020, 3020, 3020, 3020, 3020, 3020, 3020, 3020, 3020, 3020, 3020, 3020, 3020, 3020, 3020, 3020, 3020, 3020, 3020, 3020, 2739, 2739, 2739, 2739, 2739, 2739, 2739, 2739, 2739, 2739, 2739, 2739, 2739, 2739, 2739, 2739, 2739, 2739, 2739, 2739, 2739, 2739, 2739, 2739, 2739, 2739, 2739, 2739, 2739, 2739, 2739, 2739, 2739, 2739, 2739, 2739, 2739, 2739, 2739, 2739, 2739, 2739, 2739, 2739, 2739, 2739, 2739, 2739, 2739, 2739, 2739, 2739, 2739, 2739, 2739, 2739, 2739, 2739, 2739, 2739, 2739, 2739, 2739, 2739, 2739, 2739, 2739, 2739, 2739, 2739, 2739, 2739, 2739, 2739, 2739, 2739, 2739, 2739, 2739, 2739, 2739, 2739, 2739, 2739, 2739, 2739, 2739, 2739, 2739, 2739, 2739, 2739, 2739, 2739, 2739, 2739, 2739, 2739, 2739, 2739, 2739, 2739, 2739, 2739, 2739, 2739, 2739, 2739, 2739, 2739, 2739, 2739, 2739, 2739, 2739, 2739, 2739, 2739, 2739, 2739, 2739, 2739, 2739, 2739, 2739, 2739, 2739, 2739, 2739, 2739, 2739, 2739, 2739, 2739, 2739, 2739, 2739, 2739, 2739, 2739, 2739, 2739, 2739, 2739, 2739, 2739, 1930, 1930, 1930, 1930, 1930, 1930, 1930, 1930, 1930, 1930, 1930, 1930, 1930, 1930, 1930, 1930, 1930, 1930, 1930, 1930, 1930, 1930, 1930, 1930, 1930, 1930, 1930, 1930, 1930, 1930, 1930, 1930, 1930, 1930, 1930, 1930, 1930, 1930, 1930, 1930, 1930, 1930, 1930, 1930, 1930, 1930, 1930, 1930, 1930, 1930, 1930, 1930, 1930, 1930, 1930, 1930, 1930, 1930, 1930, 1930, 1930, 1930, 1930, 1930, 1930, 1930, 1930, 1930, 1930, 1930, 1930, 1930, 1930, 1930, 1930, 1930, 1930, 1930, 1930, 1930, 1930, 1930, 1930, 1930, 1930, 1930, 1930, 1930, 1930, 1930, 1930, 1930, 1930, 1930, 1930, 1930, 1930, 1930, 1930, 1930, 1930, 1930, 1930, 1930, 1930, 1930, 1930, 1930, 1930, 1930, 1930, 1930, 1930, 1930, 1930, 1930, 1930, 1930, 1930, 1930, 1930, 1930, 1930, 1930, 1930, 1930, 1930, 1930, 1930, 1930, 1930, 1930, 1930, 1930, 1930, 1930, 1930, 1930, 1930, 1930, 1930, 1930, 1930, 1930, 1930, 1930, 3294, 3294, 3294, 3294, 3294, 3294, 3294, 3294, 3294, 3294, 3294, 3294, 3294, 3294, 3294, 3294, 3294, 3294, 3294, 3294, 3294, 3294, 3294, 3294, 3294, 3294, 3294, 3294, 3294, 3294, 3294, 3294, 3294, 3294, 3294, 3294, 3294, 3294, 3294, 3294, 3294, 3294, 3294, 3294, 3294, 3294, 3294, 3294, 3294, 3294, 3294, 3294, 3294, 3294, 3294, 3294, 3294, 3294, 3294, 3294, 3294, 3294, 3294, 3294, 3294, 3294, 3294, 3294, 3294, 3294, 3294, 3294, 3294, 3294, 3294, 3294, 3294, 3294, 3294, 3294, 3294, 3294, 3294, 3294, 3294, 3294, 3294, 3294, 3294, 3294, 3294, 3294, 3294, 3294, 3294, 3294, 3294, 3294, 3294, 3294, 3294, 3294, 3294, 3294, 3294, 3294, 3294, 3294, 3294, 3294, 3294, 3294, 3294, 3294, 3294, 3294, 3294, 3294, 3294, 3294, 3294, 3294, 3294, 3294, 3294, 3294, 3294, 3294, 3294, 3294, 3294, 3294, 3294, 3294, 3294, 3294, 3294, 3294, 3294, 3294, 3294, 3294, 3294, 3294, 3294, 3294, 2925, 2925, 2925, 2925, 2925, 2925, 2925, 2925, 2925, 2925, 2925, 2925, 2925, 2925, 2925, 2925, 2925, 2925, 2925, 2925, 2925, 2925, 2925, 2925, 2925, 2925, 2925, 2925, 2925, 2925, 2925, 2925, 2925, 2925, 2925, 2925, 2925, 2925, 2925, 2925, 2925, 2925, 2925, 2925, 2925, 2925, 2925, 2925, 2925, 2925, 2925, 2925, 2925, 2925, 2925, 2925, 2925, 2925, 2925, 2925, 2925, 2925, 2925, 2925, 2925, 2925, 2925, 2925, 2925, 2925, 2925, 2925, 2925, 2925, 2925, 2925, 2925, 2925, 2925, 2925, 2925, 2925, 2925, 2925, 2925, 2925, 2925, 2925, 2925, 2925, 2925, 2925, 2925, 2925, 2925, 2925, 2925, 2925, 2925, 2925, 2925, 2925, 2925, 2925, 2925, 2925, 2925, 2925, 2925, 2925, 2925, 2925, 2925, 2925, 2925, 2925, 2925, 2925, 2925, 2925, 2925, 2925, 2925, 2925, 2925, 2925, 2925, 2925, 2925, 2925, 2925, 2925, 2925, 2925, 2925, 2925, 2925, 2925, 2925, 2925, 2925, 2925, 2925, 2925, 2925, 2925], \"z\": [0.24145616641901932, 0.24145616641901932, 0.24145616641901932, 0.24145616641901932, 0.24145616641901932, 0.24145616641901932, 0.24145616641901932, 0.24145616641901932, 0.24145616641901932, 0.4912704309063893, 0.4912704309063893, 0.4912704309063893, 0.4912704309063893, 0.4912704309063893, 0.4912704309063893, 0.4912704309063893, 0.4912704309063893, 0.4912704309063893, 0.4658246656760773, 0.4658246656760773, 0.4658246656760773, 0.4658246656760773, 0.4658246656760773, 0.4658246656760773, 0.4658246656760773, 0.4658246656760773, 0.4658246656760773, 0.4292347696879643, 0.4292347696879643, 0.4292347696879643, 0.4292347696879643, 0.4292347696879643, 0.4292347696879643, 0.4292347696879643, 0.4292347696879643, 0.4292347696879643, 0.44632243684992573, 0.44632243684992573, 0.44632243684992573, 0.44632243684992573, 0.44632243684992573, 0.44632243684992573, 0.44632243684992573, 0.44632243684992573, 0.44632243684992573, 0.5185735512630015, 0.5185735512630015, 0.5185735512630015, 0.5185735512630015, 0.5185735512630015, 0.5185735512630015, 0.5185735512630015, 0.5185735512630015, 0.5185735512630015, 0.3764858841010401, 0.3764858841010401, 0.3764858841010401, 0.3764858841010401, 0.3764858841010401, 0.3764858841010401, 0.3764858841010401, 0.3764858841010401, 0.20152303120356613, 0.20152303120356613, 0.20152303120356613, 0.20152303120356613, 0.20152303120356613, 0.20152303120356613, 0.20152303120356613, 0.20152303120356613, 0.20152303120356613, 0.23811292719167904, 0.23811292719167904, 0.23811292719167904, 0.23811292719167904, 0.23811292719167904, 0.23811292719167904, 0.23811292719167904, 0.23811292719167904, 0.23811292719167904, 0.09676820208023774, 0.09676820208023774, 0.09676820208023774, 0.09676820208023774, 0.09676820208023774, 0.09676820208023774, 0.09676820208023774, 0.09676820208023774, 0.09676820208023774, 0.35066864784546803, 0.35066864784546803, 0.35066864784546803, 0.35066864784546803, 0.35066864784546803, 0.35066864784546803, 0.35066864784546803, 0.35066864784546803, 0.35066864784546803, 0.34713967310549776, 0.34713967310549776, 0.34713967310549776, 0.34713967310549776, 0.34713967310549776, 0.34713967310549776, 0.34713967310549776, 0.34713967310549776, 0.34713967310549776, 0.27061664190193163, 0.27061664190193163, 0.27061664190193163, 0.27061664190193163, 0.27061664190193163, 0.27061664190193163, 0.27061664190193163, 0.27061664190193163, 0.27061664190193163, 0.27693164933135217, 0.27693164933135217, 0.27693164933135217, 0.27693164933135217, 0.27693164933135217, 0.27693164933135217, 0.27693164933135217, 0.27693164933135217, 0.7485141158989599, 0.7485141158989599, 0.7485141158989599, 0.7485141158989599, 0.7485141158989599, 0.7485141158989599, 0.7485141158989599, 0.7485141158989599, 0.7485141158989599, 0.31816493313521543, 0.31816493313521543, 0.31816493313521543, 0.31816493313521543, 0.31816493313521543, 0.31816493313521543, 0.31816493313521543, 0.31816493313521543, 0.31816493313521543, 0.5443907875185735, 0.5443907875185735, 0.5443907875185735, 0.5443907875185735, 0.5443907875185735, 0.5443907875185735, 0.5443907875185735, 0.5443907875185735, 0.5443907875185735, 0.5156017830609212, 0.5156017830609212, 0.5156017830609212, 0.5156017830609212, 0.5156017830609212, 0.5156017830609212, 0.5156017830609212, 0.5156017830609212, 0.5156017830609212, 0.42682020802377413, 0.42682020802377413, 0.42682020802377413, 0.42682020802377413, 0.42682020802377413, 0.42682020802377413, 0.0713224368499257, 0.0713224368499257, 0.0713224368499257, 0.0713224368499257, 0.0713224368499257, 0.0713224368499257, 0.0713224368499257, 0.12667161961367013, 0.12667161961367013, 0.12667161961367013, 0.12667161961367013, 0.12667161961367013, 0.12667161961367013, 0.12667161961367013, 0.12667161961367013, 0.12667161961367013, 0.27377414561664193, 0.27377414561664193, 0.27377414561664193, 0.27377414561664193, 0.27377414561664193, 0.27377414561664193, 0.27377414561664193, 0.4160475482912333, 0.4160475482912333, 0.4160475482912333, 0.4160475482912333, 0.4160475482912333, 0.4160475482912333, 0.4160475482912333, 0.4160475482912333, 0.4160475482912333, 0.5486627043090639, 0.5486627043090639, 0.5486627043090639, 0.5486627043090639, 0.5486627043090639, 0.5486627043090639, 0.5486627043090639, 0.5486627043090639, 0.5486627043090639, 0.23885586924219912, 0.23885586924219912, 0.23885586924219912, 0.23885586924219912, 0.23885586924219912, 0.23885586924219912, 0.23885586924219912, 0.23885586924219912, 0.23885586924219912, 0.45338038632986627, 0.45338038632986627, 0.45338038632986627, 0.45338038632986627, 0.45338038632986627, 0.45338038632986627, 0.45338038632986627, 0.45338038632986627, 0.3285661218424963, 0.3285661218424963, 0.3285661218424963, 0.3285661218424963, 0.3285661218424963, 0.3285661218424963, 0.3285661218424963, 0.24962852897473997, 0.24962852897473997, 0.24962852897473997, 0.24962852897473997, 0.24962852897473997, 0.24962852897473997, 0.24962852897473997, 0.24962852897473997, 0.24962852897473997, 0.28454680534918275, 0.28454680534918275, 0.28454680534918275, 0.28454680534918275, 0.28454680534918275, 0.28454680534918275, 0.28454680534918275, 0.28454680534918275, 0.1162704309063893, 0.1162704309063893, 0.1162704309063893, 0.1162704309063893, 0.1162704309063893, 0.1162704309063893, 0.1162704309063893, 0.1162704309063893, 0.1162704309063893, 0.23829866270430908, 0.23829866270430908, 0.23829866270430908, 0.23829866270430908, 0.23829866270430908, 0.23829866270430908, 0.23829866270430908, 0.23829866270430908, 0.23829866270430908, 0.40026002971768204, 0.40026002971768204, 0.40026002971768204, 0.40026002971768204, 0.40026002971768204, 0.40026002971768204, 0.40026002971768204, 0.40026002971768204, 0.40026002971768204, 0.15694650817236255, 0.15694650817236255, 0.15694650817236255, 0.15694650817236255, 0.15694650817236255, 0.15694650817236255, 0.15694650817236255, 0.15694650817236255, 0.15694650817236255, 0.3534546805349183, 0.3534546805349183, 0.3534546805349183, 0.3534546805349183, 0.3534546805349183, 0.3534546805349183, 0.3534546805349183, 0.3534546805349183, 0.3534546805349183, 0.43684992570579495, 0.43684992570579495, 0.43684992570579495, 0.43684992570579495, 0.43684992570579495, 0.43684992570579495, 0.43684992570579495, 0.43684992570579495, 0.43684992570579495, 0.2890044576523031, 0.2890044576523031, 0.2890044576523031, 0.2890044576523031, 0.2890044576523031, 0.2890044576523031, 0.2890044576523031, 0.47306835066864783, 0.47306835066864783, 0.47306835066864783, 0.47306835066864783, 0.47306835066864783, 0.47306835066864783, 0.47306835066864783, 0.47306835066864783, 0.49777117384843983, 0.49777117384843983, 0.49777117384843983, 0.49777117384843983, 0.49777117384843983, 0.49777117384843983, 0.49777117384843983, 0.49777117384843983, 0.49777117384843983, 0.7245542347696879, 0.7245542347696879, 0.7245542347696879, 0.7245542347696879, 0.7245542347696879, 0.7245542347696879, 0.7245542347696879, 0.7245542347696879, 0.7245542347696879, 0.3564264487369985, 0.3564264487369985, 0.3564264487369985, 0.3564264487369985, 0.3564264487369985, 0.3564264487369985, 0.3564264487369985, 0.3564264487369985, 0.3564264487369985, 0.3564264487369985, 0.28566121842496284, 0.28566121842496284, 0.28566121842496284, 0.28566121842496284, 0.28566121842496284, 0.28566121842496284, 0.28566121842496284, 0.28566121842496284, 0.28566121842496284, 0.2529717682020802, 0.2529717682020802, 0.2529717682020802, 0.2529717682020802, 0.2529717682020802, 0.2529717682020802, 0.2529717682020802, 0.2529717682020802, 0.27191679049034173, 0.27191679049034173, 0.27191679049034173, 0.27191679049034173, 0.27191679049034173, 0.27191679049034173, 0.27191679049034173, 0.27191679049034173, 0.27191679049034173, 0.27191679049034173, 0.35271173848439824, 0.35271173848439824, 0.35271173848439824, 0.35271173848439824, 0.35271173848439824, 0.35271173848439824, 0.35271173848439824, 0.35271173848439824, 0.35271173848439824, 0.19650817236255572, 0.19650817236255572, 0.19650817236255572, 0.19650817236255572, 0.19650817236255572, 0.19650817236255572, 0.19650817236255572, 0.19650817236255572, 0.19650817236255572, 0.18202080237741455, 0.18202080237741455, 0.18202080237741455, 0.18202080237741455, 0.18202080237741455, 0.18202080237741455, 0.18202080237741455, 0.18202080237741455, 0.2552005943536404, 0.2552005943536404, 0.2552005943536404, 0.2552005943536404, 0.2552005943536404, 0.2552005943536404, 0.2552005943536404, 0.28473254086181277, 0.28473254086181277, 0.28473254086181277, 0.28473254086181277, 0.28473254086181277, 0.28473254086181277, 0.28473254086181277, 0.28473254086181277, 0.3562407132243685, 0.3562407132243685, 0.3562407132243685, 0.3562407132243685, 0.3562407132243685, 0.3562407132243685, 0.3562407132243685, 0.3562407132243685, 0.3562407132243685, 0.3532689450222883, 0.3532689450222883, 0.3532689450222883, 0.3532689450222883, 0.3532689450222883, 0.3532689450222883, 0.3532689450222883, 0.3532689450222883, 0.3532689450222883, 0.3532689450222883, 0.2908618127786033, 0.2908618127786033, 0.2908618127786033, 0.2908618127786033, 0.2908618127786033, 0.2908618127786033, 0.2908618127786033, 0.2908618127786033, 0.2908618127786033, 0.12239970282317979, 0.12239970282317979, 0.12239970282317979, 0.12239970282317979, 0.12239970282317979, 0.12239970282317979, 0.12239970282317979, 0.12239970282317979, 0.12239970282317979, 0.4725111441307578, 0.4725111441307578, 0.4725111441307578, 0.4725111441307578, 0.4725111441307578, 0.4725111441307578, 0.4725111441307578, 0.4725111441307578, 0.4725111441307578, 0.24554234769687963, 0.24554234769687963, 0.24554234769687963, 0.24554234769687963, 0.24554234769687963, 0.24554234769687963, 0.2526002971768202, 0.2526002971768202, 0.2526002971768202, 0.2526002971768202, 0.2526002971768202, 0.2526002971768202, 0.2526002971768202, 0.2526002971768202, 0.2526002971768202, 0.12295690936106983, 0.12295690936106983, 0.12295690936106983, 0.12295690936106983, 0.12295690936106983, 0.12295690936106983, 0.12295690936106983, 0.12295690936106983, 0.12295690936106983, 0.22381129271916791, 0.22381129271916791, 0.22381129271916791, 0.22381129271916791, 0.22381129271916791, 0.22381129271916791, 0.22381129271916791, 0.22994056463595838, 0.22994056463595838, 0.22994056463595838, 0.22994056463595838, 0.22994056463595838, 0.22994056463595838, 0.22994056463595838, 0.22994056463595838, 0.22994056463595838, 0.12537147102526003, 0.12537147102526003, 0.12537147102526003, 0.12537147102526003, 0.12537147102526003, 0.12537147102526003, 0.12537147102526003, 0.12537147102526003, 0.12537147102526003, 0.4294205052005943, 0.4294205052005943, 0.4294205052005943, 0.4294205052005943, 0.4294205052005943, 0.4294205052005943, 0.4294205052005943, 0.4294205052005943, 0.4294205052005943, 0.2910475482912333, 0.2910475482912333, 0.2910475482912333, 0.2910475482912333, 0.2910475482912333, 0.2910475482912333, 0.2910475482912333, 0.2910475482912333, 0.2910475482912333, 0.4049034175334324, 0.4049034175334324, 0.4049034175334324, 0.4049034175334324, 0.4049034175334324, 0.4049034175334324, 0.4049034175334324, 0.4049034175334324, 0.4049034175334324, 0.29977711738484397, 0.29977711738484397, 0.29977711738484397, 0.29977711738484397, 0.29977711738484397, 0.29977711738484397, 0.29977711738484397, 0.29977711738484397, 0.29977711738484397, 0.5187592867756315, 0.5187592867756315, 0.5187592867756315, 0.5187592867756315, 0.5187592867756315, 0.5187592867756315, 0.5187592867756315, 0.5187592867756315, 0.5187592867756315, 0.413075780089153, 0.413075780089153, 0.413075780089153, 0.413075780089153, 0.413075780089153, 0.413075780089153, 0.413075780089153, 0.413075780089153, 0.413075780089153, 0.649145616641902, 0.649145616641902, 0.649145616641902, 0.649145616641902, 0.649145616641902, 0.649145616641902, 0.649145616641902, 0.649145616641902, 0.649145616641902, 0.5159732540861813, 0.5159732540861813, 0.5159732540861813, 0.5159732540861813, 0.5159732540861813, 0.5159732540861813, 0.5159732540861813, 0.5159732540861813, 0.5159732540861813, 0.5774517087667161, 0.5774517087667161, 0.5774517087667161, 0.5774517087667161, 0.5774517087667161, 0.5774517087667161, 0.5774517087667161, 0.5774517087667161, 0.5774517087667161, 0.5774517087667161, 0.4145616641901932, 0.4145616641901932, 0.4145616641901932, 0.4145616641901932, 0.4145616641901932, 0.4145616641901932, 0.4145616641901932, 0.4145616641901932, 0.4145616641901932, 0.33915304606240715, 0.33915304606240715, 0.33915304606240715, 0.33915304606240715, 0.33915304606240715, 0.33915304606240715, 0.33915304606240715, 0.33915304606240715, 0.33915304606240715, 0.20189450222882616, 0.20189450222882616, 0.20189450222882616, 0.20189450222882616, 0.20189450222882616, 0.20189450222882616, 0.20189450222882616, 0.20189450222882616, 0.20189450222882616, 0.6588038632986627, 0.6588038632986627, 0.6588038632986627, 0.6588038632986627, 0.6588038632986627, 0.6588038632986627, 0.6588038632986627, 0.6588038632986627, 0.6588038632986627, 0.6588038632986627, 0.40323179791976227, 0.40323179791976227, 0.40323179791976227, 0.40323179791976227, 0.40323179791976227, 0.40323179791976227, 0.40323179791976227, 0.40323179791976227, 0.40323179791976227, 0.27953194650817237, 0.27953194650817237, 0.27953194650817237, 0.27953194650817237, 0.27953194650817237, 0.27953194650817237, 0.27953194650817237, 0.27953194650817237, 0.27953194650817237, 0.1773774145616642, 0.1773774145616642, 0.1773774145616642, 0.1773774145616642, 0.1773774145616642, 0.1773774145616642, 0.1773774145616642, 0.1773774145616642, 0.1773774145616642, 0.2949479940564636, 0.2949479940564636, 0.2949479940564636, 0.2949479940564636, 0.2949479940564636, 0.2949479940564636, 0.2949479940564636, 0.2949479940564636, 0.2949479940564636, 0.30330609212481424, 0.30330609212481424, 0.30330609212481424, 0.30330609212481424, 0.30330609212481424, 0.30330609212481424, 0.30330609212481424, 0.30330609212481424, 0.30330609212481424, 0.37035661218424965, 0.37035661218424965, 0.37035661218424965, 0.37035661218424965, 0.37035661218424965, 0.37035661218424965, 0.37035661218424965, 0.37035661218424965, 0.37035661218424965, 0.28343239227340267, 0.28343239227340267, 0.28343239227340267, 0.28343239227340267, 0.28343239227340267, 0.28343239227340267, 0.28343239227340267, 0.28343239227340267, 0.28343239227340267, 0.3928306092124814, 0.3928306092124814, 0.3928306092124814, 0.3928306092124814, 0.3928306092124814, 0.3928306092124814, 0.3928306092124814, 0.3928306092124814, 0.3928306092124814, 0.38651560178306094, 0.38651560178306094, 0.38651560178306094, 0.38651560178306094, 0.38651560178306094, 0.38651560178306094, 0.38651560178306094, 0.6084695393759286, 0.6084695393759286, 0.6084695393759286, 0.6084695393759286, 0.6084695393759286, 0.6084695393759286, 0.6084695393759286, 0.6084695393759286, 0.6084695393759286, 0.1324294205052006, 0.1324294205052006, 0.1324294205052006, 0.1324294205052006, 0.1324294205052006, 0.1324294205052006, 0.1324294205052006, 0.1324294205052006, 0.1324294205052006, 0.5263744427934621, 0.5263744427934621, 0.5263744427934621, 0.5263744427934621, 0.5263744427934621, 0.5263744427934621, 0.5263744427934621, 0.5263744427934621, 0.5263744427934621, 0.32708023774145617, 0.32708023774145617, 0.32708023774145617, 0.32708023774145617, 0.32708023774145617, 0.32708023774145617, 0.32708023774145617, 0.32708023774145617, 0.32708023774145617, 0.34416790490341753, 0.34416790490341753, 0.34416790490341753, 0.34416790490341753, 0.34416790490341753, 0.34416790490341753, 0.34416790490341753, 0.612184249628529, 0.612184249628529, 0.612184249628529, 0.612184249628529, 0.612184249628529, 0.612184249628529, 0.612184249628529, 0.612184249628529, 0.612184249628529, 0.25334323922734026, 0.25334323922734026, 0.25334323922734026, 0.25334323922734026, 0.25334323922734026, 0.25334323922734026, 0.25334323922734026, 0.25334323922734026, 0.25334323922734026, 0.3400817236255572, 0.3400817236255572, 0.3400817236255572, 0.3400817236255572, 0.3400817236255572, 0.3400817236255572, 0.3400817236255572, 0.3400817236255572, 0.3400817236255572, 0.37518573551263, 0.37518573551263, 0.37518573551263, 0.37518573551263, 0.37518573551263, 0.37518573551263, 0.37518573551263, 0.37518573551263, 0.37518573551263, 0.34435364041604755, 0.34435364041604755, 0.34435364041604755, 0.34435364041604755, 0.34435364041604755, 0.34435364041604755, 0.34435364041604755, 0.34435364041604755, 0.34435364041604755, 0.30516344725111444, 0.30516344725111444, 0.30516344725111444, 0.30516344725111444, 0.30516344725111444, 0.30516344725111444, 0.30516344725111444, 0.30516344725111444, 0.30516344725111444, 0.26448736998514116, 0.26448736998514116, 0.26448736998514116, 0.26448736998514116, 0.26448736998514116, 0.26448736998514116, 0.26448736998514116, 0.26448736998514116, 0.26448736998514116, 1.0, 1.0, 1.0, 1.0, 1.0, 1.0, 1.0, 1.0, 1.0, 0.07169390787518573, 0.07169390787518573, 0.07169390787518573, 0.07169390787518573, 0.07169390787518573, 0.07169390787518573, 0.07169390787518573, 0.07169390787518573, 0.07169390787518573, 0.3025631500742942, 0.3025631500742942, 0.3025631500742942, 0.3025631500742942, 0.3025631500742942, 0.3025631500742942, 0.3025631500742942, 0.3025631500742942, 0.3025631500742942, 0.3671991084695394, 0.3671991084695394, 0.3671991084695394, 0.3671991084695394, 0.3671991084695394, 0.3671991084695394, 0.3671991084695394, 0.3671991084695394, 0.3671991084695394, 0.10549777117384844, 0.10549777117384844, 0.10549777117384844, 0.10549777117384844, 0.10549777117384844, 0.10549777117384844, 0.10549777117384844, 0.10549777117384844, 0.16158989598811294, 0.16158989598811294, 0.16158989598811294, 0.16158989598811294, 0.16158989598811294, 0.16158989598811294, 0.16158989598811294, 0.16158989598811294, 0.16158989598811294, 0.4648959881129272, 0.4648959881129272, 0.4648959881129272, 0.4648959881129272, 0.4648959881129272, 0.4648959881129272, 0.4648959881129272, 0.4648959881129272, 0.4648959881129272, 0.4648959881129272, 0.16604754829123328, 0.16604754829123328, 0.16604754829123328, 0.16604754829123328, 0.16604754829123328, 0.16604754829123328, 0.16604754829123328, 0.16604754829123328, 0.16604754829123328, 0.5226597325408618, 0.5226597325408618, 0.5226597325408618, 0.5226597325408618, 0.5226597325408618, 0.5226597325408618, 0.5226597325408618, 0.5226597325408618, 0.5226597325408618, 0.19780832095096582, 0.19780832095096582, 0.19780832095096582, 0.19780832095096582, 0.19780832095096582, 0.19780832095096582, 0.19780832095096582, 0.19780832095096582, 0.19427934621099555, 0.19427934621099555, 0.19427934621099555, 0.19427934621099555, 0.19427934621099555, 0.19427934621099555, 0.19427934621099555, 0.19427934621099555, 0.19427934621099555, 0.3449108469539376, 0.3449108469539376, 0.3449108469539376, 0.3449108469539376, 0.3449108469539376, 0.3449108469539376, 0.3449108469539376, 0.0713224368499257, 0.0713224368499257, 0.0713224368499257, 0.0713224368499257, 0.0713224368499257, 0.0713224368499257, 0.0713224368499257, 0.0713224368499257, 0.0713224368499257, 0.15564635958395245, 0.15564635958395245, 0.15564635958395245, 0.15564635958395245, 0.15564635958395245, 0.15564635958395245, 0.15564635958395245, 0.15564635958395245, 0.15564635958395245, 0.047734026745913816, 0.047734026745913816, 0.047734026745913816, 0.047734026745913816, 0.047734026745913816, 0.047734026745913816, 0.047734026745913816, 0.047734026745913816, 0.047734026745913816, 0.4160475482912333, 0.4160475482912333, 0.4160475482912333, 0.4160475482912333, 0.4160475482912333, 0.4160475482912333, 0.4160475482912333, 0.4160475482912333, 0.19687964338781574, 0.19687964338781574, 0.19687964338781574, 0.19687964338781574, 0.19687964338781574, 0.19687964338781574, 0.19687964338781574, 0.19687964338781574, 0.19687964338781574, 0.10178306092124814, 0.10178306092124814, 0.10178306092124814, 0.10178306092124814, 0.10178306092124814, 0.10178306092124814, 0.10178306092124814, 0.10178306092124814, 0.17143387815750372, 0.17143387815750372, 0.17143387815750372, 0.17143387815750372, 0.17143387815750372, 0.17143387815750372, 0.17143387815750372, 0.17143387815750372, 0.0, 0.0, 0.0, 0.0, 0.0, 0.0, 0.3723997028231798, 0.3723997028231798, 0.3723997028231798, 0.3723997028231798, 0.3723997028231798, 0.3723997028231798, 0.3723997028231798, 0.3723997028231798, 0.3723997028231798, 0.19780832095096582, 0.19780832095096582, 0.19780832095096582, 0.19780832095096582, 0.19780832095096582, 0.19780832095096582, 0.19780832095096582, 0.19780832095096582, 0.19780832095096582, 0.3885586924219911, 0.3885586924219911, 0.3885586924219911, 0.3885586924219911, 0.3885586924219911, 0.3885586924219911, 0.3885586924219911, 0.5806092124814265, 0.5806092124814265, 0.5806092124814265, 0.5806092124814265, 0.5806092124814265, 0.5806092124814265, 0.5806092124814265, 0.5806092124814265, 0.5806092124814265, 0.17644873699851413, 0.17644873699851413, 0.17644873699851413, 0.17644873699851413, 0.17644873699851413, 0.17644873699851413, 0.17644873699851413, 0.17644873699851413, 0.17644873699851413, 0.07355126300148589, 0.07355126300148589, 0.07355126300148589, 0.07355126300148589, 0.07355126300148589, 0.07355126300148589, 0.07355126300148589, 0.07355126300148589, 0.07355126300148589, 0.23421248142644874, 0.23421248142644874, 0.23421248142644874, 0.23421248142644874, 0.23421248142644874, 0.23421248142644874, 0.23421248142644874, 0.23421248142644874, 0.23551263001485884, 0.23551263001485884, 0.23551263001485884, 0.23551263001485884, 0.23551263001485884, 0.23551263001485884, 0.23551263001485884, 0.23551263001485884, 0.5638930163447251, 0.5638930163447251, 0.5638930163447251, 0.5638930163447251, 0.5638930163447251, 0.5638930163447251, 0.5638930163447251, 0.5638930163447251, 0.5638930163447251, 0.2436849925705795, 0.2436849925705795, 0.2436849925705795, 0.2436849925705795, 0.2436849925705795, 0.2436849925705795, 0.2436849925705795, 0.2436849925705795, 0.2436849925705795, 0.22436849925705796, 0.22436849925705796, 0.22436849925705796, 0.22436849925705796, 0.22436849925705796, 0.22436849925705796, 0.22436849925705796, 0.22436849925705796, 0.16066121842496286, 0.16066121842496286, 0.16066121842496286, 0.16066121842496286, 0.16066121842496286, 0.16066121842496286, 0.16066121842496286, 0.16066121842496286, 0.16066121842496286, 0.20319465081723626, 0.20319465081723626, 0.20319465081723626, 0.20319465081723626, 0.20319465081723626, 0.20319465081723626, 0.20319465081723626, 0.20319465081723626, 0.20319465081723626, 0.36571322436849923, 0.36571322436849923, 0.36571322436849923, 0.36571322436849923, 0.36571322436849923, 0.36571322436849923, 0.36571322436849923, 0.36571322436849923, 0.36571322436849923, 0.40026002971768204, 0.40026002971768204, 0.40026002971768204, 0.40026002971768204, 0.40026002971768204, 0.40026002971768204, 0.40026002971768204, 0.40026002971768204, 0.40026002971768204, 0.41326151560178304, 0.41326151560178304, 0.41326151560178304, 0.41326151560178304, 0.41326151560178304, 0.41326151560178304, 0.41326151560178304, 0.41326151560178304, 0.41326151560178304, 0.16047548291233285, 0.16047548291233285, 0.16047548291233285, 0.16047548291233285, 0.16047548291233285, 0.16047548291233285, 0.16047548291233285, 0.16047548291233285, 0.16047548291233285, 0.2526002971768202, 0.2526002971768202, 0.2526002971768202, 0.2526002971768202, 0.2526002971768202, 0.2526002971768202, 0.2526002971768202, 0.2526002971768202, 0.5809806835066865, 0.5809806835066865, 0.5809806835066865, 0.5809806835066865, 0.5809806835066865, 0.5809806835066865, 0.5809806835066865, 0.5809806835066865, 0.5809806835066865, 0.26838781575037146, 0.26838781575037146, 0.26838781575037146, 0.26838781575037146, 0.26838781575037146, 0.26838781575037146, 0.26838781575037146, 0.26838781575037146, 0.26838781575037146, 0.0737369985141159, 0.0737369985141159, 0.0737369985141159, 0.0737369985141159, 0.0737369985141159, 0.0737369985141159, 0.0737369985141159, 0.0737369985141159, 0.3324665676077266, 0.3324665676077266, 0.3324665676077266, 0.3324665676077266, 0.3324665676077266, 0.3324665676077266, 0.3324665676077266, 0.3324665676077266, 0.3324665676077266, 0.3937592867756315, 0.3937592867756315, 0.3937592867756315, 0.3937592867756315, 0.3937592867756315, 0.3937592867756315, 0.3937592867756315, 0.3937592867756315, 0.3937592867756315, 0.37667161961367013, 0.37667161961367013, 0.37667161961367013, 0.37667161961367013, 0.37667161961367013, 0.37667161961367013, 0.37667161961367013, 0.37667161961367013, 0.37667161961367013, 0.28863298662704306, 0.28863298662704306, 0.28863298662704306, 0.28863298662704306, 0.28863298662704306, 0.28863298662704306, 0.28863298662704306, 0.28863298662704306, 0.5468053491827637, 0.5468053491827637, 0.5468053491827637, 0.5468053491827637, 0.5468053491827637, 0.5468053491827637, 0.5468053491827637, 0.5468053491827637, 0.5468053491827637, 0.475297176820208, 0.475297176820208, 0.475297176820208, 0.475297176820208, 0.475297176820208, 0.475297176820208, 0.475297176820208, 0.475297176820208, 0.475297176820208, 0.24702823179791977, 0.24702823179791977, 0.24702823179791977, 0.24702823179791977, 0.24702823179791977, 0.24702823179791977, 0.24702823179791977, 0.24702823179791977, 0.24702823179791977, 0.34063893016344726, 0.34063893016344726, 0.34063893016344726, 0.34063893016344726, 0.34063893016344726, 0.34063893016344726, 0.34063893016344726, 0.34063893016344726, 0.34063893016344726, 0.2553863298662704, 0.2553863298662704, 0.2553863298662704, 0.2553863298662704, 0.2553863298662704, 0.2553863298662704, 0.2553863298662704, 0.2553863298662704, 0.2553863298662704, 0.11552748885586925, 0.11552748885586925, 0.11552748885586925, 0.11552748885586925, 0.11552748885586925, 0.11552748885586925, 0.11552748885586925, 0.11552748885586925, 0.11552748885586925, 0.11552748885586925, 0.19520802377414562, 0.19520802377414562, 0.19520802377414562, 0.19520802377414562, 0.19520802377414562, 0.19520802377414562, 0.19520802377414562, 0.3330237741456166, 0.3330237741456166, 0.3330237741456166, 0.3330237741456166, 0.3330237741456166, 0.3330237741456166, 0.3330237741456166, 0.3330237741456166, 0.3330237741456166, 0.6320579494799405, 0.6320579494799405, 0.6320579494799405, 0.6320579494799405, 0.6320579494799405, 0.6320579494799405, 0.6320579494799405, 0.6320579494799405, 0.6320579494799405, 0.18852154531946508, 0.18852154531946508, 0.18852154531946508, 0.18852154531946508, 0.18852154531946508, 0.18852154531946508, 0.18852154531946508, 0.18852154531946508, 0.3885586924219911, 0.3885586924219911, 0.3885586924219911, 0.3885586924219911, 0.3885586924219911, 0.3885586924219911, 0.3885586924219911, 0.3885586924219911, 0.3885586924219911, 0.40416047548291234, 0.40416047548291234, 0.40416047548291234, 0.40416047548291234, 0.40416047548291234, 0.40416047548291234, 0.40416047548291234, 0.40416047548291234, 0.40416047548291234, 0.2611441307578009, 0.2611441307578009, 0.2611441307578009, 0.2611441307578009, 0.2611441307578009, 0.2611441307578009, 0.2611441307578009, 0.2611441307578009, 0.06519316493313522, 0.06519316493313522, 0.06519316493313522, 0.06519316493313522, 0.06519316493313522, 0.06519316493313522, 0.06519316493313522, 0.06519316493313522, 0.06519316493313522, 0.3924591381872214, 0.3924591381872214, 0.3924591381872214, 0.3924591381872214, 0.3924591381872214, 0.3924591381872214, 0.3924591381872214, 0.3924591381872214, 0.3924591381872214, 0.24015601783060922, 0.24015601783060922, 0.24015601783060922, 0.24015601783060922, 0.24015601783060922, 0.24015601783060922, 0.24015601783060922, 0.24015601783060922, 0.24015601783060922, 0.2702451708766716, 0.2702451708766716, 0.2702451708766716, 0.2702451708766716, 0.2702451708766716, 0.2702451708766716, 0.2702451708766716, 0.2702451708766716, 0.2702451708766716, 0.6071693907875185, 0.6071693907875185, 0.6071693907875185, 0.6071693907875185, 0.6071693907875185, 0.6071693907875185, 0.6071693907875185, 0.6071693907875185, 0.6071693907875185, 0.43146359583952454, 0.43146359583952454, 0.43146359583952454, 0.43146359583952454, 0.43146359583952454, 0.43146359583952454, 0.43146359583952454, 0.43146359583952454, 0.43146359583952454, 0.2600297176820208, 0.2600297176820208, 0.2600297176820208, 0.2600297176820208, 0.2600297176820208, 0.2600297176820208, 0.2600297176820208, 0.412704309063893, 0.412704309063893, 0.412704309063893, 0.412704309063893, 0.412704309063893, 0.412704309063893, 0.412704309063893, 0.412704309063893, 0.412704309063893, 0.3978454680534918, 0.3978454680534918, 0.3978454680534918, 0.3978454680534918, 0.3978454680534918, 0.3978454680534918, 0.3978454680534918, 0.3978454680534918, 0.3978454680534918, 0.3978454680534918, 0.22585438335809807, 0.22585438335809807, 0.22585438335809807, 0.22585438335809807, 0.22585438335809807, 0.22585438335809807, 0.22585438335809807, 0.22585438335809807, 0.22585438335809807, 0.47306835066864783, 0.47306835066864783, 0.47306835066864783, 0.47306835066864783, 0.47306835066864783, 0.47306835066864783, 0.47306835066864783, 0.47306835066864783, 0.47306835066864783, 0.37722882615156017, 0.37722882615156017, 0.37722882615156017, 0.37722882615156017, 0.37722882615156017, 0.37722882615156017, 0.37722882615156017, 0.37722882615156017, 0.5473625557206538, 0.5473625557206538, 0.5473625557206538, 0.5473625557206538, 0.5473625557206538, 0.5473625557206538, 0.5473625557206538, 0.5473625557206538, 0.5473625557206538, 0.5473625557206538, 0.21712481426448738, 0.21712481426448738, 0.21712481426448738, 0.21712481426448738, 0.21712481426448738, 0.21712481426448738, 0.21712481426448738, 0.21712481426448738, 0.21712481426448738, 0.1012258543833581, 0.1012258543833581, 0.1012258543833581, 0.1012258543833581, 0.1012258543833581, 0.1012258543833581, 0.1012258543833581, 0.1012258543833581, 0.1012258543833581, 0.40193164933135217, 0.40193164933135217, 0.40193164933135217, 0.40193164933135217, 0.40193164933135217, 0.40193164933135217, 0.40193164933135217, 0.40193164933135217, 0.40193164933135217, 0.3038632986627043, 0.3038632986627043, 0.3038632986627043, 0.3038632986627043, 0.3038632986627043, 0.3038632986627043, 0.3038632986627043, 0.3038632986627043, 0.10048291233283804, 0.10048291233283804, 0.10048291233283804, 0.10048291233283804, 0.10048291233283804, 0.10048291233283804, 0.10048291233283804, 0.10048291233283804, 0.10048291233283804, 0.29791976225854383, 0.29791976225854383, 0.29791976225854383, 0.29791976225854383, 0.29791976225854383, 0.29791976225854383, 0.29791976225854383, 0.29791976225854383, 0.29791976225854383, 0.4349925705794948, 0.4349925705794948, 0.4349925705794948, 0.4349925705794948, 0.4349925705794948, 0.4349925705794948, 0.4349925705794948, 0.4349925705794948, 0.4349925705794948, 0.3723997028231798, 0.3723997028231798, 0.3723997028231798, 0.3723997028231798, 0.3723997028231798, 0.3723997028231798, 0.3723997028231798, 0.3723997028231798, 0.3723997028231798, 0.3202080237741456, 0.3202080237741456, 0.3202080237741456, 0.3202080237741456, 0.3202080237741456, 0.3202080237741456, 0.3202080237741456, 0.3202080237741456, 0.1699479940564636, 0.1699479940564636, 0.1699479940564636, 0.1699479940564636, 0.1699479940564636, 0.1699479940564636, 0.1699479940564636, 0.1699479940564636, 0.42329123328380386, 0.42329123328380386, 0.42329123328380386, 0.42329123328380386, 0.42329123328380386, 0.42329123328380386, 0.42329123328380386, 0.42329123328380386, 0.42329123328380386, 0.3547548291233284, 0.3547548291233284, 0.3547548291233284, 0.3547548291233284, 0.3547548291233284, 0.3547548291233284, 0.3547548291233284, 0.3547548291233284, 0.3547548291233284, 0.3723997028231798, 0.3202080237741456, 0.1699479940564636, 0.42329123328380386, 0.3547548291233284, 0.3723997028231798, 0.3723997028231798, 0.3723997028231798, 0.3723997028231798, 0.3723997028231798, 0.3723997028231798, 0.3723997028231798, 0.3723997028231798, 0.3723997028231798, 0.3723997028231798, 0.3723997028231798, 0.3723997028231798, 0.3723997028231798, 0.3723997028231798, 0.3723997028231798, 0.3723997028231798, 0.3723997028231798, 0.3723997028231798, 0.3723997028231798, 0.3723997028231798, 0.3723997028231798, 0.3723997028231798, 0.3723997028231798, 0.3723997028231798, 0.3723997028231798, 0.3723997028231798, 0.3723997028231798, 0.3723997028231798, 0.3723997028231798, 0.3723997028231798, 0.3723997028231798, 0.3723997028231798, 0.3723997028231798, 0.3723997028231798, 0.3723997028231798, 0.3723997028231798, 0.3723997028231798, 0.3723997028231798, 0.3723997028231798, 0.3723997028231798, 0.3723997028231798, 0.3723997028231798, 0.3723997028231798, 0.3723997028231798, 0.3723997028231798, 0.3723997028231798, 0.3723997028231798, 0.3723997028231798, 0.3723997028231798, 0.3723997028231798, 0.3723997028231798, 0.3723997028231798, 0.3723997028231798, 0.3723997028231798, 0.3723997028231798, 0.3723997028231798, 0.3723997028231798, 0.3723997028231798, 0.3723997028231798, 0.3723997028231798, 0.3723997028231798, 0.3723997028231798, 0.3723997028231798, 0.3723997028231798, 0.3723997028231798, 0.3723997028231798, 0.3723997028231798, 0.3723997028231798, 0.3723997028231798, 0.3723997028231798, 0.3723997028231798, 0.3723997028231798, 0.3723997028231798, 0.3723997028231798, 0.3723997028231798, 0.3723997028231798, 0.3723997028231798, 0.3723997028231798, 0.3723997028231798, 0.3723997028231798, 0.3723997028231798, 0.3723997028231798, 0.3723997028231798, 0.3723997028231798, 0.3723997028231798, 0.3723997028231798, 0.3723997028231798, 0.3723997028231798, 0.3723997028231798, 0.3723997028231798, 0.3723997028231798, 0.3723997028231798, 0.3723997028231798, 0.3723997028231798, 0.3723997028231798, 0.3723997028231798, 0.3723997028231798, 0.3723997028231798, 0.3723997028231798, 0.3723997028231798, 0.3723997028231798, 0.3723997028231798, 0.3723997028231798, 0.3723997028231798, 0.3723997028231798, 0.3723997028231798, 0.3723997028231798, 0.3723997028231798, 0.3723997028231798, 0.3723997028231798, 0.3723997028231798, 0.3723997028231798, 0.3723997028231798, 0.3723997028231798, 0.3723997028231798, 0.3723997028231798, 0.3723997028231798, 0.3723997028231798, 0.3723997028231798, 0.3723997028231798, 0.3723997028231798, 0.3723997028231798, 0.3723997028231798, 0.3723997028231798, 0.3723997028231798, 0.3723997028231798, 0.3723997028231798, 0.3723997028231798, 0.3723997028231798, 0.3723997028231798, 0.3723997028231798, 0.3723997028231798, 0.3723997028231798, 0.3723997028231798, 0.3723997028231798, 0.3723997028231798, 0.3723997028231798, 0.3723997028231798, 0.3723997028231798, 0.3723997028231798, 0.3723997028231798, 0.3723997028231798, 0.3723997028231798, 0.3723997028231798, 0.3723997028231798, 0.3723997028231798, 0.3202080237741456, 0.3202080237741456, 0.3202080237741456, 0.3202080237741456, 0.3202080237741456, 0.3202080237741456, 0.3202080237741456, 0.3202080237741456, 0.3202080237741456, 0.3202080237741456, 0.3202080237741456, 0.3202080237741456, 0.3202080237741456, 0.3202080237741456, 0.3202080237741456, 0.3202080237741456, 0.3202080237741456, 0.3202080237741456, 0.3202080237741456, 0.3202080237741456, 0.3202080237741456, 0.3202080237741456, 0.3202080237741456, 0.3202080237741456, 0.3202080237741456, 0.3202080237741456, 0.3202080237741456, 0.3202080237741456, 0.3202080237741456, 0.3202080237741456, 0.3202080237741456, 0.3202080237741456, 0.3202080237741456, 0.3202080237741456, 0.3202080237741456, 0.3202080237741456, 0.3202080237741456, 0.3202080237741456, 0.3202080237741456, 0.3202080237741456, 0.3202080237741456, 0.3202080237741456, 0.3202080237741456, 0.3202080237741456, 0.3202080237741456, 0.3202080237741456, 0.3202080237741456, 0.3202080237741456, 0.3202080237741456, 0.3202080237741456, 0.3202080237741456, 0.3202080237741456, 0.3202080237741456, 0.3202080237741456, 0.3202080237741456, 0.3202080237741456, 0.3202080237741456, 0.3202080237741456, 0.3202080237741456, 0.3202080237741456, 0.3202080237741456, 0.3202080237741456, 0.3202080237741456, 0.3202080237741456, 0.3202080237741456, 0.3202080237741456, 0.3202080237741456, 0.3202080237741456, 0.3202080237741456, 0.3202080237741456, 0.3202080237741456, 0.3202080237741456, 0.3202080237741456, 0.3202080237741456, 0.3202080237741456, 0.3202080237741456, 0.3202080237741456, 0.3202080237741456, 0.3202080237741456, 0.3202080237741456, 0.3202080237741456, 0.3202080237741456, 0.3202080237741456, 0.3202080237741456, 0.3202080237741456, 0.3202080237741456, 0.3202080237741456, 0.3202080237741456, 0.3202080237741456, 0.3202080237741456, 0.3202080237741456, 0.3202080237741456, 0.3202080237741456, 0.3202080237741456, 0.3202080237741456, 0.3202080237741456, 0.3202080237741456, 0.3202080237741456, 0.3202080237741456, 0.3202080237741456, 0.3202080237741456, 0.3202080237741456, 0.3202080237741456, 0.3202080237741456, 0.3202080237741456, 0.3202080237741456, 0.3202080237741456, 0.3202080237741456, 0.3202080237741456, 0.3202080237741456, 0.3202080237741456, 0.3202080237741456, 0.3202080237741456, 0.3202080237741456, 0.3202080237741456, 0.3202080237741456, 0.3202080237741456, 0.3202080237741456, 0.3202080237741456, 0.3202080237741456, 0.3202080237741456, 0.3202080237741456, 0.3202080237741456, 0.3202080237741456, 0.3202080237741456, 0.3202080237741456, 0.3202080237741456, 0.3202080237741456, 0.3202080237741456, 0.3202080237741456, 0.3202080237741456, 0.3202080237741456, 0.3202080237741456, 0.3202080237741456, 0.3202080237741456, 0.3202080237741456, 0.3202080237741456, 0.3202080237741456, 0.3202080237741456, 0.3202080237741456, 0.3202080237741456, 0.3202080237741456, 0.3202080237741456, 0.3202080237741456, 0.3202080237741456, 0.3202080237741456, 0.1699479940564636, 0.1699479940564636, 0.1699479940564636, 0.1699479940564636, 0.1699479940564636, 0.1699479940564636, 0.1699479940564636, 0.1699479940564636, 0.1699479940564636, 0.1699479940564636, 0.1699479940564636, 0.1699479940564636, 0.1699479940564636, 0.1699479940564636, 0.1699479940564636, 0.1699479940564636, 0.1699479940564636, 0.1699479940564636, 0.1699479940564636, 0.1699479940564636, 0.1699479940564636, 0.1699479940564636, 0.1699479940564636, 0.1699479940564636, 0.1699479940564636, 0.1699479940564636, 0.1699479940564636, 0.1699479940564636, 0.1699479940564636, 0.1699479940564636, 0.1699479940564636, 0.1699479940564636, 0.1699479940564636, 0.1699479940564636, 0.1699479940564636, 0.1699479940564636, 0.1699479940564636, 0.1699479940564636, 0.1699479940564636, 0.1699479940564636, 0.1699479940564636, 0.1699479940564636, 0.1699479940564636, 0.1699479940564636, 0.1699479940564636, 0.1699479940564636, 0.1699479940564636, 0.1699479940564636, 0.1699479940564636, 0.1699479940564636, 0.1699479940564636, 0.1699479940564636, 0.1699479940564636, 0.1699479940564636, 0.1699479940564636, 0.1699479940564636, 0.1699479940564636, 0.1699479940564636, 0.1699479940564636, 0.1699479940564636, 0.1699479940564636, 0.1699479940564636, 0.1699479940564636, 0.1699479940564636, 0.1699479940564636, 0.1699479940564636, 0.1699479940564636, 0.1699479940564636, 0.1699479940564636, 0.1699479940564636, 0.1699479940564636, 0.1699479940564636, 0.1699479940564636, 0.1699479940564636, 0.1699479940564636, 0.1699479940564636, 0.1699479940564636, 0.1699479940564636, 0.1699479940564636, 0.1699479940564636, 0.1699479940564636, 0.1699479940564636, 0.1699479940564636, 0.1699479940564636, 0.1699479940564636, 0.1699479940564636, 0.1699479940564636, 0.1699479940564636, 0.1699479940564636, 0.1699479940564636, 0.1699479940564636, 0.1699479940564636, 0.1699479940564636, 0.1699479940564636, 0.1699479940564636, 0.1699479940564636, 0.1699479940564636, 0.1699479940564636, 0.1699479940564636, 0.1699479940564636, 0.1699479940564636, 0.1699479940564636, 0.1699479940564636, 0.1699479940564636, 0.1699479940564636, 0.1699479940564636, 0.1699479940564636, 0.1699479940564636, 0.1699479940564636, 0.1699479940564636, 0.1699479940564636, 0.1699479940564636, 0.1699479940564636, 0.1699479940564636, 0.1699479940564636, 0.1699479940564636, 0.1699479940564636, 0.1699479940564636, 0.1699479940564636, 0.1699479940564636, 0.1699479940564636, 0.1699479940564636, 0.1699479940564636, 0.1699479940564636, 0.1699479940564636, 0.1699479940564636, 0.1699479940564636, 0.1699479940564636, 0.1699479940564636, 0.1699479940564636, 0.1699479940564636, 0.1699479940564636, 0.1699479940564636, 0.1699479940564636, 0.1699479940564636, 0.1699479940564636, 0.1699479940564636, 0.1699479940564636, 0.1699479940564636, 0.1699479940564636, 0.1699479940564636, 0.1699479940564636, 0.1699479940564636, 0.1699479940564636, 0.1699479940564636, 0.1699479940564636, 0.42329123328380386, 0.42329123328380386, 0.42329123328380386, 0.42329123328380386, 0.42329123328380386, 0.42329123328380386, 0.42329123328380386, 0.42329123328380386, 0.42329123328380386, 0.42329123328380386, 0.42329123328380386, 0.42329123328380386, 0.42329123328380386, 0.42329123328380386, 0.42329123328380386, 0.42329123328380386, 0.42329123328380386, 0.42329123328380386, 0.42329123328380386, 0.42329123328380386, 0.42329123328380386, 0.42329123328380386, 0.42329123328380386, 0.42329123328380386, 0.42329123328380386, 0.42329123328380386, 0.42329123328380386, 0.42329123328380386, 0.42329123328380386, 0.42329123328380386, 0.42329123328380386, 0.42329123328380386, 0.42329123328380386, 0.42329123328380386, 0.42329123328380386, 0.42329123328380386, 0.42329123328380386, 0.42329123328380386, 0.42329123328380386, 0.42329123328380386, 0.42329123328380386, 0.42329123328380386, 0.42329123328380386, 0.42329123328380386, 0.42329123328380386, 0.42329123328380386, 0.42329123328380386, 0.42329123328380386, 0.42329123328380386, 0.42329123328380386, 0.42329123328380386, 0.42329123328380386, 0.42329123328380386, 0.42329123328380386, 0.42329123328380386, 0.42329123328380386, 0.42329123328380386, 0.42329123328380386, 0.42329123328380386, 0.42329123328380386, 0.42329123328380386, 0.42329123328380386, 0.42329123328380386, 0.42329123328380386, 0.42329123328380386, 0.42329123328380386, 0.42329123328380386, 0.42329123328380386, 0.42329123328380386, 0.42329123328380386, 0.42329123328380386, 0.42329123328380386, 0.42329123328380386, 0.42329123328380386, 0.42329123328380386, 0.42329123328380386, 0.42329123328380386, 0.42329123328380386, 0.42329123328380386, 0.42329123328380386, 0.42329123328380386, 0.42329123328380386, 0.42329123328380386, 0.42329123328380386, 0.42329123328380386, 0.42329123328380386, 0.42329123328380386, 0.42329123328380386, 0.42329123328380386, 0.42329123328380386, 0.42329123328380386, 0.42329123328380386, 0.42329123328380386, 0.42329123328380386, 0.42329123328380386, 0.42329123328380386, 0.42329123328380386, 0.42329123328380386, 0.42329123328380386, 0.42329123328380386, 0.42329123328380386, 0.42329123328380386, 0.42329123328380386, 0.42329123328380386, 0.42329123328380386, 0.42329123328380386, 0.42329123328380386, 0.42329123328380386, 0.42329123328380386, 0.42329123328380386, 0.42329123328380386, 0.42329123328380386, 0.42329123328380386, 0.42329123328380386, 0.42329123328380386, 0.42329123328380386, 0.42329123328380386, 0.42329123328380386, 0.42329123328380386, 0.42329123328380386, 0.42329123328380386, 0.42329123328380386, 0.42329123328380386, 0.42329123328380386, 0.42329123328380386, 0.42329123328380386, 0.42329123328380386, 0.42329123328380386, 0.42329123328380386, 0.42329123328380386, 0.42329123328380386, 0.42329123328380386, 0.42329123328380386, 0.42329123328380386, 0.42329123328380386, 0.42329123328380386, 0.42329123328380386, 0.42329123328380386, 0.42329123328380386, 0.42329123328380386, 0.42329123328380386, 0.42329123328380386, 0.42329123328380386, 0.42329123328380386, 0.42329123328380386, 0.42329123328380386, 0.3547548291233284, 0.3547548291233284, 0.3547548291233284, 0.3547548291233284, 0.3547548291233284, 0.3547548291233284, 0.3547548291233284, 0.3547548291233284, 0.3547548291233284, 0.3547548291233284, 0.3547548291233284, 0.3547548291233284, 0.3547548291233284, 0.3547548291233284, 0.3547548291233284, 0.3547548291233284, 0.3547548291233284, 0.3547548291233284, 0.3547548291233284, 0.3547548291233284, 0.3547548291233284, 0.3547548291233284, 0.3547548291233284, 0.3547548291233284, 0.3547548291233284, 0.3547548291233284, 0.3547548291233284, 0.3547548291233284, 0.3547548291233284, 0.3547548291233284, 0.3547548291233284, 0.3547548291233284, 0.3547548291233284, 0.3547548291233284, 0.3547548291233284, 0.3547548291233284, 0.3547548291233284, 0.3547548291233284, 0.3547548291233284, 0.3547548291233284, 0.3547548291233284, 0.3547548291233284, 0.3547548291233284, 0.3547548291233284, 0.3547548291233284, 0.3547548291233284, 0.3547548291233284, 0.3547548291233284, 0.3547548291233284, 0.3547548291233284, 0.3547548291233284, 0.3547548291233284, 0.3547548291233284, 0.3547548291233284, 0.3547548291233284, 0.3547548291233284, 0.3547548291233284, 0.3547548291233284, 0.3547548291233284, 0.3547548291233284, 0.3547548291233284, 0.3547548291233284, 0.3547548291233284, 0.3547548291233284, 0.3547548291233284, 0.3547548291233284, 0.3547548291233284, 0.3547548291233284, 0.3547548291233284, 0.3547548291233284, 0.3547548291233284, 0.3547548291233284, 0.3547548291233284, 0.3547548291233284, 0.3547548291233284, 0.3547548291233284, 0.3547548291233284, 0.3547548291233284, 0.3547548291233284, 0.3547548291233284, 0.3547548291233284, 0.3547548291233284, 0.3547548291233284, 0.3547548291233284, 0.3547548291233284, 0.3547548291233284, 0.3547548291233284, 0.3547548291233284, 0.3547548291233284, 0.3547548291233284, 0.3547548291233284, 0.3547548291233284, 0.3547548291233284, 0.3547548291233284, 0.3547548291233284, 0.3547548291233284, 0.3547548291233284, 0.3547548291233284, 0.3547548291233284, 0.3547548291233284, 0.3547548291233284, 0.3547548291233284, 0.3547548291233284, 0.3547548291233284, 0.3547548291233284, 0.3547548291233284, 0.3547548291233284, 0.3547548291233284, 0.3547548291233284, 0.3547548291233284, 0.3547548291233284, 0.3547548291233284, 0.3547548291233284, 0.3547548291233284, 0.3547548291233284, 0.3547548291233284, 0.3547548291233284, 0.3547548291233284, 0.3547548291233284, 0.3547548291233284, 0.3547548291233284, 0.3547548291233284, 0.3547548291233284, 0.3547548291233284, 0.3547548291233284, 0.3547548291233284, 0.3547548291233284, 0.3547548291233284, 0.3547548291233284, 0.3547548291233284, 0.3547548291233284, 0.3547548291233284, 0.3547548291233284, 0.3547548291233284, 0.3547548291233284, 0.3547548291233284, 0.3547548291233284, 0.3547548291233284, 0.3547548291233284, 0.3547548291233284, 0.3547548291233284, 0.3547548291233284, 0.3547548291233284, 0.3547548291233284, 0.3547548291233284, 0.3547548291233284]}],\n",
       "                        {\"coloraxis\": {\"colorbar\": {\"title\": {\"text\": \"Cluster_Id\"}}, \"colorscale\": [[0.0, \"#0d0887\"], [0.1111111111111111, \"#46039f\"], [0.2222222222222222, \"#7201a8\"], [0.3333333333333333, \"#9c179e\"], [0.4444444444444444, \"#bd3786\"], [0.5555555555555556, \"#d8576b\"], [0.6666666666666666, \"#ed7953\"], [0.7777777777777778, \"#fb9f3a\"], [0.8888888888888888, \"#fdca26\"], [1.0, \"#f0f921\"]]}, \"legend\": {\"tracegroupgap\": 0}, \"margin\": {\"t\": 60}, \"scene\": {\"domain\": {\"x\": [0.0, 1.0], \"y\": [0.0, 1.0]}, \"xaxis\": {\"title\": {\"text\": \"percent\"}}, \"yaxis\": {\"title\": {\"text\": \"FVC\"}}, \"zaxis\": {\"title\": {\"text\": \"BASE\"}}}, \"template\": {\"data\": {\"bar\": [{\"error_x\": {\"color\": \"#2a3f5f\"}, \"error_y\": {\"color\": \"#2a3f5f\"}, \"marker\": {\"line\": {\"color\": \"#E5ECF6\", \"width\": 0.5}}, \"type\": \"bar\"}], \"barpolar\": [{\"marker\": {\"line\": {\"color\": \"#E5ECF6\", \"width\": 0.5}}, \"type\": \"barpolar\"}], \"carpet\": [{\"aaxis\": {\"endlinecolor\": \"#2a3f5f\", \"gridcolor\": \"white\", \"linecolor\": \"white\", \"minorgridcolor\": \"white\", \"startlinecolor\": \"#2a3f5f\"}, \"baxis\": {\"endlinecolor\": \"#2a3f5f\", \"gridcolor\": \"white\", \"linecolor\": \"white\", \"minorgridcolor\": \"white\", \"startlinecolor\": \"#2a3f5f\"}, \"type\": \"carpet\"}], \"choropleth\": [{\"colorbar\": {\"outlinewidth\": 0, \"ticks\": \"\"}, \"type\": \"choropleth\"}], \"contour\": [{\"colorbar\": {\"outlinewidth\": 0, \"ticks\": \"\"}, \"colorscale\": [[0.0, \"#0d0887\"], [0.1111111111111111, \"#46039f\"], [0.2222222222222222, \"#7201a8\"], [0.3333333333333333, \"#9c179e\"], [0.4444444444444444, \"#bd3786\"], [0.5555555555555556, \"#d8576b\"], [0.6666666666666666, \"#ed7953\"], [0.7777777777777778, \"#fb9f3a\"], [0.8888888888888888, \"#fdca26\"], [1.0, \"#f0f921\"]], \"type\": \"contour\"}], \"contourcarpet\": [{\"colorbar\": {\"outlinewidth\": 0, \"ticks\": \"\"}, \"type\": \"contourcarpet\"}], \"heatmap\": [{\"colorbar\": {\"outlinewidth\": 0, \"ticks\": \"\"}, \"colorscale\": [[0.0, \"#0d0887\"], [0.1111111111111111, \"#46039f\"], [0.2222222222222222, \"#7201a8\"], [0.3333333333333333, \"#9c179e\"], [0.4444444444444444, \"#bd3786\"], [0.5555555555555556, \"#d8576b\"], [0.6666666666666666, \"#ed7953\"], [0.7777777777777778, \"#fb9f3a\"], [0.8888888888888888, \"#fdca26\"], [1.0, \"#f0f921\"]], \"type\": \"heatmap\"}], \"heatmapgl\": [{\"colorbar\": {\"outlinewidth\": 0, \"ticks\": \"\"}, \"colorscale\": [[0.0, \"#0d0887\"], [0.1111111111111111, \"#46039f\"], [0.2222222222222222, \"#7201a8\"], [0.3333333333333333, \"#9c179e\"], [0.4444444444444444, \"#bd3786\"], [0.5555555555555556, \"#d8576b\"], [0.6666666666666666, \"#ed7953\"], [0.7777777777777778, \"#fb9f3a\"], [0.8888888888888888, \"#fdca26\"], [1.0, \"#f0f921\"]], \"type\": \"heatmapgl\"}], \"histogram\": [{\"marker\": {\"colorbar\": {\"outlinewidth\": 0, \"ticks\": \"\"}}, \"type\": \"histogram\"}], \"histogram2d\": [{\"colorbar\": {\"outlinewidth\": 0, \"ticks\": \"\"}, \"colorscale\": [[0.0, \"#0d0887\"], [0.1111111111111111, \"#46039f\"], [0.2222222222222222, \"#7201a8\"], [0.3333333333333333, \"#9c179e\"], [0.4444444444444444, \"#bd3786\"], [0.5555555555555556, \"#d8576b\"], [0.6666666666666666, \"#ed7953\"], [0.7777777777777778, \"#fb9f3a\"], [0.8888888888888888, \"#fdca26\"], [1.0, \"#f0f921\"]], \"type\": \"histogram2d\"}], \"histogram2dcontour\": [{\"colorbar\": {\"outlinewidth\": 0, \"ticks\": \"\"}, \"colorscale\": [[0.0, \"#0d0887\"], [0.1111111111111111, \"#46039f\"], [0.2222222222222222, \"#7201a8\"], [0.3333333333333333, \"#9c179e\"], [0.4444444444444444, \"#bd3786\"], [0.5555555555555556, \"#d8576b\"], [0.6666666666666666, \"#ed7953\"], [0.7777777777777778, \"#fb9f3a\"], [0.8888888888888888, \"#fdca26\"], [1.0, \"#f0f921\"]], \"type\": \"histogram2dcontour\"}], \"mesh3d\": [{\"colorbar\": {\"outlinewidth\": 0, \"ticks\": \"\"}, \"type\": \"mesh3d\"}], \"parcoords\": [{\"line\": {\"colorbar\": {\"outlinewidth\": 0, \"ticks\": \"\"}}, \"type\": \"parcoords\"}], \"pie\": [{\"automargin\": true, \"type\": \"pie\"}], \"scatter\": [{\"marker\": {\"colorbar\": {\"outlinewidth\": 0, \"ticks\": \"\"}}, \"type\": \"scatter\"}], \"scatter3d\": [{\"line\": {\"colorbar\": {\"outlinewidth\": 0, \"ticks\": \"\"}}, \"marker\": {\"colorbar\": {\"outlinewidth\": 0, \"ticks\": \"\"}}, \"type\": \"scatter3d\"}], \"scattercarpet\": [{\"marker\": {\"colorbar\": {\"outlinewidth\": 0, \"ticks\": \"\"}}, \"type\": \"scattercarpet\"}], \"scattergeo\": [{\"marker\": {\"colorbar\": {\"outlinewidth\": 0, \"ticks\": \"\"}}, \"type\": \"scattergeo\"}], \"scattergl\": [{\"marker\": {\"colorbar\": {\"outlinewidth\": 0, \"ticks\": \"\"}}, \"type\": \"scattergl\"}], \"scattermapbox\": [{\"marker\": {\"colorbar\": {\"outlinewidth\": 0, \"ticks\": \"\"}}, \"type\": \"scattermapbox\"}], \"scatterpolar\": [{\"marker\": {\"colorbar\": {\"outlinewidth\": 0, \"ticks\": \"\"}}, \"type\": \"scatterpolar\"}], \"scatterpolargl\": [{\"marker\": {\"colorbar\": {\"outlinewidth\": 0, \"ticks\": \"\"}}, \"type\": \"scatterpolargl\"}], \"scatterternary\": [{\"marker\": {\"colorbar\": {\"outlinewidth\": 0, \"ticks\": \"\"}}, \"type\": \"scatterternary\"}], \"surface\": [{\"colorbar\": {\"outlinewidth\": 0, \"ticks\": \"\"}, \"colorscale\": [[0.0, \"#0d0887\"], [0.1111111111111111, \"#46039f\"], [0.2222222222222222, \"#7201a8\"], [0.3333333333333333, \"#9c179e\"], [0.4444444444444444, \"#bd3786\"], [0.5555555555555556, \"#d8576b\"], [0.6666666666666666, \"#ed7953\"], [0.7777777777777778, \"#fb9f3a\"], [0.8888888888888888, \"#fdca26\"], [1.0, \"#f0f921\"]], \"type\": \"surface\"}], \"table\": [{\"cells\": {\"fill\": {\"color\": \"#EBF0F8\"}, \"line\": {\"color\": \"white\"}}, \"header\": {\"fill\": {\"color\": \"#C8D4E3\"}, \"line\": {\"color\": \"white\"}}, \"type\": \"table\"}]}, \"layout\": {\"annotationdefaults\": {\"arrowcolor\": \"#2a3f5f\", \"arrowhead\": 0, \"arrowwidth\": 1}, \"coloraxis\": {\"colorbar\": {\"outlinewidth\": 0, \"ticks\": \"\"}}, \"colorscale\": {\"diverging\": [[0, \"#8e0152\"], [0.1, \"#c51b7d\"], [0.2, \"#de77ae\"], [0.3, \"#f1b6da\"], [0.4, \"#fde0ef\"], [0.5, \"#f7f7f7\"], [0.6, \"#e6f5d0\"], [0.7, \"#b8e186\"], [0.8, \"#7fbc41\"], [0.9, \"#4d9221\"], [1, \"#276419\"]], \"sequential\": [[0.0, \"#0d0887\"], [0.1111111111111111, \"#46039f\"], [0.2222222222222222, \"#7201a8\"], [0.3333333333333333, \"#9c179e\"], [0.4444444444444444, \"#bd3786\"], [0.5555555555555556, \"#d8576b\"], [0.6666666666666666, \"#ed7953\"], [0.7777777777777778, \"#fb9f3a\"], [0.8888888888888888, \"#fdca26\"], [1.0, \"#f0f921\"]], \"sequentialminus\": [[0.0, \"#0d0887\"], [0.1111111111111111, \"#46039f\"], [0.2222222222222222, \"#7201a8\"], [0.3333333333333333, \"#9c179e\"], [0.4444444444444444, \"#bd3786\"], [0.5555555555555556, \"#d8576b\"], [0.6666666666666666, \"#ed7953\"], [0.7777777777777778, \"#fb9f3a\"], [0.8888888888888888, \"#fdca26\"], [1.0, \"#f0f921\"]]}, \"colorway\": [\"#636efa\", \"#EF553B\", \"#00cc96\", \"#ab63fa\", \"#FFA15A\", \"#19d3f3\", \"#FF6692\", \"#B6E880\", \"#FF97FF\", \"#FECB52\"], \"font\": {\"color\": \"#2a3f5f\"}, \"geo\": {\"bgcolor\": \"white\", \"lakecolor\": \"white\", \"landcolor\": \"#E5ECF6\", \"showlakes\": true, \"showland\": true, \"subunitcolor\": \"white\"}, \"hoverlabel\": {\"align\": \"left\"}, \"hovermode\": \"closest\", \"mapbox\": {\"style\": \"light\"}, \"paper_bgcolor\": \"white\", \"plot_bgcolor\": \"#E5ECF6\", \"polar\": {\"angularaxis\": {\"gridcolor\": \"white\", \"linecolor\": \"white\", \"ticks\": \"\"}, \"bgcolor\": \"#E5ECF6\", \"radialaxis\": {\"gridcolor\": \"white\", \"linecolor\": \"white\", \"ticks\": \"\"}}, \"scene\": {\"xaxis\": {\"backgroundcolor\": \"#E5ECF6\", \"gridcolor\": \"white\", \"gridwidth\": 2, \"linecolor\": \"white\", \"showbackground\": true, \"ticks\": \"\", \"zerolinecolor\": \"white\"}, \"yaxis\": {\"backgroundcolor\": \"#E5ECF6\", \"gridcolor\": \"white\", \"gridwidth\": 2, \"linecolor\": \"white\", \"showbackground\": true, \"ticks\": \"\", \"zerolinecolor\": \"white\"}, \"zaxis\": {\"backgroundcolor\": \"#E5ECF6\", \"gridcolor\": \"white\", \"gridwidth\": 2, \"linecolor\": \"white\", \"showbackground\": true, \"ticks\": \"\", \"zerolinecolor\": \"white\"}}, \"shapedefaults\": {\"line\": {\"color\": \"#2a3f5f\"}}, \"ternary\": {\"aaxis\": {\"gridcolor\": \"white\", \"linecolor\": \"white\", \"ticks\": \"\"}, \"baxis\": {\"gridcolor\": \"white\", \"linecolor\": \"white\", \"ticks\": \"\"}, \"bgcolor\": \"#E5ECF6\", \"caxis\": {\"gridcolor\": \"white\", \"linecolor\": \"white\", \"ticks\": \"\"}}, \"title\": {\"x\": 0.05}, \"xaxis\": {\"automargin\": true, \"gridcolor\": \"white\", \"linecolor\": \"white\", \"ticks\": \"\", \"title\": {\"standoff\": 15}, \"zerolinecolor\": \"white\", \"zerolinewidth\": 2}, \"yaxis\": {\"automargin\": true, \"gridcolor\": \"white\", \"linecolor\": \"white\", \"ticks\": \"\", \"title\": {\"standoff\": 15}, \"zerolinecolor\": \"white\", \"zerolinewidth\": 2}}}},\n",
       "                        {\"responsive\": true}\n",
       "                    ).then(function(){\n",
       "                            \n",
       "var gd = document.getElementById('e63184bf-1b5e-4f02-9763-e4920aa14722');\n",
       "var x = new MutationObserver(function (mutations, observer) {{\n",
       "        var display = window.getComputedStyle(gd).display;\n",
       "        if (!display || display === 'none') {{\n",
       "            console.log([gd, 'removed!']);\n",
       "            Plotly.purge(gd);\n",
       "            observer.disconnect();\n",
       "        }}\n",
       "}});\n",
       "\n",
       "// Listen for the removal of the full notebook cells\n",
       "var notebookContainer = gd.closest('#notebook-container');\n",
       "if (notebookContainer) {{\n",
       "    x.observe(notebookContainer, {childList: true});\n",
       "}}\n",
       "\n",
       "// Listen for the clearing of the current output cell\n",
       "var outputEl = gd.closest('.output');\n",
       "if (outputEl) {{\n",
       "    x.observe(outputEl, {childList: true});\n",
       "}}\n",
       "\n",
       "                        })\n",
       "                };\n",
       "                });\n",
       "            </script>\n",
       "        </div>"
      ]
     },
     "metadata": {},
     "output_type": "display_data"
    }
   ],
   "source": [
    "import plotly.express as px\n",
    "fig = px.scatter_3d(features_scaled, x='percent', y='FVC', z='BASE',\n",
    "              color='Cluster_Id')\n",
    "fig.show()"
   ]
  },
  {
   "cell_type": "code",
   "execution_count": 15,
   "metadata": {
    "execution": {
     "iopub.execute_input": "2020-08-09T11:49:28.522819Z",
     "iopub.status.busy": "2020-08-09T11:49:28.521851Z",
     "iopub.status.idle": "2020-08-09T11:49:29.007067Z",
     "shell.execute_reply": "2020-08-09T11:49:29.007723Z"
    },
    "papermill": {
     "duration": 0.511537,
     "end_time": "2020-08-09T11:49:29.007907",
     "exception": false,
     "start_time": "2020-08-09T11:49:28.496370",
     "status": "completed"
    },
    "tags": []
   },
   "outputs": [
    {
     "data": {
      "image/png": "[encoded data removed]",
      "text/plain": [
       "<Figure size 1080x720 with 1 Axes>"
      ]
     },
     "metadata": {},
     "output_type": "display_data"
    }
   ],
   "source": [
    "plt.figure(1 , figsize = (15 , 10))\n",
    "for cluster in [0,1]:\n",
    "    plt.scatter(x = 'percent' , y = 'FVC' , data = features_scaled[features_scaled['Cluster_Id'] == cluster] ,\n",
    "                s = 10 , alpha = 1 , label = cluster)\n",
    "plt.xlabel('percent'), plt.ylabel('FVC') \n",
    "plt.title('FVC over percent')\n",
    "plt.legend()\n",
    "plt.show()"
   ]
  },
  {
   "cell_type": "code",
   "execution_count": 16,
   "metadata": {
    "execution": {
     "iopub.execute_input": "2020-08-09T11:49:29.053000Z",
     "iopub.status.busy": "2020-08-09T11:49:29.049108Z",
     "iopub.status.idle": "2020-08-09T11:49:29.118574Z",
     "shell.execute_reply": "2020-08-09T11:49:29.119512Z"
    },
    "papermill": {
     "duration": 0.094412,
     "end_time": "2020-08-09T11:49:29.119779",
     "exception": false,
     "start_time": "2020-08-09T11:49:29.025367",
     "status": "completed"
    },
    "tags": []
   },
   "outputs": [],
   "source": [
    "algorithm = (KMeans(n_clusters =2,init='k-means++', n_init = 10 ,max_iter=10000, \n",
    "                        tol=0.0001,  random_state= 111  , algorithm='elkan') )\n",
    "algorithm.fit(features_scaled)\n",
    "data['Cluster_Id'] = algorithm.labels_\n",
    "\n",
    "del features_scaled"
   ]
  },
  {
   "cell_type": "code",
   "execution_count": 17,
   "metadata": {
    "execution": {
     "iopub.execute_input": "2020-08-09T11:49:29.172654Z",
     "iopub.status.busy": "2020-08-09T11:49:29.171628Z",
     "iopub.status.idle": "2020-08-09T11:49:29.184329Z",
     "shell.execute_reply": "2020-08-09T11:49:29.183430Z"
    },
    "papermill": {
     "duration": 0.042665,
     "end_time": "2020-08-09T11:49:29.184499",
     "exception": false,
     "start_time": "2020-08-09T11:49:29.141834",
     "status": "completed"
    },
    "tags": []
   },
   "outputs": [],
   "source": [
    "## Dummy SmokingStatus\n",
    "\n",
    "COLS = ['SmokingStatus']\n",
    "for col in COLS:\n",
    "    for mod in data[col].unique():\n",
    "        FE.append(mod)\n",
    "        data[mod] = (data[col] == mod).astype(int)\n",
    "\n"
   ]
  },
  {
   "cell_type": "code",
   "execution_count": 18,
   "metadata": {
    "execution": {
     "iopub.execute_input": "2020-08-09T11:49:29.238001Z",
     "iopub.status.busy": "2020-08-09T11:49:29.236914Z",
     "iopub.status.idle": "2020-08-09T11:49:29.256628Z",
     "shell.execute_reply": "2020-08-09T11:49:29.257542Z"
    },
    "papermill": {
     "duration": 0.051471,
     "end_time": "2020-08-09T11:49:29.257781",
     "exception": false,
     "start_time": "2020-08-09T11:49:29.206310",
     "status": "completed"
    },
    "tags": []
   },
   "outputs": [],
   "source": [
    "data = pd.get_dummies(data,columns=[\"Cluster_Id\"])\n",
    "for col in (\"Cluster_Id_0\",\"Cluster_Id_1\"):\n",
    "    data[col] = data[col].astype(int)\n",
    "    \n",
    "FE+=[\"Cluster_Id_0\",\"Cluster_Id_1\"]"
   ]
  },
  {
   "cell_type": "markdown",
   "execution_count": null,
   "metadata": {
    "papermill": {
     "duration": 0.020856,
     "end_time": "2020-08-09T11:49:29.300678",
     "exception": false,
     "start_time": "2020-08-09T11:49:29.279822",
     "status": "completed"
    },
    "tags": []
   },
   "source": [
    "## DBSCAN clustering"
   ]
  },
  {
   "cell_type": "code",
   "execution_count": 19,
   "metadata": {
    "execution": {
     "iopub.execute_input": "2020-08-09T11:49:29.548978Z",
     "iopub.status.busy": "2020-08-09T11:49:29.545770Z",
     "iopub.status.idle": "2020-08-09T11:49:29.698120Z",
     "shell.execute_reply": "2020-08-09T11:49:29.696587Z"
    },
    "papermill": {
     "duration": 0.379194,
     "end_time": "2020-08-09T11:49:29.698283",
     "exception": false,
     "start_time": "2020-08-09T11:49:29.319089",
     "status": "completed"
    },
    "tags": []
   },
   "outputs": [
    {
     "name": "stdout",
     "output_type": "stream",
     "text": [
      "Estimated number of clusters: 168\n",
      "Estimated number of noise points: 0\n",
      "Silhouette Coefficient for the  Dataset Clusters: 0.99\n"
     ]
    }
   ],
   "source": [
    "from sklearn import metrics\n",
    "#varaible1 = std.fit_transform(data[\"FVC\"])\n",
    "features_scaled  =data[[\"min_FVC\",\"percent\",\"BASE\",\"age\"]]\n",
    "\n",
    "\n",
    "## all data normalized\n",
    "inertia = []\n",
    "\n",
    "algorithm = (DBSCAN(eps=0.6, metric='euclidean',\n",
    "                        metric_params=None, algorithm=\"auto\", leaf_size=20, p=None, n_jobs=None))\n",
    "algorithm.fit(features_scaled)\n",
    "labels = algorithm.labels_\n",
    "core_samples_mask = np.zeros_like(labels, dtype=bool)\n",
    "core_samples_mask[algorithm.core_sample_indices_] = True\n",
    "n_clusters_ = len(set(labels)) - (1 if -1 in labels else 0)\n",
    "n_noise_ = list(labels).count(-1)# Printing the number of clusters and number of noise points (outliers)\n",
    "print(\"Estimated number of clusters: %d\" % n_clusters_)\n",
    "print(\"Estimated number of noise points: %d\" % n_noise_)# Evaluating the quality of clusters\n",
    "s = metrics.silhouette_score(features_scaled, algorithm.labels_)\n",
    "print(f\"Silhouette Coefficient for the  Dataset Clusters: {s:.2f}\")"
   ]
  },
  {
   "cell_type": "code",
   "execution_count": 20,
   "metadata": {
    "execution": {
     "iopub.execute_input": "2020-08-09T11:49:29.747311Z",
     "iopub.status.busy": "2020-08-09T11:49:29.746376Z",
     "iopub.status.idle": "2020-08-09T11:49:29.767427Z",
     "shell.execute_reply": "2020-08-09T11:49:29.766239Z"
    },
    "papermill": {
     "duration": 0.051741,
     "end_time": "2020-08-09T11:49:29.767576",
     "exception": false,
     "start_time": "2020-08-09T11:49:29.715835",
     "status": "completed"
    },
    "tags": []
   },
   "outputs": [],
   "source": [
    "algorithm = (DBSCAN(eps=0.5, min_samples=1, metric='euclidean',\n",
    "                        metric_params=None, algorithm=\"auto\", leaf_size=20, p=None, n_jobs=None))\n",
    "algorithm.fit(features_scaled)\n",
    "labels = algorithm.labels_"
   ]
  },
  {
   "cell_type": "code",
   "execution_count": 21,
   "metadata": {
    "execution": {
     "iopub.execute_input": "2020-08-09T11:49:29.911207Z",
     "iopub.status.busy": "2020-08-09T11:49:29.837564Z",
     "iopub.status.idle": "2020-08-09T11:49:30.034413Z",
     "shell.execute_reply": "2020-08-09T11:49:30.033741Z"
    },
    "papermill": {
     "duration": 0.251065,
     "end_time": "2020-08-09T11:49:30.034562",
     "exception": false,
     "start_time": "2020-08-09T11:49:29.783497",
     "status": "completed"
    },
    "tags": []
   },
   "outputs": [],
   "source": [
    "data['DBSCAN_CLUSTER'] = algorithm.labels_\n",
    "\n",
    "for mod in data[\"DBSCAN_CLUSTER\"].unique():\n",
    "    FE.append(mod)\n",
    "    data[mod] = (data[\"DBSCAN_CLUSTER\"] == mod).astype(int)\n"
   ]
  },
  {
   "cell_type": "code",
   "execution_count": 22,
   "metadata": {
    "execution": {
     "iopub.execute_input": "2020-08-09T11:49:30.079913Z",
     "iopub.status.busy": "2020-08-09T11:49:30.079089Z",
     "iopub.status.idle": "2020-08-09T11:49:30.099324Z",
     "shell.execute_reply": "2020-08-09T11:49:30.098618Z"
    },
    "papermill": {
     "duration": 0.047889,
     "end_time": "2020-08-09T11:49:30.099456",
     "exception": false,
     "start_time": "2020-08-09T11:49:30.051567",
     "status": "completed"
    },
    "tags": []
   },
   "outputs": [],
   "source": [
    "## Resplit the data\n",
    "train = data.loc[data.WHERE=='train']\n",
    "test = data.loc[data.WHERE=='val']\n",
    "sub = data.loc[data.WHERE=='test']\n",
    "del data"
   ]
  },
  {
   "cell_type": "code",
   "execution_count": 23,
   "metadata": {
    "execution": {
     "iopub.execute_input": "2020-08-09T11:49:30.142834Z",
     "iopub.status.busy": "2020-08-09T11:49:30.142008Z",
     "iopub.status.idle": "2020-08-09T11:49:30.150444Z",
     "shell.execute_reply": "2020-08-09T11:49:30.149763Z"
    },
    "papermill": {
     "duration": 0.03499,
     "end_time": "2020-08-09T11:49:30.150578",
     "exception": false,
     "start_time": "2020-08-09T11:49:30.115588",
     "status": "completed"
    },
    "tags": []
   },
   "outputs": [],
   "source": [
    "y = train['FVC'].values\n",
    "z = train[FE].values\n",
    "ze = sub[FE].values\n",
    "pe = np.zeros((ze.shape[0], 3))\n",
    "pred = np.zeros((z.shape[0], 3))"
   ]
  },
  {
   "cell_type": "markdown",
   "execution_count": null,
   "metadata": {
    "papermill": {
     "duration": 0.015472,
     "end_time": "2020-08-09T11:49:30.182259",
     "exception": false,
     "start_time": "2020-08-09T11:49:30.166787",
     "status": "completed"
    },
    "tags": []
   },
   "source": [
    "## Modeling"
   ]
  },
  {
   "cell_type": "code",
   "execution_count": 24,
   "metadata": {
    "execution": {
     "iopub.execute_input": "2020-08-09T11:49:30.234281Z",
     "iopub.status.busy": "2020-08-09T11:49:30.229014Z",
     "iopub.status.idle": "2020-08-09T11:49:30.375691Z",
     "shell.execute_reply": "2020-08-09T11:49:30.374891Z"
    },
    "papermill": {
     "duration": 0.17738,
     "end_time": "2020-08-09T11:49:30.375827",
     "exception": false,
     "start_time": "2020-08-09T11:49:30.198447",
     "status": "completed"
    },
    "tags": []
   },
   "outputs": [
    {
     "data": {
      "text/plain": [
       "'kernel_regularizer=regularizers.l2(1e-7),\\n               bias_regularizer=regularizers.l2(1e-7),\\n               activity_regularizer=regularizers.l1(1e-7)'"
      ]
     },
     "execution_count": 24,
     "metadata": {},
     "output_type": "execute_result"
    }
   ],
   "source": [
    "from tensorflow.keras import layers\n",
    "from keras import regularizers\n",
    "\n",
    "import keras\n",
    "C1, C2 = tf.constant(70, dtype='float32'), tf.constant(1000, dtype=\"float32\")\n",
    "#=============================#\n",
    "\n",
    "def make_model(learning_rate):\n",
    "    z = L.Input((178,), name=\"Patient\")\n",
    "\n",
    "\n",
    "    x = L.Dense(200, activation=\"relu\",use_bias=True,kernel_regularizer=regularizers.l2(1e-7),\n",
    "               bias_regularizer=regularizers.l2(1e-7),\n",
    "               activity_regularizer=regularizers.l1(1e-7))(z)   \n",
    "    keras.layers.Dropout(0.1)\n",
    "\n",
    "\n",
    "    x = L.Dense(100, activation=\"relu\",use_bias=True,kernel_regularizer=regularizers.l2(1e-7),\n",
    "               bias_regularizer=regularizers.l2(1e-7),\n",
    "               activity_regularizer=regularizers.l1(1e-7))(x)   \n",
    "    keras.layers.Dropout(0.1)\n",
    "\n",
    "  \n",
    "    x = L.Dense(10, activation=\"relu\",use_bias=True)(x)   \n",
    "    keras.layers.Dropout(0.1)\n",
    "\n",
    "\n",
    "    p1 = L.Dense(3, activation=\"linear\", name=\"p1\",use_bias=True)(x)\n",
    "    p2 = L.Dense(3, activation=\"relu\", name=\"p2\",use_bias=True)(x)\n",
    "\n",
    "\n",
    "\n",
    "\n",
    "    \n",
    "    \n",
    "    preds = L.Lambda(lambda x: x[0] + tf.cumsum(x[1], axis=1), \n",
    "                     name=\"preds\")([p1, p2])\n",
    "    \n",
    "    model = M.Model(z, preds, name=\"CNN\")\n",
    "    #model.compile(loss=qloss, optimizer=\"adam\", metrics=[score])\n",
    "    model.compile(loss=mloss(0.8), optimizer=tf.keras.optimizers.Adam(lr=learning_rate, beta_1=0.9, beta_2=0.999, epsilon=None, decay=0.01, amsgrad=False), metrics=[score])\n",
    "    return model\n",
    "\n",
    "''' x = L.Dense(90, activation=\"tanh\", name=\"d2v\",use_bias=True)(x)\n",
    "    x = L.Dense(45, activation=\"tanh\", name=\"d2f2\",use_bias=True)(x)\n",
    "    x = L.Dense(22, activation=\"tanh\", name=\"d2dfx\",use_bias=True)(x)\n",
    "    x = L.Dense(10, activation=\"tanh\", name=\"d4df5\",use_bias=True)(x) ''' \n",
    "\n",
    "'''kernel_regularizer=regularizers.l2(1e-7),\n",
    "               bias_regularizer=regularizers.l2(1e-7),\n",
    "               activity_regularizer=regularizers.l1(1e-7)'''"
   ]
  },
  {
   "cell_type": "markdown",
   "execution_count": null,
   "metadata": {
    "papermill": {
     "duration": 0.015892,
     "end_time": "2020-08-09T11:49:30.408242",
     "exception": false,
     "start_time": "2020-08-09T11:49:30.392350",
     "status": "completed"
    },
    "tags": []
   },
   "source": [
    "## Callbacks"
   ]
  },
  {
   "cell_type": "code",
   "execution_count": 25,
   "metadata": {
    "execution": {
     "iopub.execute_input": "2020-08-09T11:49:30.449807Z",
     "iopub.status.busy": "2020-08-09T11:49:30.448744Z",
     "iopub.status.idle": "2020-08-09T11:49:30.453574Z",
     "shell.execute_reply": "2020-08-09T11:49:30.452806Z"
    },
    "papermill": {
     "duration": 0.029133,
     "end_time": "2020-08-09T11:49:30.453742",
     "exception": false,
     "start_time": "2020-08-09T11:49:30.424609",
     "status": "completed"
    },
    "tags": []
   },
   "outputs": [],
   "source": [
    "## EarlyStopping\n",
    "es_callback = keras.callbacks.EarlyStopping(monitor='val_loss', patience=15) \n",
    "\n",
    "## Keras API : Models often benefit from reducing the learning rate by a factor of 2-10 once learning stagnates.\n",
    "               #This callback monitors a quantity and if no improvement is seen for a 'patience' number of epochs,the learning rate is reduced.\n",
    "reduce_lr = tf.keras.callbacks.ReduceLROnPlateau(\n",
    "    monitor='val_loss', factor=0.5, patience=5, verbose=0, mode='auto',\n",
    "    min_delta=0.0001, cooldown=0, min_lr=0.0001\n",
    ")\n",
    "\n",
    "## Tensorboard\n",
    "#tensorboard_callback = tf.keras.callbacks.TensorBoard(log_dir=\"./logs\")\n",
    "\n",
    "\n"
   ]
  },
  {
   "cell_type": "code",
   "execution_count": 26,
   "metadata": {
    "execution": {
     "iopub.execute_input": "2020-08-09T11:49:30.500992Z",
     "iopub.status.busy": "2020-08-09T11:49:30.500101Z",
     "iopub.status.idle": "2020-08-09T11:50:01.285687Z",
     "shell.execute_reply": "2020-08-09T11:50:01.284794Z"
    },
    "papermill": {
     "duration": 30.815701,
     "end_time": "2020-08-09T11:50:01.285843",
     "exception": false,
     "start_time": "2020-08-09T11:49:30.470142",
     "status": "completed"
    },
    "tags": []
   },
   "outputs": [
    {
     "name": "stdout",
     "output_type": "stream",
     "text": [
      "FOLD 1\n",
      "train [19.118013381958008, 5.681761264801025]\n",
      "val [102.64090728759766, 8.71123218536377]\n",
      "predict val...\n",
      "predict test...\n",
      "FOLD 2\n",
      "train [20.32806396484375, 5.74790096282959]\n",
      "val [95.52394104003906, 8.089376449584961]\n",
      "predict val...\n",
      "predict test...\n",
      "FOLD 3\n",
      "train [21.36916732788086, 5.777869701385498]\n",
      "val [122.54689025878906, 8.912927627563477]\n",
      "predict val...\n",
      "predict test...\n",
      "FOLD 4\n",
      "train [20.70366668701172, 5.774441719055176]\n",
      "val [107.52088165283203, 8.92888069152832]\n",
      "predict val...\n",
      "predict test...\n",
      "FOLD 5\n",
      "train [14.827981948852539, 5.4289703369140625]\n",
      "val [71.53636169433594, 8.249433517456055]\n",
      "predict val...\n",
      "predict test...\n"
     ]
    }
   ],
   "source": [
    "NFOLD = 5\n",
    "kf = KFold(n_splits=NFOLD)\n",
    "cnt = 0\n",
    "BATCH_SIZE = 16\n",
    "for tr_idx, val_idx in kf.split(z):\n",
    "    cnt += 1\n",
    "    print(f\"FOLD {cnt}\")\n",
    "    net = make_model(learning_rate=0.04)\n",
    "    net.fit(z[tr_idx], y[tr_idx], batch_size=BATCH_SIZE, epochs=1000, \n",
    "            validation_data=(z[val_idx], y[val_idx]),callbacks=[es_callback,reduce_lr], verbose=0) #\n",
    "    print(\"train\", net.evaluate(z[tr_idx], y[tr_idx], verbose=0, batch_size=BATCH_SIZE))\n",
    "    print(\"val\", net.evaluate(z[val_idx], y[val_idx], verbose=0, batch_size=BATCH_SIZE))\n",
    "    print(\"predict val...\")\n",
    "    pred[val_idx] = net.predict(z[val_idx], batch_size=BATCH_SIZE, verbose=0)\n",
    "    print(\"predict test...\")\n",
    "    pe += net.predict(ze, batch_size=BATCH_SIZE, verbose=0) / NFOLD"
   ]
  },
  {
   "cell_type": "code",
   "execution_count": 27,
   "metadata": {
    "execution": {
     "iopub.execute_input": "2020-08-09T11:50:01.329446Z",
     "iopub.status.busy": "2020-08-09T11:50:01.328593Z",
     "iopub.status.idle": "2020-08-09T11:50:01.332855Z",
     "shell.execute_reply": "2020-08-09T11:50:01.332002Z"
    },
    "papermill": {
     "duration": 0.029756,
     "end_time": "2020-08-09T11:50:01.332995",
     "exception": false,
     "start_time": "2020-08-09T11:50:01.303239",
     "status": "completed"
    },
    "tags": []
   },
   "outputs": [
    {
     "name": "stdout",
     "output_type": "stream",
     "text": [
      "261.07476802664394 89.93350949365076\n"
     ]
    }
   ],
   "source": [
    "sigma_opt = mean_absolute_error(y, pred[:, 1])\n",
    "unc = pred[:,2] - pred[:, 0]\n",
    "sigma_mean = np.mean(unc)\n",
    "print(sigma_opt, sigma_mean)"
   ]
  },
  {
   "cell_type": "code",
   "execution_count": 28,
   "metadata": {
    "execution": {
     "iopub.execute_input": "2020-08-09T11:50:01.384905Z",
     "iopub.status.busy": "2020-08-09T11:50:01.376726Z",
     "iopub.status.idle": "2020-08-09T11:50:01.774046Z",
     "shell.execute_reply": "2020-08-09T11:50:01.773233Z"
    },
    "papermill": {
     "duration": 0.424128,
     "end_time": "2020-08-09T11:50:01.774182",
     "exception": false,
     "start_time": "2020-08-09T11:50:01.350054",
     "status": "completed"
    },
    "tags": []
   },
   "outputs": [
    {
     "data": {
      "image/png": "[encoded data removed]",
      "text/plain": [
       "<Figure size 432x288 with 1 Axes>"
      ]
     },
     "metadata": {},
     "output_type": "display_data"
    }
   ],
   "source": [
    "idxs = np.random.randint(0, y.shape[0], 100)\n",
    "plt.plot(y[idxs], label=\"ground truth\")\n",
    "plt.plot(pred[idxs, 0], label=\"q25\")\n",
    "plt.plot(pred[idxs, 1], label=\"q50\")\n",
    "plt.plot(pred[idxs, 2], label=\"q75\")\n",
    "plt.legend(loc=\"best\")\n",
    "plt.show()"
   ]
  },
  {
   "cell_type": "code",
   "execution_count": 29,
   "metadata": {
    "execution": {
     "iopub.execute_input": "2020-08-09T11:50:01.823243Z",
     "iopub.status.busy": "2020-08-09T11:50:01.822348Z",
     "iopub.status.idle": "2020-08-09T11:50:02.205995Z",
     "shell.execute_reply": "2020-08-09T11:50:02.204993Z"
    },
    "papermill": {
     "duration": 0.41421,
     "end_time": "2020-08-09T11:50:02.206152",
     "exception": false,
     "start_time": "2020-08-09T11:50:01.791942",
     "status": "completed"
    },
    "tags": []
   },
   "outputs": [
    {
     "data": {
      "image/png": "[encoded data removed]",
      "text/plain": [
       "<Figure size 432x288 with 1 Axes>"
      ]
     },
     "metadata": {},
     "output_type": "display_data"
    }
   ],
   "source": [
    "plt.hist(unc)\n",
    "plt.title(\"uncertainty in prediction\")\n",
    "plt.show()"
   ]
  },
  {
   "cell_type": "code",
   "execution_count": 30,
   "metadata": {
    "execution": {
     "iopub.execute_input": "2020-08-09T11:50:02.257438Z",
     "iopub.status.busy": "2020-08-09T11:50:02.256596Z",
     "iopub.status.idle": "2020-08-09T11:50:02.260738Z",
     "shell.execute_reply": "2020-08-09T11:50:02.260085Z"
    },
    "papermill": {
     "duration": 0.034377,
     "end_time": "2020-08-09T11:50:02.260881",
     "exception": false,
     "start_time": "2020-08-09T11:50:02.226504",
     "status": "completed"
    },
    "tags": []
   },
   "outputs": [],
   "source": [
    "sub['FVC1'] = 0.996  * pe[:, 1]\n",
    "sub['Confidence1'] = pe[:, 2] - pe[:, 0]"
   ]
  },
  {
   "cell_type": "code",
   "execution_count": 31,
   "metadata": {
    "execution": {
     "iopub.execute_input": "2020-08-09T11:50:02.305837Z",
     "iopub.status.busy": "2020-08-09T11:50:02.304951Z",
     "iopub.status.idle": "2020-08-09T11:50:02.311786Z",
     "shell.execute_reply": "2020-08-09T11:50:02.310997Z"
    },
    "papermill": {
     "duration": 0.032523,
     "end_time": "2020-08-09T11:50:02.311932",
     "exception": false,
     "start_time": "2020-08-09T11:50:02.279409",
     "status": "completed"
    },
    "tags": []
   },
   "outputs": [],
   "source": [
    "subm = sub[['Patient_Week','FVC','Confidence','FVC1','Confidence1']].copy()"
   ]
  },
  {
   "cell_type": "code",
   "execution_count": 32,
   "metadata": {
    "execution": {
     "iopub.execute_input": "2020-08-09T11:50:02.367825Z",
     "iopub.status.busy": "2020-08-09T11:50:02.366877Z",
     "iopub.status.idle": "2020-08-09T11:50:02.370797Z",
     "shell.execute_reply": "2020-08-09T11:50:02.369949Z"
    },
    "papermill": {
     "duration": 0.040947,
     "end_time": "2020-08-09T11:50:02.370983",
     "exception": false,
     "start_time": "2020-08-09T11:50:02.330036",
     "status": "completed"
    },
    "tags": []
   },
   "outputs": [],
   "source": [
    "subm.loc[~subm.FVC1.isnull(),'FVC'] = subm.loc[~subm.FVC1.isnull(),'FVC1']\n",
    "if sigma_mean<70:\n",
    "    subm['Confidence'] = sigma_opt\n",
    "else:\n",
    "    subm.loc[~subm.FVC1.isnull(),'Confidence'] = subm.loc[~subm.FVC1.isnull(),'Confidence1']"
   ]
  },
  {
   "cell_type": "code",
   "execution_count": 33,
   "metadata": {
    "execution": {
     "iopub.execute_input": "2020-08-09T11:50:02.421821Z",
     "iopub.status.busy": "2020-08-09T11:50:02.420719Z",
     "iopub.status.idle": "2020-08-09T11:50:02.436880Z",
     "shell.execute_reply": "2020-08-09T11:50:02.437505Z"
    },
    "papermill": {
     "duration": 0.046709,
     "end_time": "2020-08-09T11:50:02.437769",
     "exception": false,
     "start_time": "2020-08-09T11:50:02.391060",
     "status": "completed"
    },
    "tags": []
   },
   "outputs": [
    {
     "data": {
      "text/html": [
       "<div>\n",
       "<style scoped>\n",
       "    .dataframe tbody tr th:only-of-type {\n",
       "        vertical-align: middle;\n",
       "    }\n",
       "\n",
       "    .dataframe tbody tr th {\n",
       "        vertical-align: top;\n",
       "    }\n",
       "\n",
       "    .dataframe thead th {\n",
       "        text-align: right;\n",
       "    }\n",
       "</style>\n",
       "<table border=\"1\" class=\"dataframe\">\n",
       "  <thead>\n",
       "    <tr style=\"text-align: right;\">\n",
       "      <th></th>\n",
       "      <th>Patient_Week</th>\n",
       "      <th>FVC</th>\n",
       "      <th>Confidence</th>\n",
       "      <th>FVC1</th>\n",
       "      <th>Confidence1</th>\n",
       "    </tr>\n",
       "  </thead>\n",
       "  <tbody>\n",
       "    <tr>\n",
       "      <th>1540</th>\n",
       "      <td>ID00419637202311204720264_-12</td>\n",
       "      <td>2880.553764</td>\n",
       "      <td>100.286865</td>\n",
       "      <td>2880.553764</td>\n",
       "      <td>100.286865</td>\n",
       "    </tr>\n",
       "    <tr>\n",
       "      <th>1541</th>\n",
       "      <td>ID00419637202311204720264_-11</td>\n",
       "      <td>2878.709973</td>\n",
       "      <td>100.225586</td>\n",
       "      <td>2878.709973</td>\n",
       "      <td>100.225586</td>\n",
       "    </tr>\n",
       "    <tr>\n",
       "      <th>1542</th>\n",
       "      <td>ID00419637202311204720264_-10</td>\n",
       "      <td>2876.872990</td>\n",
       "      <td>100.164673</td>\n",
       "      <td>2876.872990</td>\n",
       "      <td>100.164673</td>\n",
       "    </tr>\n",
       "    <tr>\n",
       "      <th>1543</th>\n",
       "      <td>ID00419637202311204720264_-9</td>\n",
       "      <td>2875.035885</td>\n",
       "      <td>100.103638</td>\n",
       "      <td>2875.035885</td>\n",
       "      <td>100.103638</td>\n",
       "    </tr>\n",
       "    <tr>\n",
       "      <th>1544</th>\n",
       "      <td>ID00419637202311204720264_-8</td>\n",
       "      <td>2873.198903</td>\n",
       "      <td>100.042786</td>\n",
       "      <td>2873.198903</td>\n",
       "      <td>100.042786</td>\n",
       "    </tr>\n",
       "  </tbody>\n",
       "</table>\n",
       "</div>"
      ],
      "text/plain": [
       "                       Patient_Week          FVC  Confidence         FVC1  \\\n",
       "1540  ID00419637202311204720264_-12  2880.553764  100.286865  2880.553764   \n",
       "1541  ID00419637202311204720264_-11  2878.709973  100.225586  2878.709973   \n",
       "1542  ID00419637202311204720264_-10  2876.872990  100.164673  2876.872990   \n",
       "1543   ID00419637202311204720264_-9  2875.035885  100.103638  2875.035885   \n",
       "1544   ID00419637202311204720264_-8  2873.198903  100.042786  2873.198903   \n",
       "\n",
       "      Confidence1  \n",
       "1540   100.286865  \n",
       "1541   100.225586  \n",
       "1542   100.164673  \n",
       "1543   100.103638  \n",
       "1544   100.042786  "
      ]
     },
     "execution_count": 33,
     "metadata": {},
     "output_type": "execute_result"
    }
   ],
   "source": [
    "subm.head()"
   ]
  },
  {
   "cell_type": "code",
   "execution_count": 34,
   "metadata": {
    "execution": {
     "iopub.execute_input": "2020-08-09T11:50:02.503620Z",
     "iopub.status.busy": "2020-08-09T11:50:02.489056Z",
     "iopub.status.idle": "2020-08-09T11:50:02.536918Z",
     "shell.execute_reply": "2020-08-09T11:50:02.537724Z"
    },
    "papermill": {
     "duration": 0.081275,
     "end_time": "2020-08-09T11:50:02.537966",
     "exception": false,
     "start_time": "2020-08-09T11:50:02.456691",
     "status": "completed"
    },
    "tags": []
   },
   "outputs": [],
   "source": [
    "otest = pd.read_csv('../input/osic-pulmonary-fibrosis-progression/test.csv')\n",
    "for i in range(len(otest)):\n",
    "    subm.loc[subm['Patient_Week']==otest.Patient[i]+'_'+str(otest.Weeks[i]), 'FVC'] = otest.FVC[i]\n",
    "    subm.loc[subm['Patient_Week']==otest.Patient[i]+'_'+str(otest.Weeks[i]), 'Confidence'] = 0.1"
   ]
  },
  {
   "cell_type": "code",
   "execution_count": 35,
   "metadata": {
    "execution": {
     "iopub.execute_input": "2020-08-09T11:50:02.584694Z",
     "iopub.status.busy": "2020-08-09T11:50:02.583811Z",
     "iopub.status.idle": "2020-08-09T11:50:02.660085Z",
     "shell.execute_reply": "2020-08-09T11:50:02.659140Z"
    },
    "papermill": {
     "duration": 0.102671,
     "end_time": "2020-08-09T11:50:02.660289",
     "exception": false,
     "start_time": "2020-08-09T11:50:02.557618",
     "status": "completed"
    },
    "tags": []
   },
   "outputs": [],
   "source": [
    "subm[[\"Patient_Week\",\"FVC\",\"Confidence\"]].to_csv(\"submission.csv\", index=False)"
   ]
  }
 ],
 "metadata": {
  "kernelspec": {
   "display_name": "Python 3",
   "language": "python",
   "name": "python3"
  },
  "language_info": {
   "codemirror_mode": {
    "name": "ipython",
    "version": 3
   },
   "file_extension": ".py",
   "mimetype": "text/x-python",
   "name": "python",
   "nbconvert_exporter": "python",
   "pygments_lexer": "ipython3",
   "version": "3.7.6"
  },
  "papermill": {
   "duration": 65.980387,
   "end_time": "2020-08-09T11:50:02.789080",
   "environment_variables": {},
   "exception": null,
   "input_path": "__notebook__.ipynb",
   "output_path": "__notebook__.ipynb",
   "parameters": {},
   "start_time": "2020-08-09T11:48:56.808693",
   "version": "2.1.0"
  }
 },
 "nbformat": 4,
 "nbformat_minor": 4
}
